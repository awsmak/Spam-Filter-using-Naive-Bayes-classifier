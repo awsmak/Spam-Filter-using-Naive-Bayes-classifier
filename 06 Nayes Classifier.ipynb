{
 "cells": [
  {
   "cell_type": "code",
   "execution_count": 1,
   "id": "34f0f144",
   "metadata": {},
   "outputs": [
    {
     "name": "stdout",
     "output_type": "stream",
     "text": [
      "what's up\n"
     ]
    }
   ],
   "source": [
    "print('what\\'s up')\n"
   ]
  },
  {
   "cell_type": "markdown",
   "id": "d3b78018",
   "metadata": {},
   "source": [
    "# Notebook Import"
   ]
  },
  {
   "cell_type": "code",
   "execution_count": 89,
   "id": "7ed66a62",
   "metadata": {},
   "outputs": [],
   "source": [
    "from os import walk\n",
    "from os.path import join\n",
    "\n",
    "import pandas as pd\n",
    "import matplotlib.pyplot as plt\n",
    "import numpy as np\n",
    "\n",
    "import nltk\n",
    "from nltk.stem import PorterStemmer\n",
    "from nltk.stem import SnowballStemmer\n",
    "from nltk.corpus import stopwords\n",
    "from nltk.tokenize import word_tokenize\n",
    "from wordcloud import WordCloud\n",
    "\n",
    "from bs4 import BeautifulSoup\n",
    "from PIL import Image\n",
    "\n",
    "from sklearn.model_selection import train_test_split\n",
    "\n",
    "%matplotlib inline"
   ]
  },
  {
   "cell_type": "markdown",
   "id": "97542c87",
   "metadata": {},
   "source": [
    "# Constants"
   ]
  },
  {
   "cell_type": "code",
   "execution_count": 113,
   "id": "e02fd95a",
   "metadata": {},
   "outputs": [],
   "source": [
    "EXAMPLE_FILE = 'SpamData/01_Processing/practice_email.txt'\n",
    "\n",
    "\n",
    "SPAM_1_PATH = 'SpamData/01_Processing/spam_assassin_corpus/spam_1'\n",
    "SPAM_2_PATH = 'SpamData/01_Processing/spam_assassin_corpus/spam_1'\n",
    "EASY_NOSPAM_1_PATH = 'SpamData/01_Processing/spam_assassin_corpus/easy_ham_1'\n",
    "EASY_NOSPAM_2_PATH = 'SpamData/01_Processing/spam_assassin_corpus/easy_ham_2'\n",
    "\n",
    "SPAM_CAT = 1\n",
    "HAM_CAT = 0\n",
    "VOCAB_SIZE = 2500\n",
    "\n",
    "DATA_JSON_FILE = 'SpamData/01_Processing/email-text-data.json'\n",
    "WORD_ID_FILE = 'SpamData/01_Processing/word-by-id.csv'\n",
    "\n",
    "SKULL_FILE = 'SpamData/01_Processing/wordcloud_resources/skull-icon.png'\n",
    "THUMBS_UP_FILE = 'SpamData/01_Processing/wordcloud_resources/thumbs-up.png'\n",
    "THUMBS_DOWN_FILE = 'SpamData/01_Processing/wordcloud_resources/thumbs-down.png'\n",
    "CUSTOM_FONT_FILE = 'SpamData/01_Processing/wordcloud_resources/OpenSansCondensed-Bold.ttf'\n",
    "\n",
    "\n",
    "TRAINING_DATA_FILE = 'SpamData/02_Training/train-data.txt'\n",
    "\n",
    "TEST_DATA_FILE = 'SpamData/02_Training/test-data.txt'"
   ]
  },
  {
   "cell_type": "markdown",
   "id": "b1355db5",
   "metadata": {},
   "source": [
    "# Reading Files"
   ]
  },
  {
   "cell_type": "code",
   "execution_count": 4,
   "id": "ae576636",
   "metadata": {},
   "outputs": [
    {
     "name": "stdout",
     "output_type": "stream",
     "text": [
      "From exmh-workers-admin@redhat.com  Thu Aug 22 12:36:23 2002\n",
      "Return-Path: <exmh-workers-admin@spamassassin.taint.org>\n",
      "Delivered-To: zzzz@localhost.netnoteinc.com\n",
      "Received: from localhost (localhost [127.0.0.1])\n",
      "\tby phobos.labs.netnoteinc.com (Postfix) with ESMTP id D03E543C36\n",
      "\tfor <zzzz@localhost>; Thu, 22 Aug 2002 07:36:16 -0400 (EDT)\n",
      "Received: from phobos [127.0.0.1]\n",
      "\tby localhost with IMAP (fetchmail-5.9.0)\n",
      "\tfor zzzz@localhost (single-drop); Thu, 22 Aug 2002 12:36:16 +0100 (IST)\n",
      "Received: from listman.spamassassin.taint.org (listman.spamassassin.taint.org [66.187.233.211]) by\n",
      "    dogma.slashnull.org (8.11.6/8.11.6) with ESMTP id g7MBYrZ04811 for\n",
      "    <zzzz-exmh@spamassassin.taint.org>; Thu, 22 Aug 2002 12:34:53 +0100\n",
      "Received: from listman.spamassassin.taint.org (localhost.localdomain [127.0.0.1]) by\n",
      "    listman.redhat.com (Postfix) with ESMTP id 8386540858; Thu, 22 Aug 2002\n",
      "    07:35:02 -0400 (EDT)\n",
      "Delivered-To: exmh-workers@listman.spamassassin.taint.org\n",
      "Received: from int-mx1.corp.spamassassin.taint.org (int-mx1.corp.spamassassin.taint.org\n",
      "    [172.16.52.254]) by listman.redhat.com (Postfix) with ESMTP id 10CF8406D7\n",
      "    for <exmh-workers@listman.redhat.com>; Thu, 22 Aug 2002 07:34:10 -0400\n",
      "    (EDT)\n",
      "Received: (from mail@localhost) by int-mx1.corp.spamassassin.taint.org (8.11.6/8.11.6)\n",
      "    id g7MBY7g11259 for exmh-workers@listman.redhat.com; Thu, 22 Aug 2002\n",
      "    07:34:07 -0400\n",
      "Received: from mx1.spamassassin.taint.org (mx1.spamassassin.taint.org [172.16.48.31]) by\n",
      "    int-mx1.corp.redhat.com (8.11.6/8.11.6) with SMTP id g7MBY7Y11255 for\n",
      "    <exmh-workers@redhat.com>; Thu, 22 Aug 2002 07:34:07 -0400\n",
      "Received: from ratree.psu.ac.th ([202.28.97.6]) by mx1.spamassassin.taint.org\n",
      "    (8.11.6/8.11.6) with SMTP id g7MBIhl25223 for <exmh-workers@redhat.com>;\n",
      "    Thu, 22 Aug 2002 07:18:55 -0400\n",
      "Received: from delta.cs.mu.OZ.AU (delta.coe.psu.ac.th [172.30.0.98]) by\n",
      "    ratree.psu.ac.th (8.11.6/8.11.6) with ESMTP id g7MBWel29762;\n",
      "    Thu, 22 Aug 2002 18:32:40 +0700 (ICT)\n",
      "Received: from munnari.OZ.AU (localhost [127.0.0.1]) by delta.cs.mu.OZ.AU\n",
      "    (8.11.6/8.11.6) with ESMTP id g7MBQPW13260; Thu, 22 Aug 2002 18:26:25\n",
      "    +0700 (ICT)\n",
      "From: Robert Elz <kre@munnari.OZ.AU>\n",
      "To: Chris Garrigues <cwg-dated-1030377287.06fa6d@DeepEddy.Com>\n",
      "Cc: exmh-workers@spamassassin.taint.org\n",
      "Subject: Re: New Sequences Window\n",
      "In-Reply-To: <1029945287.4797.TMDA@deepeddy.vircio.com>\n",
      "References: <1029945287.4797.TMDA@deepeddy.vircio.com>\n",
      "    <1029882468.3116.TMDA@deepeddy.vircio.com> <9627.1029933001@munnari.OZ.AU>\n",
      "    <1029943066.26919.TMDA@deepeddy.vircio.com>\n",
      "    <1029944441.398.TMDA@deepeddy.vircio.com>\n",
      "MIME-Version: 1.0\n",
      "Content-Type: text/plain; charset=us-ascii\n",
      "Message-Id: <13258.1030015585@munnari.OZ.AU>\n",
      "X-Loop: exmh-workers@spamassassin.taint.org\n",
      "Sender: exmh-workers-admin@spamassassin.taint.org\n",
      "Errors-To: exmh-workers-admin@spamassassin.taint.org\n",
      "X-Beenthere: exmh-workers@spamassassin.taint.org\n",
      "X-Mailman-Version: 2.0.1\n",
      "Precedence: bulk\n",
      "List-Help: <mailto:exmh-workers-request@spamassassin.taint.org?subject=help>\n",
      "List-Post: <mailto:exmh-workers@spamassassin.taint.org>\n",
      "List-Subscribe: <https://listman.spamassassin.taint.org/mailman/listinfo/exmh-workers>,\n",
      "    <mailto:exmh-workers-request@redhat.com?subject=subscribe>\n",
      "List-Id: Discussion list for EXMH developers <exmh-workers.spamassassin.taint.org>\n",
      "List-Unsubscribe: <https://listman.spamassassin.taint.org/mailman/listinfo/exmh-workers>,\n",
      "    <mailto:exmh-workers-request@redhat.com?subject=unsubscribe>\n",
      "List-Archive: <https://listman.spamassassin.taint.org/mailman/private/exmh-workers/>\n",
      "Date: Thu, 22 Aug 2002 18:26:25 +0700\n",
      "\n",
      "\n",
      "Dear Mr Still\n",
      "\n",
      "Good tidings to you and all your staff for the festive season ahead (Christmas).\n",
      "Now to the crux of the matter-in-hand: I am a fully qualified Santa Claus and am wondering whether you might consider me to run my own \"Santa's Grotto\" in your store.\n",
      "But WAIT! You're probably thinking: \"What makes him so special?\"\n",
      "Well, first of all, I have made several changes to the characterisation of Father Christmas. Rather than greeting the children with shouts of \"Ho, ho, ho!\" I prefer to whisper the phrase \"Dependence is not unfathomable in this cruel world we live in\". In addition, my gifts are ALL hand-made, ranging from felt hoops to vanilla-pod holders.\n",
      "You will note also, from the enclosed sketch, that I have radically redesigned Santa's outfit and have renamed my character \"Lord Buckles\". Would you be interested in employing me? I promise NEVER to let you down.\n",
      "I look forward to hearing from you.\n",
      "\n",
      "Best wishes\n",
      "Robin Cooper\n",
      "[Excerpt from the book: The Timewaster Letters by Robin Cooper]\n",
      "\n"
     ]
    }
   ],
   "source": [
    "stream = open(EXAMPLE_FILE, encoding= 'latin_1')\n",
    "message = stream.read()\n",
    "stream.close()\n",
    "print(message)"
   ]
  },
  {
   "cell_type": "code",
   "execution_count": 5,
   "id": "0ec80a6d",
   "metadata": {},
   "outputs": [
    {
     "data": {
      "text/plain": [
       "'utf-8'"
      ]
     },
     "execution_count": 5,
     "metadata": {},
     "output_type": "execute_result"
    }
   ],
   "source": [
    "import sys\n",
    "sys.getfilesystemencoding()"
   ]
  },
  {
   "cell_type": "code",
   "execution_count": null,
   "id": "6afb3f3f",
   "metadata": {},
   "outputs": [],
   "source": []
  },
  {
   "cell_type": "code",
   "execution_count": 6,
   "id": "dfe9bcd8",
   "metadata": {},
   "outputs": [
    {
     "name": "stdout",
     "output_type": "stream",
     "text": [
      "\n",
      "\n",
      "Dear Mr Still\n",
      "\n",
      "\n",
      "\n",
      "Good tidings to you and all your staff for the festive season ahead (Christmas).\n",
      "\n",
      "Now to the crux of the matter-in-hand: I am a fully qualified Santa Claus and am wondering whether you might consider me to run my own \"Santa's Grotto\" in your store.\n",
      "\n",
      "But WAIT! You're probably thinking: \"What makes him so special?\"\n",
      "\n",
      "Well, first of all, I have made several changes to the characterisation of Father Christmas. Rather than greeting the children with shouts of \"Ho, ho, ho!\" I prefer to whisper the phrase \"Dependence is not unfathomable in this cruel world we live in\". In addition, my gifts are ALL hand-made, ranging from felt hoops to vanilla-pod holders.\n",
      "\n",
      "You will note also, from the enclosed sketch, that I have radically redesigned Santa's outfit and have renamed my character \"Lord Buckles\". Would you be interested in employing me? I promise NEVER to let you down.\n",
      "\n",
      "I look forward to hearing from you.\n",
      "\n",
      "\n",
      "\n",
      "Best wishes\n",
      "\n",
      "Robin Cooper\n",
      "\n",
      "[Excerpt from the book: The Timewaster Letters by Robin Cooper]\n",
      "\n"
     ]
    }
   ],
   "source": [
    "stream = open(EXAMPLE_FILE, encoding= 'latin_1')\n",
    "is_body = False\n",
    "lines = []\n",
    "\n",
    "for line in stream:\n",
    "    if is_body:\n",
    "        lines.append(line)\n",
    "    elif line =='\\n':\n",
    "        is_body = True\n",
    "stream.close()\n",
    "\n",
    "email_body = '\\n'.join(lines)\n",
    "print(email_body)"
   ]
  },
  {
   "cell_type": "markdown",
   "id": "033a1b96",
   "metadata": {},
   "source": [
    "# Generator Functions\n",
    "\n",
    " 1. A generator-function: is defined like a normal function, but whenever it needs to generate a value, it does so with the    yield keyword rather than return. If the body of a def contains yield, the function automatically becomes a generator function.\n",
    "\n",
    " 2. Generator-Object : Generator functions return a generator object. Generator objects are used either by calling the next method on the generator object or using the generator object in a “for in” loop.\n",
    " \n",
    " 3. Applications : Suppose we to create a stream of Fibonacci numbers, adopting the generator approach makes it trivial; we just have to call next(x) to get the next Fibonacci number without bothering about where or when the stream of numbers ends.\n",
    "A more practical type of stream processing is handling large data files such as log files. Generators provide a space efficient method for such data processing as only parts of the file are handled at one given point in time. We can also use Iterators for these purposes, but Generator provides a quick way (We don’t need to write __next__ and __iter__ methods here).\n",
    " \n",
    " \n",
    " \n",
    " \n",
    " \n",
    " "
   ]
  },
  {
   "cell_type": "code",
   "execution_count": 7,
   "id": "9cc36698",
   "metadata": {},
   "outputs": [],
   "source": [
    "def generate_squares(N):\n",
    "    for my_number in range(N):\n",
    "        yield my_number ** 2"
   ]
  },
  {
   "cell_type": "code",
   "execution_count": 8,
   "id": "9f615c6e",
   "metadata": {},
   "outputs": [
    {
     "name": "stdout",
     "output_type": "stream",
     "text": [
      "0->1->4->9->16->"
     ]
    }
   ],
   "source": [
    "for i in generate_squares(5):\n",
    "    print(i, end='->')"
   ]
  },
  {
   "cell_type": "markdown",
   "id": "2b727ad5",
   "metadata": {},
   "source": [
    "# Email body extraction"
   ]
  },
  {
   "cell_type": "code",
   "execution_count": 9,
   "id": "7a390378",
   "metadata": {},
   "outputs": [],
   "source": [
    "def email_body_generator(path):\n",
    "    for root,dirnames, filenames in walk(path): #(os library)walk generates the dir, by walking the tree from top to bottom and yields a tuple (di_path,dirnames,filenames)\n",
    "        for file_name in filenames:\n",
    "            \n",
    "            filepath = join(root, file_name)\n",
    "            \n",
    "            stream = open(filepath, encoding= 'latin_1')\n",
    "            is_body = False\n",
    "            lines = []\n",
    "\n",
    "            for line in stream:\n",
    "                if is_body:\n",
    "                    lines.append(line)\n",
    "                elif line =='\\n':\n",
    "                    is_body = True\n",
    "            stream.close()\n",
    "\n",
    "            email_body = '\\n'.join(lines)\n",
    "            \n",
    "            yield file_name, email_body   # yield gives output everytime when loop is completed\n",
    "\n",
    "            "
   ]
  },
  {
   "cell_type": "code",
   "execution_count": 10,
   "id": "f927420b",
   "metadata": {},
   "outputs": [],
   "source": [
    "def df_from_directory(path, classification):\n",
    "    rows=[]\n",
    "    row_names =[]\n",
    "    \n",
    "    for file_name, email_body in email_body_generator(path):\n",
    "        rows.append({'CATEGORY': classification, 'MESSAGES': email_body })\n",
    "        row_names.append(file_name)\n",
    "        \n",
    "    return pd.DataFrame(rows, index = row_names)\n",
    "\n",
    "    "
   ]
  },
  {
   "cell_type": "code",
   "execution_count": 11,
   "id": "c9640dcb",
   "metadata": {},
   "outputs": [
    {
     "data": {
      "text/html": [
       "<div>\n",
       "<style scoped>\n",
       "    .dataframe tbody tr th:only-of-type {\n",
       "        vertical-align: middle;\n",
       "    }\n",
       "\n",
       "    .dataframe tbody tr th {\n",
       "        vertical-align: top;\n",
       "    }\n",
       "\n",
       "    .dataframe thead th {\n",
       "        text-align: right;\n",
       "    }\n",
       "</style>\n",
       "<table border=\"1\" class=\"dataframe\">\n",
       "  <thead>\n",
       "    <tr style=\"text-align: right;\">\n",
       "      <th></th>\n",
       "      <th>CATEGORY</th>\n",
       "      <th>MESSAGES</th>\n",
       "    </tr>\n",
       "  </thead>\n",
       "  <tbody>\n",
       "    <tr>\n",
       "      <th>00001.7848dde101aa985090474a91ec93fcf0</th>\n",
       "      <td>1</td>\n",
       "      <td>&lt;!DOCTYPE HTML PUBLIC \"-//W3C//DTD HTML 4.0 Tr...</td>\n",
       "    </tr>\n",
       "    <tr>\n",
       "      <th>00002.d94f1b97e48ed3b553b3508d116e6a09</th>\n",
       "      <td>1</td>\n",
       "      <td>1) Fight The Risk of Cancer!\\n\\nhttp://www.adc...</td>\n",
       "    </tr>\n",
       "    <tr>\n",
       "      <th>00003.2ee33bc6eacdb11f38d052c44819ba6c</th>\n",
       "      <td>1</td>\n",
       "      <td>1) Fight The Risk of Cancer!\\n\\nhttp://www.adc...</td>\n",
       "    </tr>\n",
       "    <tr>\n",
       "      <th>00004.eac8de8d759b7e74154f142194282724</th>\n",
       "      <td>1</td>\n",
       "      <td>##############################################...</td>\n",
       "    </tr>\n",
       "    <tr>\n",
       "      <th>00005.57696a39d7d84318ce497886896bf90d</th>\n",
       "      <td>1</td>\n",
       "      <td>I thought you might like these:\\n\\n1) Slim Dow...</td>\n",
       "    </tr>\n",
       "  </tbody>\n",
       "</table>\n",
       "</div>"
      ],
      "text/plain": [
       "                                        CATEGORY  \\\n",
       "00001.7848dde101aa985090474a91ec93fcf0         1   \n",
       "00002.d94f1b97e48ed3b553b3508d116e6a09         1   \n",
       "00003.2ee33bc6eacdb11f38d052c44819ba6c         1   \n",
       "00004.eac8de8d759b7e74154f142194282724         1   \n",
       "00005.57696a39d7d84318ce497886896bf90d         1   \n",
       "\n",
       "                                                                                 MESSAGES  \n",
       "00001.7848dde101aa985090474a91ec93fcf0  <!DOCTYPE HTML PUBLIC \"-//W3C//DTD HTML 4.0 Tr...  \n",
       "00002.d94f1b97e48ed3b553b3508d116e6a09  1) Fight The Risk of Cancer!\\n\\nhttp://www.adc...  \n",
       "00003.2ee33bc6eacdb11f38d052c44819ba6c  1) Fight The Risk of Cancer!\\n\\nhttp://www.adc...  \n",
       "00004.eac8de8d759b7e74154f142194282724  ##############################################...  \n",
       "00005.57696a39d7d84318ce497886896bf90d  I thought you might like these:\\n\\n1) Slim Dow...  "
      ]
     },
     "execution_count": 11,
     "metadata": {},
     "output_type": "execute_result"
    }
   ],
   "source": [
    "spam_emails = df_from_directory(SPAM_1_PATH, 1)\n",
    "spam_emails = spam_emails.append(df_from_directory(SPAM_2_PATH, 1))\n",
    "spam_emails.head()"
   ]
  },
  {
   "cell_type": "code",
   "execution_count": 12,
   "id": "9e4eae6a",
   "metadata": {},
   "outputs": [
    {
     "data": {
      "text/plain": [
       "(1002, 2)"
      ]
     },
     "execution_count": 12,
     "metadata": {},
     "output_type": "execute_result"
    }
   ],
   "source": [
    "spam_emails.shape"
   ]
  },
  {
   "cell_type": "code",
   "execution_count": null,
   "id": "08dd498d",
   "metadata": {},
   "outputs": [],
   "source": []
  },
  {
   "cell_type": "code",
   "execution_count": 13,
   "id": "653e4dac",
   "metadata": {},
   "outputs": [
    {
     "data": {
      "text/html": [
       "<div>\n",
       "<style scoped>\n",
       "    .dataframe tbody tr th:only-of-type {\n",
       "        vertical-align: middle;\n",
       "    }\n",
       "\n",
       "    .dataframe tbody tr th {\n",
       "        vertical-align: top;\n",
       "    }\n",
       "\n",
       "    .dataframe thead th {\n",
       "        text-align: right;\n",
       "    }\n",
       "</style>\n",
       "<table border=\"1\" class=\"dataframe\">\n",
       "  <thead>\n",
       "    <tr style=\"text-align: right;\">\n",
       "      <th></th>\n",
       "      <th>CATEGORY</th>\n",
       "      <th>MESSAGES</th>\n",
       "    </tr>\n",
       "  </thead>\n",
       "  <tbody>\n",
       "    <tr>\n",
       "      <th>00001.7848dde101aa985090474a91ec93fcf0</th>\n",
       "      <td>1</td>\n",
       "      <td>&lt;!DOCTYPE HTML PUBLIC \"-//W3C//DTD HTML 4.0 Tr...</td>\n",
       "    </tr>\n",
       "    <tr>\n",
       "      <th>00002.d94f1b97e48ed3b553b3508d116e6a09</th>\n",
       "      <td>1</td>\n",
       "      <td>1) Fight The Risk of Cancer!\\n\\nhttp://www.adc...</td>\n",
       "    </tr>\n",
       "    <tr>\n",
       "      <th>00003.2ee33bc6eacdb11f38d052c44819ba6c</th>\n",
       "      <td>1</td>\n",
       "      <td>1) Fight The Risk of Cancer!\\n\\nhttp://www.adc...</td>\n",
       "    </tr>\n",
       "    <tr>\n",
       "      <th>00004.eac8de8d759b7e74154f142194282724</th>\n",
       "      <td>1</td>\n",
       "      <td>##############################################...</td>\n",
       "    </tr>\n",
       "    <tr>\n",
       "      <th>00005.57696a39d7d84318ce497886896bf90d</th>\n",
       "      <td>1</td>\n",
       "      <td>I thought you might like these:\\n\\n1) Slim Dow...</td>\n",
       "    </tr>\n",
       "  </tbody>\n",
       "</table>\n",
       "</div>"
      ],
      "text/plain": [
       "                                        CATEGORY  \\\n",
       "00001.7848dde101aa985090474a91ec93fcf0         1   \n",
       "00002.d94f1b97e48ed3b553b3508d116e6a09         1   \n",
       "00003.2ee33bc6eacdb11f38d052c44819ba6c         1   \n",
       "00004.eac8de8d759b7e74154f142194282724         1   \n",
       "00005.57696a39d7d84318ce497886896bf90d         1   \n",
       "\n",
       "                                                                                 MESSAGES  \n",
       "00001.7848dde101aa985090474a91ec93fcf0  <!DOCTYPE HTML PUBLIC \"-//W3C//DTD HTML 4.0 Tr...  \n",
       "00002.d94f1b97e48ed3b553b3508d116e6a09  1) Fight The Risk of Cancer!\\n\\nhttp://www.adc...  \n",
       "00003.2ee33bc6eacdb11f38d052c44819ba6c  1) Fight The Risk of Cancer!\\n\\nhttp://www.adc...  \n",
       "00004.eac8de8d759b7e74154f142194282724  ##############################################...  \n",
       "00005.57696a39d7d84318ce497886896bf90d  I thought you might like these:\\n\\n1) Slim Dow...  "
      ]
     },
     "execution_count": 13,
     "metadata": {},
     "output_type": "execute_result"
    }
   ],
   "source": [
    "ham_emails = df_from_directory(EASY_NOSPAM_1_PATH, HAM_CAT)\n",
    "ham_emails = spam_emails.append(df_from_directory(EASY_NOSPAM_2_PATH, HAM_CAT))\n",
    "ham_emails.head()\n"
   ]
  },
  {
   "cell_type": "code",
   "execution_count": 14,
   "id": "4bd870c8",
   "metadata": {},
   "outputs": [
    {
     "data": {
      "text/plain": [
       "(2402, 2)"
      ]
     },
     "execution_count": 14,
     "metadata": {},
     "output_type": "execute_result"
    }
   ],
   "source": [
    "ham_emails.shape"
   ]
  },
  {
   "cell_type": "code",
   "execution_count": 15,
   "id": "6ff71a52",
   "metadata": {},
   "outputs": [
    {
     "name": "stdout",
     "output_type": "stream",
     "text": [
      "shape of entire dataframe is (3404, 2)\n"
     ]
    },
    {
     "data": {
      "text/html": [
       "<div>\n",
       "<style scoped>\n",
       "    .dataframe tbody tr th:only-of-type {\n",
       "        vertical-align: middle;\n",
       "    }\n",
       "\n",
       "    .dataframe tbody tr th {\n",
       "        vertical-align: top;\n",
       "    }\n",
       "\n",
       "    .dataframe thead th {\n",
       "        text-align: right;\n",
       "    }\n",
       "</style>\n",
       "<table border=\"1\" class=\"dataframe\">\n",
       "  <thead>\n",
       "    <tr style=\"text-align: right;\">\n",
       "      <th></th>\n",
       "      <th>CATEGORY</th>\n",
       "      <th>MESSAGES</th>\n",
       "    </tr>\n",
       "  </thead>\n",
       "  <tbody>\n",
       "    <tr>\n",
       "      <th>00001.7848dde101aa985090474a91ec93fcf0</th>\n",
       "      <td>1</td>\n",
       "      <td>&lt;!DOCTYPE HTML PUBLIC \"-//W3C//DTD HTML 4.0 Tr...</td>\n",
       "    </tr>\n",
       "    <tr>\n",
       "      <th>00002.d94f1b97e48ed3b553b3508d116e6a09</th>\n",
       "      <td>1</td>\n",
       "      <td>1) Fight The Risk of Cancer!\\n\\nhttp://www.adc...</td>\n",
       "    </tr>\n",
       "    <tr>\n",
       "      <th>00003.2ee33bc6eacdb11f38d052c44819ba6c</th>\n",
       "      <td>1</td>\n",
       "      <td>1) Fight The Risk of Cancer!\\n\\nhttp://www.adc...</td>\n",
       "    </tr>\n",
       "    <tr>\n",
       "      <th>00004.eac8de8d759b7e74154f142194282724</th>\n",
       "      <td>1</td>\n",
       "      <td>##############################################...</td>\n",
       "    </tr>\n",
       "    <tr>\n",
       "      <th>00005.57696a39d7d84318ce497886896bf90d</th>\n",
       "      <td>1</td>\n",
       "      <td>I thought you might like these:\\n\\n1) Slim Dow...</td>\n",
       "    </tr>\n",
       "  </tbody>\n",
       "</table>\n",
       "</div>"
      ],
      "text/plain": [
       "                                        CATEGORY  \\\n",
       "00001.7848dde101aa985090474a91ec93fcf0         1   \n",
       "00002.d94f1b97e48ed3b553b3508d116e6a09         1   \n",
       "00003.2ee33bc6eacdb11f38d052c44819ba6c         1   \n",
       "00004.eac8de8d759b7e74154f142194282724         1   \n",
       "00005.57696a39d7d84318ce497886896bf90d         1   \n",
       "\n",
       "                                                                                 MESSAGES  \n",
       "00001.7848dde101aa985090474a91ec93fcf0  <!DOCTYPE HTML PUBLIC \"-//W3C//DTD HTML 4.0 Tr...  \n",
       "00002.d94f1b97e48ed3b553b3508d116e6a09  1) Fight The Risk of Cancer!\\n\\nhttp://www.adc...  \n",
       "00003.2ee33bc6eacdb11f38d052c44819ba6c  1) Fight The Risk of Cancer!\\n\\nhttp://www.adc...  \n",
       "00004.eac8de8d759b7e74154f142194282724  ##############################################...  \n",
       "00005.57696a39d7d84318ce497886896bf90d  I thought you might like these:\\n\\n1) Slim Dow...  "
      ]
     },
     "execution_count": 15,
     "metadata": {},
     "output_type": "execute_result"
    }
   ],
   "source": [
    "data =pd.concat([spam_emails, ham_emails], join = 'outer')\n",
    "print('shape of entire dataframe is', data.shape)\n",
    "data.head()"
   ]
  },
  {
   "cell_type": "code",
   "execution_count": 16,
   "id": "0db3195f",
   "metadata": {},
   "outputs": [
    {
     "data": {
      "text/html": [
       "<div>\n",
       "<style scoped>\n",
       "    .dataframe tbody tr th:only-of-type {\n",
       "        vertical-align: middle;\n",
       "    }\n",
       "\n",
       "    .dataframe tbody tr th {\n",
       "        vertical-align: top;\n",
       "    }\n",
       "\n",
       "    .dataframe thead th {\n",
       "        text-align: right;\n",
       "    }\n",
       "</style>\n",
       "<table border=\"1\" class=\"dataframe\">\n",
       "  <thead>\n",
       "    <tr style=\"text-align: right;\">\n",
       "      <th></th>\n",
       "      <th>CATEGORY</th>\n",
       "      <th>MESSAGES</th>\n",
       "    </tr>\n",
       "  </thead>\n",
       "  <tbody>\n",
       "    <tr>\n",
       "      <th>01396.61983fbe6ec43f55fd44e30fce24ffa6</th>\n",
       "      <td>0</td>\n",
       "      <td>http://news.bbc.co.uk/1/hi/england/2515127.stm...</td>\n",
       "    </tr>\n",
       "    <tr>\n",
       "      <th>01397.9f9ef4c2a8dc012d80f2ce2d3473d3b7</th>\n",
       "      <td>0</td>\n",
       "      <td>&gt; &gt;-- be careful when using this one.) Also, t...</td>\n",
       "    </tr>\n",
       "    <tr>\n",
       "      <th>01398.169b51731fe569f42169ae8f948ec676</th>\n",
       "      <td>0</td>\n",
       "      <td>&gt;&gt;&gt;&gt;&gt; \"SM\" == Skip Montanaro &lt;skip@pobox.com&gt; ...</td>\n",
       "    </tr>\n",
       "    <tr>\n",
       "      <th>01399.ca6b00b7b341bbde9a9ea3dd6a7bf896</th>\n",
       "      <td>0</td>\n",
       "      <td>So then, \"Mark Hammond\" &lt;mhammond@skippinet.co...</td>\n",
       "    </tr>\n",
       "    <tr>\n",
       "      <th>01400.f897f0931e461e7b2e964d28e927c35e</th>\n",
       "      <td>0</td>\n",
       "      <td>Hi there,\\n\\n\\n\\nNow this is probably of no us...</td>\n",
       "    </tr>\n",
       "  </tbody>\n",
       "</table>\n",
       "</div>"
      ],
      "text/plain": [
       "                                        CATEGORY  \\\n",
       "01396.61983fbe6ec43f55fd44e30fce24ffa6         0   \n",
       "01397.9f9ef4c2a8dc012d80f2ce2d3473d3b7         0   \n",
       "01398.169b51731fe569f42169ae8f948ec676         0   \n",
       "01399.ca6b00b7b341bbde9a9ea3dd6a7bf896         0   \n",
       "01400.f897f0931e461e7b2e964d28e927c35e         0   \n",
       "\n",
       "                                                                                 MESSAGES  \n",
       "01396.61983fbe6ec43f55fd44e30fce24ffa6  http://news.bbc.co.uk/1/hi/england/2515127.stm...  \n",
       "01397.9f9ef4c2a8dc012d80f2ce2d3473d3b7  > >-- be careful when using this one.) Also, t...  \n",
       "01398.169b51731fe569f42169ae8f948ec676  >>>>> \"SM\" == Skip Montanaro <skip@pobox.com> ...  \n",
       "01399.ca6b00b7b341bbde9a9ea3dd6a7bf896  So then, \"Mark Hammond\" <mhammond@skippinet.co...  \n",
       "01400.f897f0931e461e7b2e964d28e927c35e  Hi there,\\n\\n\\n\\nNow this is probably of no us...  "
      ]
     },
     "execution_count": 16,
     "metadata": {},
     "output_type": "execute_result"
    }
   ],
   "source": [
    "data.tail()"
   ]
  },
  {
   "cell_type": "markdown",
   "id": "46f0aef4",
   "metadata": {},
   "source": [
    "# Data Cleaning : Checking for missing values"
   ]
  },
  {
   "cell_type": "code",
   "execution_count": 17,
   "id": "ea9ada17",
   "metadata": {},
   "outputs": [
    {
     "data": {
      "text/plain": [
       "0"
      ]
     },
     "execution_count": 17,
     "metadata": {},
     "output_type": "execute_result"
    }
   ],
   "source": [
    "#check if any message body are equal to null\n",
    "data['MESSAGES'].isnull().values.any().sum()"
   ]
  },
  {
   "cell_type": "code",
   "execution_count": 18,
   "id": "f9d7d667",
   "metadata": {},
   "outputs": [
    {
     "data": {
      "text/plain": [
       "True"
      ]
     },
     "execution_count": 18,
     "metadata": {},
     "output_type": "execute_result"
    }
   ],
   "source": [
    "#check if there are empty emails ( String length is zero)\n",
    "any(data.MESSAGES.str.len() == 0)"
   ]
  },
  {
   "cell_type": "code",
   "execution_count": 19,
   "id": "00309100",
   "metadata": {},
   "outputs": [
    {
     "data": {
      "text/plain": [
       "4"
      ]
     },
     "execution_count": 19,
     "metadata": {},
     "output_type": "execute_result"
    }
   ],
   "source": [
    "(data.MESSAGES.str.len() == 0).sum()  #sums up any true values in the X entries"
   ]
  },
  {
   "cell_type": "markdown",
   "id": "8f35be79",
   "metadata": {},
   "source": [
    "# Locate empty emails"
   ]
  },
  {
   "cell_type": "code",
   "execution_count": 20,
   "id": "747d5c8f",
   "metadata": {},
   "outputs": [
    {
     "data": {
      "text/plain": [
       "Index(['cmds', 'cmds', 'cmds', 'cmds'], dtype='object')"
      ]
     },
     "execution_count": 20,
     "metadata": {},
     "output_type": "execute_result"
    }
   ],
   "source": [
    "data[data.MESSAGES.str.len() == 0].index"
   ]
  },
  {
   "cell_type": "code",
   "execution_count": 21,
   "id": "7da40ab5",
   "metadata": {},
   "outputs": [
    {
     "data": {
      "text/plain": [
       "array([False, False, False, ..., False, False, False])"
      ]
     },
     "execution_count": 21,
     "metadata": {},
     "output_type": "execute_result"
    }
   ],
   "source": [
    "data.index.get_loc('cmds')"
   ]
  },
  {
   "cell_type": "markdown",
   "id": "3309f919",
   "metadata": {},
   "source": [
    "# Remove system file entries"
   ]
  },
  {
   "cell_type": "code",
   "execution_count": 22,
   "id": "4d71822b",
   "metadata": {},
   "outputs": [],
   "source": [
    "data.drop(['cmds'], inplace = True)"
   ]
  },
  {
   "cell_type": "code",
   "execution_count": 23,
   "id": "fa0d7613",
   "metadata": {},
   "outputs": [
    {
     "data": {
      "text/plain": [
       "(3400, 2)"
      ]
     },
     "execution_count": 23,
     "metadata": {},
     "output_type": "execute_result"
    }
   ],
   "source": [
    "data.shape"
   ]
  },
  {
   "cell_type": "markdown",
   "id": "9aa03276",
   "metadata": {},
   "source": [
    "# Add document IDs to track emails in dataset"
   ]
  },
  {
   "cell_type": "code",
   "execution_count": 24,
   "id": "fe6f48ae",
   "metadata": {},
   "outputs": [],
   "source": [
    "document_ids = range(0, len(data.index))\n",
    "data['DOC_ID'] = document_ids"
   ]
  },
  {
   "cell_type": "code",
   "execution_count": 25,
   "id": "900cd318",
   "metadata": {},
   "outputs": [
    {
     "data": {
      "text/plain": [
       "00001.7848dde101aa985090474a91ec93fcf0       0\n",
       "00002.d94f1b97e48ed3b553b3508d116e6a09       1\n",
       "00003.2ee33bc6eacdb11f38d052c44819ba6c       2\n",
       "00004.eac8de8d759b7e74154f142194282724       3\n",
       "00005.57696a39d7d84318ce497886896bf90d       4\n",
       "                                          ... \n",
       "01396.61983fbe6ec43f55fd44e30fce24ffa6    3395\n",
       "01397.9f9ef4c2a8dc012d80f2ce2d3473d3b7    3396\n",
       "01398.169b51731fe569f42169ae8f948ec676    3397\n",
       "01399.ca6b00b7b341bbde9a9ea3dd6a7bf896    3398\n",
       "01400.f897f0931e461e7b2e964d28e927c35e    3399\n",
       "Name: DOC_ID, Length: 3400, dtype: int64"
      ]
     },
     "execution_count": 25,
     "metadata": {},
     "output_type": "execute_result"
    }
   ],
   "source": [
    "data.DOC_ID"
   ]
  },
  {
   "cell_type": "code",
   "execution_count": 26,
   "id": "8e4a1898",
   "metadata": {},
   "outputs": [
    {
     "data": {
      "text/html": [
       "<div>\n",
       "<style scoped>\n",
       "    .dataframe tbody tr th:only-of-type {\n",
       "        vertical-align: middle;\n",
       "    }\n",
       "\n",
       "    .dataframe tbody tr th {\n",
       "        vertical-align: top;\n",
       "    }\n",
       "\n",
       "    .dataframe thead th {\n",
       "        text-align: right;\n",
       "    }\n",
       "</style>\n",
       "<table border=\"1\" class=\"dataframe\">\n",
       "  <thead>\n",
       "    <tr style=\"text-align: right;\">\n",
       "      <th></th>\n",
       "      <th>CATEGORY</th>\n",
       "      <th>MESSAGES</th>\n",
       "      <th>FILE_NAME</th>\n",
       "    </tr>\n",
       "    <tr>\n",
       "      <th>DOC_ID</th>\n",
       "      <th></th>\n",
       "      <th></th>\n",
       "      <th></th>\n",
       "    </tr>\n",
       "  </thead>\n",
       "  <tbody>\n",
       "    <tr>\n",
       "      <th>0</th>\n",
       "      <td>1</td>\n",
       "      <td>&lt;!DOCTYPE HTML PUBLIC \"-//W3C//DTD HTML 4.0 Tr...</td>\n",
       "      <td>00001.7848dde101aa985090474a91ec93fcf0</td>\n",
       "    </tr>\n",
       "    <tr>\n",
       "      <th>1</th>\n",
       "      <td>1</td>\n",
       "      <td>1) Fight The Risk of Cancer!\\n\\nhttp://www.adc...</td>\n",
       "      <td>00002.d94f1b97e48ed3b553b3508d116e6a09</td>\n",
       "    </tr>\n",
       "    <tr>\n",
       "      <th>2</th>\n",
       "      <td>1</td>\n",
       "      <td>1) Fight The Risk of Cancer!\\n\\nhttp://www.adc...</td>\n",
       "      <td>00003.2ee33bc6eacdb11f38d052c44819ba6c</td>\n",
       "    </tr>\n",
       "    <tr>\n",
       "      <th>3</th>\n",
       "      <td>1</td>\n",
       "      <td>##############################################...</td>\n",
       "      <td>00004.eac8de8d759b7e74154f142194282724</td>\n",
       "    </tr>\n",
       "    <tr>\n",
       "      <th>4</th>\n",
       "      <td>1</td>\n",
       "      <td>I thought you might like these:\\n\\n1) Slim Dow...</td>\n",
       "      <td>00005.57696a39d7d84318ce497886896bf90d</td>\n",
       "    </tr>\n",
       "  </tbody>\n",
       "</table>\n",
       "</div>"
      ],
      "text/plain": [
       "        CATEGORY                                           MESSAGES  \\\n",
       "DOC_ID                                                                \n",
       "0              1  <!DOCTYPE HTML PUBLIC \"-//W3C//DTD HTML 4.0 Tr...   \n",
       "1              1  1) Fight The Risk of Cancer!\\n\\nhttp://www.adc...   \n",
       "2              1  1) Fight The Risk of Cancer!\\n\\nhttp://www.adc...   \n",
       "3              1  ##############################################...   \n",
       "4              1  I thought you might like these:\\n\\n1) Slim Dow...   \n",
       "\n",
       "                                     FILE_NAME  \n",
       "DOC_ID                                          \n",
       "0       00001.7848dde101aa985090474a91ec93fcf0  \n",
       "1       00002.d94f1b97e48ed3b553b3508d116e6a09  \n",
       "2       00003.2ee33bc6eacdb11f38d052c44819ba6c  \n",
       "3       00004.eac8de8d759b7e74154f142194282724  \n",
       "4       00005.57696a39d7d84318ce497886896bf90d  "
      ]
     },
     "execution_count": 26,
     "metadata": {},
     "output_type": "execute_result"
    }
   ],
   "source": [
    "data['FILE_NAME'] = data.index\n",
    "data = data.set_index('DOC_ID')\n",
    "data.head()\n"
   ]
  },
  {
   "cell_type": "code",
   "execution_count": 27,
   "id": "1c6f5edf",
   "metadata": {},
   "outputs": [
    {
     "data": {
      "text/html": [
       "<div>\n",
       "<style scoped>\n",
       "    .dataframe tbody tr th:only-of-type {\n",
       "        vertical-align: middle;\n",
       "    }\n",
       "\n",
       "    .dataframe tbody tr th {\n",
       "        vertical-align: top;\n",
       "    }\n",
       "\n",
       "    .dataframe thead th {\n",
       "        text-align: right;\n",
       "    }\n",
       "</style>\n",
       "<table border=\"1\" class=\"dataframe\">\n",
       "  <thead>\n",
       "    <tr style=\"text-align: right;\">\n",
       "      <th></th>\n",
       "      <th>CATEGORY</th>\n",
       "      <th>MESSAGES</th>\n",
       "      <th>FILE_NAME</th>\n",
       "    </tr>\n",
       "    <tr>\n",
       "      <th>DOC_ID</th>\n",
       "      <th></th>\n",
       "      <th></th>\n",
       "      <th></th>\n",
       "    </tr>\n",
       "  </thead>\n",
       "  <tbody>\n",
       "    <tr>\n",
       "      <th>3395</th>\n",
       "      <td>0</td>\n",
       "      <td>http://news.bbc.co.uk/1/hi/england/2515127.stm...</td>\n",
       "      <td>01396.61983fbe6ec43f55fd44e30fce24ffa6</td>\n",
       "    </tr>\n",
       "    <tr>\n",
       "      <th>3396</th>\n",
       "      <td>0</td>\n",
       "      <td>&gt; &gt;-- be careful when using this one.) Also, t...</td>\n",
       "      <td>01397.9f9ef4c2a8dc012d80f2ce2d3473d3b7</td>\n",
       "    </tr>\n",
       "    <tr>\n",
       "      <th>3397</th>\n",
       "      <td>0</td>\n",
       "      <td>&gt;&gt;&gt;&gt;&gt; \"SM\" == Skip Montanaro &lt;skip@pobox.com&gt; ...</td>\n",
       "      <td>01398.169b51731fe569f42169ae8f948ec676</td>\n",
       "    </tr>\n",
       "    <tr>\n",
       "      <th>3398</th>\n",
       "      <td>0</td>\n",
       "      <td>So then, \"Mark Hammond\" &lt;mhammond@skippinet.co...</td>\n",
       "      <td>01399.ca6b00b7b341bbde9a9ea3dd6a7bf896</td>\n",
       "    </tr>\n",
       "    <tr>\n",
       "      <th>3399</th>\n",
       "      <td>0</td>\n",
       "      <td>Hi there,\\n\\n\\n\\nNow this is probably of no us...</td>\n",
       "      <td>01400.f897f0931e461e7b2e964d28e927c35e</td>\n",
       "    </tr>\n",
       "  </tbody>\n",
       "</table>\n",
       "</div>"
      ],
      "text/plain": [
       "        CATEGORY                                           MESSAGES  \\\n",
       "DOC_ID                                                                \n",
       "3395           0  http://news.bbc.co.uk/1/hi/england/2515127.stm...   \n",
       "3396           0  > >-- be careful when using this one.) Also, t...   \n",
       "3397           0  >>>>> \"SM\" == Skip Montanaro <skip@pobox.com> ...   \n",
       "3398           0  So then, \"Mark Hammond\" <mhammond@skippinet.co...   \n",
       "3399           0  Hi there,\\n\\n\\n\\nNow this is probably of no us...   \n",
       "\n",
       "                                     FILE_NAME  \n",
       "DOC_ID                                          \n",
       "3395    01396.61983fbe6ec43f55fd44e30fce24ffa6  \n",
       "3396    01397.9f9ef4c2a8dc012d80f2ce2d3473d3b7  \n",
       "3397    01398.169b51731fe569f42169ae8f948ec676  \n",
       "3398    01399.ca6b00b7b341bbde9a9ea3dd6a7bf896  \n",
       "3399    01400.f897f0931e461e7b2e964d28e927c35e  "
      ]
     },
     "execution_count": 27,
     "metadata": {},
     "output_type": "execute_result"
    }
   ],
   "source": [
    "data.tail()"
   ]
  },
  {
   "cell_type": "markdown",
   "id": "4932a2cf",
   "metadata": {},
   "source": [
    "# Save to file using pandas"
   ]
  },
  {
   "cell_type": "code",
   "execution_count": 28,
   "id": "ecb3b4e2",
   "metadata": {
    "scrolled": true
   },
   "outputs": [],
   "source": [
    "data.to_json(DATA_JSON_FILE)"
   ]
  },
  {
   "cell_type": "markdown",
   "id": "a8f4e524",
   "metadata": {},
   "source": [
    "# Number of spam messages visualised (Pie Charts)"
   ]
  },
  {
   "cell_type": "code",
   "execution_count": 29,
   "id": "4535965c",
   "metadata": {},
   "outputs": [
    {
     "data": {
      "text/plain": [
       "1    2000\n",
       "0    1400\n",
       "Name: CATEGORY, dtype: int64"
      ]
     },
     "execution_count": 29,
     "metadata": {},
     "output_type": "execute_result"
    }
   ],
   "source": [
    "data.CATEGORY.value_counts()"
   ]
  },
  {
   "cell_type": "code",
   "execution_count": 30,
   "id": "b7ca747e",
   "metadata": {},
   "outputs": [],
   "source": [
    "amount_of_spam = data.CATEGORY.value_counts()[0]\n",
    "amount_of_ham = data.CATEGORY.value_counts()[1]"
   ]
  },
  {
   "cell_type": "code",
   "execution_count": 31,
   "id": "d46c76e8",
   "metadata": {},
   "outputs": [
    {
     "data": {
      "image/png": "[encoded data removed]",
      "text/plain": [
       "<Figure size 454x454 with 1 Axes>"
      ]
     },
     "metadata": {},
     "output_type": "display_data"
    }
   ],
   "source": [
    "category_names = ['Spam', 'Legit Mail']\n",
    "sizes = [amount_of_spam, amount_of_ham]\n",
    "\n",
    "plt.figure(figsize = (2,2), dpi = 227)\n",
    "plt.pie(sizes, labels = category_names, textprops = {'fontsize': 6}, startangle = 90, autopct = '%1.1f%%' )\n",
    "plt.show()"
   ]
  },
  {
   "cell_type": "code",
   "execution_count": null,
   "id": "596f62c1",
   "metadata": {},
   "outputs": [],
   "source": []
  },
  {
   "cell_type": "code",
   "execution_count": 32,
   "id": "37ac9535",
   "metadata": {},
   "outputs": [
    {
     "data": {
      "image/png": "[encoded data removed]",
      "text/plain": [
       "<Figure size 454x454 with 1 Axes>"
      ]
     },
     "metadata": {},
     "output_type": "display_data"
    }
   ],
   "source": [
    "category_names = ['Spam', 'Legit Mail']\n",
    "sizes = [amount_of_spam, amount_of_ham]\n",
    "custom_colors = ['#ff7675', '#74b9ff']\n",
    "plt.figure(figsize = (2,2), dpi = 227)\n",
    "plt.pie(sizes, labels = category_names, textprops = {'fontsize': 6}, startangle = 90, autopct = '%1.1f%%', \n",
    "        colors = custom_colors, explode = [0, 0.1] )\n",
    "plt.show()"
   ]
  },
  {
   "cell_type": "code",
   "execution_count": null,
   "id": "80d0f439",
   "metadata": {},
   "outputs": [],
   "source": []
  },
  {
   "cell_type": "code",
   "execution_count": 33,
   "id": "e000be7f",
   "metadata": {},
   "outputs": [
    {
     "data": {
      "image/png": "[encoded data removed]",
      "text/plain": [
       "<Figure size 454x454 with 1 Axes>"
      ]
     },
     "metadata": {},
     "output_type": "display_data"
    }
   ],
   "source": [
    "category_names = ['Spam', 'Legit Mail']\n",
    "sizes = [amount_of_spam, amount_of_ham]\n",
    "custom_colors = ['#ff7675', '#74b9ff']\n",
    "plt.figure(figsize = (2,2), dpi = 227)\n",
    "plt.pie(sizes, labels = category_names, textprops = {'fontsize': 6}, startangle = 90, autopct = '%1.0f%%', \n",
    "        colors = custom_colors, pctdistance =0.8 )\n",
    "\n",
    "#drawing a circle\n",
    "centre_circle = plt.Circle((0,0), radius =0.5, fc = 'white')\n",
    "plt.gca().add_artist(centre_circle)\n",
    "plt.show()"
   ]
  },
  {
   "cell_type": "markdown",
   "id": "7355cfde",
   "metadata": {},
   "source": [
    "# Natural langusge Processing"
   ]
  },
  {
   "cell_type": "markdown",
   "id": "488da579",
   "metadata": {},
   "source": [
    "### Text Pre-Processing"
   ]
  },
  {
   "cell_type": "code",
   "execution_count": 34,
   "id": "394588bb",
   "metadata": {},
   "outputs": [
    {
     "data": {
      "text/plain": [
       "'all work and no play makes jack a dull boy.'"
      ]
     },
     "execution_count": 34,
     "metadata": {},
     "output_type": "execute_result"
    }
   ],
   "source": [
    "# converting to lower case\n",
    "msg = 'All work and no play makes Jack a dull boy.'\n",
    "msg. lower()"
   ]
  },
  {
   "cell_type": "markdown",
   "id": "80877e9d",
   "metadata": {},
   "source": [
    "## Download NLTK resourses (Tokensizer & Stopwords)"
   ]
  },
  {
   "cell_type": "code",
   "execution_count": 35,
   "id": "4f688e25",
   "metadata": {},
   "outputs": [
    {
     "name": "stderr",
     "output_type": "stream",
     "text": [
      "[nltk_data] Downloading package punkt to\n",
      "[nltk_data]     C:\\Users\\akash\\AppData\\Roaming\\nltk_data...\n",
      "[nltk_data]   Package punkt is already up-to-date!\n"
     ]
    },
    {
     "data": {
      "text/plain": [
       "True"
      ]
     },
     "execution_count": 35,
     "metadata": {},
     "output_type": "execute_result"
    }
   ],
   "source": [
    "nltk.download('punkt')"
   ]
  },
  {
   "cell_type": "markdown",
   "id": "d4585b6e",
   "metadata": {},
   "source": [
    "## Tokenising"
   ]
  },
  {
   "cell_type": "code",
   "execution_count": 36,
   "id": "10566d90",
   "metadata": {},
   "outputs": [
    {
     "data": {
      "text/plain": [
       "['all', 'work', 'and', 'no', 'play', 'makes', 'jack', 'a', 'dull', 'boy', '.']"
      ]
     },
     "execution_count": 36,
     "metadata": {},
     "output_type": "execute_result"
    }
   ],
   "source": [
    "# tokenising example\n",
    "msg = 'All work and no play makes Jack a dull boy.'\n",
    "word_tokenize(msg.lower())"
   ]
  },
  {
   "cell_type": "markdown",
   "id": "5d19d53b",
   "metadata": {},
   "source": [
    "## Removing stop words"
   ]
  },
  {
   "cell_type": "code",
   "execution_count": 37,
   "id": "7d7dca5d",
   "metadata": {},
   "outputs": [
    {
     "name": "stderr",
     "output_type": "stream",
     "text": [
      "[nltk_data] Downloading package stopwords to\n",
      "[nltk_data]     C:\\Users\\akash\\AppData\\Roaming\\nltk_data...\n",
      "[nltk_data]   Package stopwords is already up-to-date!\n"
     ]
    },
    {
     "data": {
      "text/plain": [
       "True"
      ]
     },
     "execution_count": 37,
     "metadata": {},
     "output_type": "execute_result"
    }
   ],
   "source": [
    "nltk.download('stopwords')"
   ]
  },
  {
   "cell_type": "code",
   "execution_count": 38,
   "id": "c5bf86bf",
   "metadata": {},
   "outputs": [],
   "source": [
    "stop_words = set(stopwords.words('english'))"
   ]
  },
  {
   "cell_type": "code",
   "execution_count": 39,
   "id": "9b3e56dc",
   "metadata": {},
   "outputs": [
    {
     "name": "stdout",
     "output_type": "stream",
     "text": [
      "Found it\n"
     ]
    }
   ],
   "source": [
    "if 'this' in stop_words: print('Found it')"
   ]
  },
  {
   "cell_type": "code",
   "execution_count": 40,
   "id": "13362a38",
   "metadata": {},
   "outputs": [
    {
     "name": "stdout",
     "output_type": "stream",
     "text": [
      "Nope. not in here\n",
      "Nope. not in here\n"
     ]
    }
   ],
   "source": [
    "if 'hello' in stop_words: print('Found it')\n",
    "else : print('Nope. not in here')  \n",
    "    \n",
    "    \n",
    "if 'hello' not in stop_words: print('Nope. not in here')    "
   ]
  },
  {
   "cell_type": "code",
   "execution_count": null,
   "id": "9e08e0a8",
   "metadata": {},
   "outputs": [],
   "source": []
  },
  {
   "cell_type": "code",
   "execution_count": 41,
   "id": "f166eeb2",
   "metadata": {},
   "outputs": [],
   "source": [
    "# converting to lower case\n",
    "msg = 'All work and no play makes Jack a dull boy. to be or not to be.'\n",
    "words = word_tokenize(msg. lower())\n",
    "\n",
    "filtered_words = []\n",
    "\n",
    "for word in words:\n",
    "    if word not in stop_words: filtered_words.append(word)\n",
    "        \n",
    "  \n",
    "\n"
   ]
  },
  {
   "cell_type": "markdown",
   "id": "63ee1357",
   "metadata": {},
   "source": [
    "## Word stems and Stemming"
   ]
  },
  {
   "cell_type": "code",
   "execution_count": 42,
   "id": "2d31f859",
   "metadata": {},
   "outputs": [
    {
     "name": "stdout",
     "output_type": "stream",
     "text": [
      "['work', 'play', 'make', 'jack', 'dull', 'boy', '.', '.', 'nobodi', 'expect', 'spanish', 'inquisit']\n"
     ]
    }
   ],
   "source": [
    "# converting to lower case\n",
    "msg = 'All work and no play makes Jack a dull boy. to be or not to be. \\\n",
    "         nobody expects the spanish Inquisition'\n",
    "words = word_tokenize(msg. lower())\n",
    "\n",
    "#stemmer = PorterStemmer()\n",
    "stemmer = SnowballStemmer('english')\n",
    "\n",
    "filtered_words = []\n",
    "\n",
    "for word in words:\n",
    "    if word not in stop_words:\n",
    "        stemmed_word = stemmer.stem(word)\n",
    "        filtered_words.append(stemmed_word)\n",
    "        \n",
    "  \n",
    "\n",
    "print(filtered_words)"
   ]
  },
  {
   "cell_type": "markdown",
   "id": "e84740f5",
   "metadata": {},
   "source": [
    "## Removing Punctuation"
   ]
  },
  {
   "cell_type": "code",
   "execution_count": 43,
   "id": "b0439724",
   "metadata": {},
   "outputs": [
    {
     "name": "stdout",
     "output_type": "stream",
     "text": [
      "['work', 'play', 'make', 'jack', 'dull', 'boy', 'nobodi', 'expect', 'spanish', 'inquisit']\n"
     ]
    }
   ],
   "source": [
    "# converting to lower case\n",
    "msg = 'All work and no play makes Jack a dull boy. to be or not to be. \\\n",
    "         nobody expects the spanish Inquisition'\n",
    "words = word_tokenize(msg. lower())\n",
    "\n",
    "#stemmer = PorterStemmer()\n",
    "stemmer = SnowballStemmer('english')\n",
    "\n",
    "filtered_words = []\n",
    "\n",
    "for word in words:\n",
    "    if word.isalpha() != False:\n",
    "        if word not in stop_words:\n",
    "            stemmed_word = stemmer.stem(word)\n",
    "            filtered_words.append(stemmed_word)\n",
    "        \n",
    "  \n",
    "\n",
    "print(filtered_words)"
   ]
  },
  {
   "cell_type": "code",
   "execution_count": null,
   "id": "0c44db25",
   "metadata": {},
   "outputs": [],
   "source": []
  },
  {
   "cell_type": "code",
   "execution_count": 44,
   "id": "ce718364",
   "metadata": {},
   "outputs": [
    {
     "name": "stdout",
     "output_type": "stream",
     "text": [
      "['work', 'play', 'make', 'jack', 'dull', 'boy', 'nobodi', 'expect', 'spanish', 'inquisit']\n"
     ]
    }
   ],
   "source": [
    "# converting to lower case\n",
    "msg = 'All work and no play makes Jack a dull boy. to be or not to be. \\\n",
    "         nobody expects the spanish Inquisition'\n",
    "words = word_tokenize(msg. lower())\n",
    "\n",
    "#stemmer = PorterStemmer()\n",
    "stemmer = SnowballStemmer('english')\n",
    "\n",
    "filtered_words = []\n",
    "\n",
    "for word in words:\n",
    "        if word not in stop_words and word.isalpha():\n",
    "            stemmed_word = stemmer.stem(word)\n",
    "            filtered_words.append(stemmed_word)\n",
    "        \n",
    "  \n",
    "\n",
    "print(filtered_words)"
   ]
  },
  {
   "cell_type": "markdown",
   "id": "4e4658d9",
   "metadata": {},
   "source": [
    "## Removing HTML tags"
   ]
  },
  {
   "cell_type": "code",
   "execution_count": 45,
   "id": "e3349fce",
   "metadata": {},
   "outputs": [
    {
     "name": "stdout",
     "output_type": "stream",
     "text": [
      "1) Fight The Risk of Cancer!\n",
      "\n",
      "http://www.adclick.ws/p.cfm?o=315&amp;s=pk007\n",
      "\n",
      "\n",
      "\n",
      "2) Slim Down - Guaranteed to lose 10-12 lbs in 30 days\n",
      "\n",
      "http://www.adclick.ws/p.cfm?o=249&amp;s=pk007\n",
      "\n",
      "\n",
      "\n",
      "3) Get the Child Support You Deserve - Free Legal Advice\n",
      "\n",
      "http://www.adclick.ws/p.cfm?o=245&amp;s=pk002\n",
      "\n",
      "\n",
      "\n",
      "4) Join the Web's Fastest Growing Singles Community\n",
      "\n",
      "http://www.adclick.ws/p.cfm?o=259&amp;s=pk007\n",
      "\n",
      "\n",
      "\n",
      "5) Start Your Private Photo Album Online!\n",
      "\n",
      "http://www.adclick.ws/p.cfm?o=283&amp;s=pk007\n",
      "\n",
      "\n",
      "\n",
      "Have a Wonderful Day,\n",
      "\n",
      "Offer Manager\n",
      "\n",
      "PrizeMama\n",
      "\n",
      "\n",
      "\n",
      "\n",
      "\n",
      "\n",
      "\n",
      "\n",
      "\n",
      "\n",
      "\n",
      "\n",
      "\n",
      "\n",
      "\n",
      "\n",
      "\n",
      "\n",
      "\n",
      "\n",
      "\n",
      "\n",
      "\n",
      "\n",
      "\n",
      "\n",
      "\n",
      "If you wish to leave this list please use the link below.\n",
      "\n",
      "http://www.qves.com/trim/?zzzz@spamassassin.taint.org%7C17%7C308417\n",
      "\n"
     ]
    }
   ],
   "source": [
    "\n",
    "soup = BeautifulSoup(data.at[2, 'MESSAGES'], 'html.parser')\n",
    "print(soup.prettify())"
   ]
  },
  {
   "cell_type": "code",
   "execution_count": 46,
   "id": "ec1dd161",
   "metadata": {},
   "outputs": [
    {
     "data": {
      "text/plain": [
       "\"1) Fight The Risk of Cancer!\\n\\nhttp://www.adclick.ws/p.cfm?o=315&s=pk007\\n\\n\\n\\n2) Slim Down - Guaranteed to lose 10-12 lbs in 30 days\\n\\nhttp://www.adclick.ws/p.cfm?o=249&s=pk007\\n\\n\\n\\n3) Get the Child Support You Deserve - Free Legal Advice\\n\\nhttp://www.adclick.ws/p.cfm?o=245&s=pk002\\n\\n\\n\\n4) Join the Web's Fastest Growing Singles Community\\n\\nhttp://www.adclick.ws/p.cfm?o=259&s=pk007\\n\\n\\n\\n5) Start Your Private Photo Album Online!\\n\\nhttp://www.adclick.ws/p.cfm?o=283&s=pk007\\n\\n\\n\\nHave a Wonderful Day,\\n\\nOffer Manager\\n\\nPrizeMama\\n\\n\\n\\n\\n\\n\\n\\n\\n\\n\\n\\n\\n\\n\\n\\n\\n\\n\\n\\n\\n\\n\\n\\n\\n\\n\\n\\nIf you wish to leave this list please use the link below.\\n\\nhttp://www.qves.com/trim/?zzzz@spamassassin.taint.org%7C17%7C308417\\n\\n\\n\""
      ]
     },
     "execution_count": 46,
     "metadata": {},
     "output_type": "execute_result"
    }
   ],
   "source": [
    "soup.get_text()"
   ]
  },
  {
   "cell_type": "markdown",
   "id": "a7587e9b",
   "metadata": {},
   "source": [
    "## Functions for email processing "
   ]
  },
  {
   "cell_type": "code",
   "execution_count": 47,
   "id": "1920ffed",
   "metadata": {},
   "outputs": [],
   "source": [
    "def clean_messages(message, stemmer =PorterStemmer(),\n",
    "                   stop_words = set(stopwords.words('english'))):\n",
    "    # remove HTML tags\n",
    "    soup = BeautifulSoup(message, 'html.parser')\n",
    "    cleaned_text = soup.get_text()\n",
    "    # converts to Lower Case and splits up the words\n",
    "    words = word_tokenize(cleaned_text)\n",
    "    \n",
    "    filtered_words = []\n",
    "    \n",
    "    for word in words:\n",
    "        # removes the punctuation\n",
    "        if word not in stop_words and word.isalpha():\n",
    "            filtered_words.append(stemmer.stem(word))\n",
    "#             filtered_words.append(word)\n",
    "    \n",
    "    \n",
    "    return filtered_words"
   ]
  },
  {
   "cell_type": "code",
   "execution_count": 48,
   "id": "d28d84bc",
   "metadata": {},
   "outputs": [
    {
     "data": {
      "text/plain": [
       "['dear',\n",
       " 'mr',\n",
       " 'still',\n",
       " 'good',\n",
       " 'tide',\n",
       " 'staff',\n",
       " 'festiv',\n",
       " 'season',\n",
       " 'ahead',\n",
       " 'christma',\n",
       " 'now',\n",
       " 'crux',\n",
       " 'i',\n",
       " 'fulli',\n",
       " 'qualifi',\n",
       " 'santa',\n",
       " 'clau',\n",
       " 'wonder',\n",
       " 'whether',\n",
       " 'might',\n",
       " 'consid',\n",
       " 'run',\n",
       " 'santa',\n",
       " 'grotto',\n",
       " 'store',\n",
       " 'but',\n",
       " 'wait',\n",
       " 'you',\n",
       " 'probabl',\n",
       " 'think',\n",
       " 'what',\n",
       " 'make',\n",
       " 'special',\n",
       " 'well',\n",
       " 'first',\n",
       " 'i',\n",
       " 'made',\n",
       " 'sever',\n",
       " 'chang',\n",
       " 'characteris',\n",
       " 'father',\n",
       " 'christma',\n",
       " 'rather',\n",
       " 'greet',\n",
       " 'children',\n",
       " 'shout',\n",
       " 'ho',\n",
       " 'ho',\n",
       " 'ho',\n",
       " 'i',\n",
       " 'prefer',\n",
       " 'whisper',\n",
       " 'phrase',\n",
       " 'depend',\n",
       " 'unfathom',\n",
       " 'cruel',\n",
       " 'world',\n",
       " 'live',\n",
       " 'in',\n",
       " 'addit',\n",
       " 'gift',\n",
       " 'all',\n",
       " 'rang',\n",
       " 'felt',\n",
       " 'hoop',\n",
       " 'holder',\n",
       " 'you',\n",
       " 'note',\n",
       " 'also',\n",
       " 'enclos',\n",
       " 'sketch',\n",
       " 'i',\n",
       " 'radic',\n",
       " 'redesign',\n",
       " 'santa',\n",
       " 'outfit',\n",
       " 'renam',\n",
       " 'charact',\n",
       " 'lord',\n",
       " 'buckl',\n",
       " 'would',\n",
       " 'interest',\n",
       " 'employ',\n",
       " 'i',\n",
       " 'promis',\n",
       " 'never',\n",
       " 'let',\n",
       " 'i',\n",
       " 'look',\n",
       " 'forward',\n",
       " 'hear',\n",
       " 'best',\n",
       " 'wish',\n",
       " 'robin',\n",
       " 'cooper',\n",
       " 'excerpt',\n",
       " 'book',\n",
       " 'the',\n",
       " 'timewast',\n",
       " 'letter',\n",
       " 'robin',\n",
       " 'cooper']"
      ]
     },
     "execution_count": 48,
     "metadata": {},
     "output_type": "execute_result"
    }
   ],
   "source": [
    "clean_messages(email_body)"
   ]
  },
  {
   "cell_type": "code",
   "execution_count": 49,
   "id": "44bb7eb3",
   "metadata": {},
   "outputs": [
    {
     "data": {
      "text/plain": [
       "['fight',\n",
       " 'the',\n",
       " 'risk',\n",
       " 'cancer',\n",
       " 'http',\n",
       " 'slim',\n",
       " 'down',\n",
       " 'guarante',\n",
       " 'lose',\n",
       " 'lb',\n",
       " 'day',\n",
       " 'http',\n",
       " 'get',\n",
       " 'child',\n",
       " 'support',\n",
       " 'you',\n",
       " 'deserv',\n",
       " 'free',\n",
       " 'legal',\n",
       " 'advic',\n",
       " 'http',\n",
       " 'join',\n",
       " 'web',\n",
       " 'fastest',\n",
       " 'grow',\n",
       " 'singl',\n",
       " 'commun',\n",
       " 'http',\n",
       " 'start',\n",
       " 'your',\n",
       " 'privat',\n",
       " 'photo',\n",
       " 'album',\n",
       " 'onlin',\n",
       " 'http',\n",
       " 'have',\n",
       " 'wonder',\n",
       " 'day',\n",
       " 'offer',\n",
       " 'manag',\n",
       " 'prizemama',\n",
       " 'if',\n",
       " 'wish',\n",
       " 'leav',\n",
       " 'list',\n",
       " 'pleas',\n",
       " 'use',\n",
       " 'link',\n",
       " 'http',\n",
       " 'zzzz']"
      ]
     },
     "execution_count": 49,
     "metadata": {},
     "output_type": "execute_result"
    }
   ],
   "source": [
    "clean_messages(data.at[2, 'MESSAGES'])\n"
   ]
  },
  {
   "cell_type": "markdown",
   "id": "0f550137",
   "metadata": {},
   "source": [
    "## Apply Cleaning and Tokenisation to all messages"
   ]
  },
  {
   "cell_type": "markdown",
   "id": "ec968142",
   "metadata": {},
   "source": [
    "### Slicing DataFrames and Series & Creating Subsets"
   ]
  },
  {
   "cell_type": "code",
   "execution_count": 50,
   "id": "c26645e9",
   "metadata": {},
   "outputs": [
    {
     "data": {
      "text/plain": [
       "'00003.2ee33bc6eacdb11f38d052c44819ba6c'"
      ]
     },
     "execution_count": 50,
     "metadata": {},
     "output_type": "execute_result"
    }
   ],
   "source": [
    "data.iat[2,2]"
   ]
  },
  {
   "cell_type": "code",
   "execution_count": 51,
   "id": "596d395c",
   "metadata": {},
   "outputs": [
    {
     "data": {
      "text/html": [
       "<div>\n",
       "<style scoped>\n",
       "    .dataframe tbody tr th:only-of-type {\n",
       "        vertical-align: middle;\n",
       "    }\n",
       "\n",
       "    .dataframe tbody tr th {\n",
       "        vertical-align: top;\n",
       "    }\n",
       "\n",
       "    .dataframe thead th {\n",
       "        text-align: right;\n",
       "    }\n",
       "</style>\n",
       "<table border=\"1\" class=\"dataframe\">\n",
       "  <thead>\n",
       "    <tr style=\"text-align: right;\">\n",
       "      <th></th>\n",
       "      <th>CATEGORY</th>\n",
       "      <th>MESSAGES</th>\n",
       "      <th>FILE_NAME</th>\n",
       "    </tr>\n",
       "    <tr>\n",
       "      <th>DOC_ID</th>\n",
       "      <th></th>\n",
       "      <th></th>\n",
       "      <th></th>\n",
       "    </tr>\n",
       "  </thead>\n",
       "  <tbody>\n",
       "    <tr>\n",
       "      <th>5</th>\n",
       "      <td>1</td>\n",
       "      <td>A POWERHOUSE GIFTING PROGRAM You Don't Want To...</td>\n",
       "      <td>00006.5ab5620d3d7c6c0db76234556a16f6c1</td>\n",
       "    </tr>\n",
       "    <tr>\n",
       "      <th>6</th>\n",
       "      <td>1</td>\n",
       "      <td>Help wanted.  We are a 14 year old fortune 500...</td>\n",
       "      <td>00007.d8521faf753ff9ee989122f6816f87d7</td>\n",
       "    </tr>\n",
       "    <tr>\n",
       "      <th>7</th>\n",
       "      <td>1</td>\n",
       "      <td>&lt;html&gt;\\n\\n&lt;head&gt;\\n\\n&lt;title&gt;ReliaQuote - Save U...</td>\n",
       "      <td>00008.dfd941deb10f5eed78b1594b131c9266</td>\n",
       "    </tr>\n",
       "    <tr>\n",
       "      <th>8</th>\n",
       "      <td>1</td>\n",
       "      <td>TIRED OF THE BULL OUT THERE?\\n\\nWant To Stop L...</td>\n",
       "      <td>00009.027bf6e0b0c4ab34db3ce0ea4bf2edab</td>\n",
       "    </tr>\n",
       "    <tr>\n",
       "      <th>9</th>\n",
       "      <td>1</td>\n",
       "      <td>Dear ricardo1 ,\\n\\n\\n\\n&lt;html&gt;\\n\\n&lt;body&gt;\\n\\n&lt;ce...</td>\n",
       "      <td>00010.445affef4c70feec58f9198cfbc22997</td>\n",
       "    </tr>\n",
       "    <tr>\n",
       "      <th>10</th>\n",
       "      <td>1</td>\n",
       "      <td>Cellular Phone Accessories All At Below Wholes...</td>\n",
       "      <td>00011.61816b9ad167657773a427d890d0468e</td>\n",
       "    </tr>\n",
       "  </tbody>\n",
       "</table>\n",
       "</div>"
      ],
      "text/plain": [
       "        CATEGORY                                           MESSAGES  \\\n",
       "DOC_ID                                                                \n",
       "5              1  A POWERHOUSE GIFTING PROGRAM You Don't Want To...   \n",
       "6              1  Help wanted.  We are a 14 year old fortune 500...   \n",
       "7              1  <html>\\n\\n<head>\\n\\n<title>ReliaQuote - Save U...   \n",
       "8              1  TIRED OF THE BULL OUT THERE?\\n\\nWant To Stop L...   \n",
       "9              1  Dear ricardo1 ,\\n\\n\\n\\n<html>\\n\\n<body>\\n\\n<ce...   \n",
       "10             1  Cellular Phone Accessories All At Below Wholes...   \n",
       "\n",
       "                                     FILE_NAME  \n",
       "DOC_ID                                          \n",
       "5       00006.5ab5620d3d7c6c0db76234556a16f6c1  \n",
       "6       00007.d8521faf753ff9ee989122f6816f87d7  \n",
       "7       00008.dfd941deb10f5eed78b1594b131c9266  \n",
       "8       00009.027bf6e0b0c4ab34db3ce0ea4bf2edab  \n",
       "9       00010.445affef4c70feec58f9198cfbc22997  \n",
       "10      00011.61816b9ad167657773a427d890d0468e  "
      ]
     },
     "execution_count": 51,
     "metadata": {},
     "output_type": "execute_result"
    }
   ],
   "source": [
    "data.iloc[5:11]"
   ]
  },
  {
   "cell_type": "code",
   "execution_count": 52,
   "id": "c61bf714",
   "metadata": {},
   "outputs": [],
   "source": [
    "first_emails = data.MESSAGES.iloc[0:3]\n",
    "\n",
    "nested_list = first_emails.apply(clean_messages)"
   ]
  },
  {
   "cell_type": "code",
   "execution_count": 53,
   "id": "dac25899",
   "metadata": {},
   "outputs": [],
   "source": [
    "# flat_list = []\n",
    "# for sublist in nested_list:\n",
    "#     for item in sublist:\n",
    "#         flat_list.append(item)\n",
    "# len(flat_list)        \n",
    "        \n",
    "flat_list = [item for sublist in nested_list for item in sublist]    \n",
    "    "
   ]
  },
  {
   "cell_type": "code",
   "execution_count": 54,
   "id": "b21a9cf4",
   "metadata": {},
   "outputs": [
    {
     "data": {
      "text/plain": [
       "['save',\n",
       " 'life',\n",
       " 'insur',\n",
       " 'whi',\n",
       " 'spend',\n",
       " 'more',\n",
       " 'than',\n",
       " 'you',\n",
       " 'have',\n",
       " 'to',\n",
       " 'life',\n",
       " 'quot',\n",
       " 'save',\n",
       " 'g',\n",
       " 'famili',\n",
       " 'financi',\n",
       " 'secur',\n",
       " 'import',\n",
       " 'life',\n",
       " 'quot',\n",
       " 'save',\n",
       " 'ke',\n",
       " 'buy',\n",
       " 'life',\n",
       " 'insur',\n",
       " 'simpl',\n",
       " 'afford',\n",
       " 'we',\n",
       " 'provid',\n",
       " 'free',\n",
       " 'access',\n",
       " 'the',\n",
       " 'veri',\n",
       " 'best',\n",
       " 'compani',\n",
       " 'the',\n",
       " 'lowest',\n",
       " 'rate',\n",
       " 'life',\n",
       " 'quot',\n",
       " 'save',\n",
       " 'fast',\n",
       " 'y',\n",
       " 'save',\n",
       " 'money',\n",
       " 'let',\n",
       " 'us',\n",
       " 'help',\n",
       " 'get',\n",
       " 'start',\n",
       " 'best',\n",
       " 'ue',\n",
       " 'countri',\n",
       " 'new',\n",
       " 'coverag',\n",
       " 'you',\n",
       " 'save',\n",
       " 'hundr',\n",
       " 'even',\n",
       " 'usand',\n",
       " 'dollar',\n",
       " 'request',\n",
       " 'free',\n",
       " 'quot',\n",
       " 'lifequot',\n",
       " 'save',\n",
       " 'our',\n",
       " 'servic',\n",
       " 'take',\n",
       " 'less',\n",
       " 'minut',\n",
       " 'complet',\n",
       " 'shop',\n",
       " 'compar',\n",
       " 'save',\n",
       " 'type',\n",
       " 'life',\n",
       " 'insur',\n",
       " 'click',\n",
       " 'here',\n",
       " 'for',\n",
       " 'free',\n",
       " 'quot',\n",
       " 'protect',\n",
       " 'famili',\n",
       " 'best',\n",
       " 'invest',\n",
       " 'r',\n",
       " 'make',\n",
       " 'if',\n",
       " 'receipt',\n",
       " 'email',\n",
       " 'error',\n",
       " 'wish',\n",
       " 'remov',\n",
       " 'list',\n",
       " 'pleas',\n",
       " 'click',\n",
       " 'here',\n",
       " 'and',\n",
       " 'type',\n",
       " 'remov',\n",
       " 'if',\n",
       " 'resid',\n",
       " 'state',\n",
       " 'prohibit',\n",
       " 'solicit',\n",
       " 'ce',\n",
       " 'pleas',\n",
       " 'disregard',\n",
       " 'email',\n",
       " 'fight',\n",
       " 'the',\n",
       " 'risk',\n",
       " 'cancer',\n",
       " 'http',\n",
       " 'slim',\n",
       " 'down',\n",
       " 'guarante',\n",
       " 'lose',\n",
       " 'lb',\n",
       " 'day',\n",
       " 'http',\n",
       " 'get',\n",
       " 'child',\n",
       " 'support',\n",
       " 'you',\n",
       " 'deserv',\n",
       " 'free',\n",
       " 'legal',\n",
       " 'advic',\n",
       " 'http',\n",
       " 'join',\n",
       " 'web',\n",
       " 'fastest',\n",
       " 'grow',\n",
       " 'singl',\n",
       " 'commun',\n",
       " 'http',\n",
       " 'start',\n",
       " 'your',\n",
       " 'privat',\n",
       " 'photo',\n",
       " 'album',\n",
       " 'onlin',\n",
       " 'http',\n",
       " 'have',\n",
       " 'wonder',\n",
       " 'day',\n",
       " 'offer',\n",
       " 'manag',\n",
       " 'prizemama',\n",
       " 'if',\n",
       " 'wish',\n",
       " 'leav',\n",
       " 'list',\n",
       " 'pleas',\n",
       " 'use',\n",
       " 'link',\n",
       " 'http',\n",
       " 'ilug',\n",
       " 'irish',\n",
       " 'linux',\n",
       " 'user',\n",
       " 'group',\n",
       " 'ilug',\n",
       " 'http',\n",
       " 'un',\n",
       " 'subscript',\n",
       " 'inform',\n",
       " 'list',\n",
       " 'maintain',\n",
       " 'listmast',\n",
       " 'fight',\n",
       " 'the',\n",
       " 'risk',\n",
       " 'cancer',\n",
       " 'http',\n",
       " 'slim',\n",
       " 'down',\n",
       " 'guarante',\n",
       " 'lose',\n",
       " 'lb',\n",
       " 'day',\n",
       " 'http',\n",
       " 'get',\n",
       " 'child',\n",
       " 'support',\n",
       " 'you',\n",
       " 'deserv',\n",
       " 'free',\n",
       " 'legal',\n",
       " 'advic',\n",
       " 'http',\n",
       " 'join',\n",
       " 'web',\n",
       " 'fastest',\n",
       " 'grow',\n",
       " 'singl',\n",
       " 'commun',\n",
       " 'http',\n",
       " 'start',\n",
       " 'your',\n",
       " 'privat',\n",
       " 'photo',\n",
       " 'album',\n",
       " 'onlin',\n",
       " 'http',\n",
       " 'have',\n",
       " 'wonder',\n",
       " 'day',\n",
       " 'offer',\n",
       " 'manag',\n",
       " 'prizemama',\n",
       " 'if',\n",
       " 'wish',\n",
       " 'leav',\n",
       " 'list',\n",
       " 'pleas',\n",
       " 'use',\n",
       " 'link',\n",
       " 'http',\n",
       " 'zzzz']"
      ]
     },
     "execution_count": 54,
     "metadata": {},
     "output_type": "execute_result"
    }
   ],
   "source": [
    "flat_list"
   ]
  },
  {
   "cell_type": "code",
   "execution_count": 55,
   "id": "dcc1fa54",
   "metadata": {},
   "outputs": [
    {
     "name": "stdout",
     "output_type": "stream",
     "text": [
      "Wall time: 22.3 s\n"
     ]
    }
   ],
   "source": [
    "%%time\n",
    "# use apply() on ll the messages in the dataframe\n",
    "nested_list = data.MESSAGES.apply(clean_messages)"
   ]
  },
  {
   "cell_type": "code",
   "execution_count": 56,
   "id": "0496ebf7",
   "metadata": {},
   "outputs": [
    {
     "data": {
      "text/plain": [
       "DOC_ID\n",
       "3395    [http, a, bizarr, collect, stuf, anim, could, ...\n",
       "3396    [care, use, one, also, realli, cute, thing, ja...\n",
       "3397    [sm, skip, montanaro, write, jeremi, put, anot...\n",
       "3398    [so, mark, hammond, like, so, given, zodb, sou...\n",
       "3399    [hi, now, probabl, use, whatsoev, not, i, also...\n",
       "Name: MESSAGES, dtype: object"
      ]
     },
     "execution_count": 56,
     "metadata": {},
     "output_type": "execute_result"
    }
   ],
   "source": [
    "nested_list.tail()"
   ]
  },
  {
   "cell_type": "markdown",
   "id": "c09fe136",
   "metadata": {},
   "source": [
    "### Using logic to slice DataFrames"
   ]
  },
  {
   "cell_type": "code",
   "execution_count": 57,
   "id": "4524ca94",
   "metadata": {},
   "outputs": [
    {
     "data": {
      "text/plain": [
       "(2000, 3)"
      ]
     },
     "execution_count": 57,
     "metadata": {},
     "output_type": "execute_result"
    }
   ],
   "source": [
    "data[data.CATEGORY == 1].shape"
   ]
  },
  {
   "cell_type": "code",
   "execution_count": 58,
   "id": "d0c04e73",
   "metadata": {},
   "outputs": [
    {
     "data": {
      "text/html": [
       "<div>\n",
       "<style scoped>\n",
       "    .dataframe tbody tr th:only-of-type {\n",
       "        vertical-align: middle;\n",
       "    }\n",
       "\n",
       "    .dataframe tbody tr th {\n",
       "        vertical-align: top;\n",
       "    }\n",
       "\n",
       "    .dataframe thead th {\n",
       "        text-align: right;\n",
       "    }\n",
       "</style>\n",
       "<table border=\"1\" class=\"dataframe\">\n",
       "  <thead>\n",
       "    <tr style=\"text-align: right;\">\n",
       "      <th></th>\n",
       "      <th>CATEGORY</th>\n",
       "      <th>MESSAGES</th>\n",
       "      <th>FILE_NAME</th>\n",
       "    </tr>\n",
       "    <tr>\n",
       "      <th>DOC_ID</th>\n",
       "      <th></th>\n",
       "      <th></th>\n",
       "      <th></th>\n",
       "    </tr>\n",
       "  </thead>\n",
       "  <tbody>\n",
       "    <tr>\n",
       "      <th>1995</th>\n",
       "      <td>1</td>\n",
       "      <td>&lt;html&gt;\\n\\n&lt;head&gt;\\n\\n&lt;title&gt;Toy&lt;/title&gt;\\n\\n&lt;/he...</td>\n",
       "      <td>00496.1a37de098f6c8847c3c7839d73cc7106</td>\n",
       "    </tr>\n",
       "    <tr>\n",
       "      <th>1996</th>\n",
       "      <td>1</td>\n",
       "      <td>&lt;html&gt;\\n\\n&lt;head&gt;\\n\\n&lt;title&gt;Untitled Document&lt;/...</td>\n",
       "      <td>00497.ebf699da617b11135f3aa9173b9781b9</td>\n",
       "    </tr>\n",
       "    <tr>\n",
       "      <th>1997</th>\n",
       "      <td>1</td>\n",
       "      <td>This is an HTML email message.  If you see thi...</td>\n",
       "      <td>00498.48c3098854d339353f1a28a13b196017</td>\n",
       "    </tr>\n",
       "    <tr>\n",
       "      <th>1998</th>\n",
       "      <td>1</td>\n",
       "      <td>&lt;html&gt;\\n\\n&lt;head&gt;\\n\\n&lt;/head&gt;\\n\\n  &lt;body backgro...</td>\n",
       "      <td>00499.988506a852cf86b396771a8bdc8cf839</td>\n",
       "    </tr>\n",
       "    <tr>\n",
       "      <th>1999</th>\n",
       "      <td>1</td>\n",
       "      <td>&lt;STYLE type=\"text/css\"&gt;\\n\\n&lt;!--\\n\\nP{\\n\\n  fon...</td>\n",
       "      <td>00500.85b72f09f6778a085dc8b6821965a76f</td>\n",
       "    </tr>\n",
       "  </tbody>\n",
       "</table>\n",
       "</div>"
      ],
      "text/plain": [
       "        CATEGORY                                           MESSAGES  \\\n",
       "DOC_ID                                                                \n",
       "1995           1  <html>\\n\\n<head>\\n\\n<title>Toy</title>\\n\\n</he...   \n",
       "1996           1  <html>\\n\\n<head>\\n\\n<title>Untitled Document</...   \n",
       "1997           1  This is an HTML email message.  If you see thi...   \n",
       "1998           1  <html>\\n\\n<head>\\n\\n</head>\\n\\n  <body backgro...   \n",
       "1999           1  <STYLE type=\"text/css\">\\n\\n<!--\\n\\nP{\\n\\n  fon...   \n",
       "\n",
       "                                     FILE_NAME  \n",
       "DOC_ID                                          \n",
       "1995    00496.1a37de098f6c8847c3c7839d73cc7106  \n",
       "1996    00497.ebf699da617b11135f3aa9173b9781b9  \n",
       "1997    00498.48c3098854d339353f1a28a13b196017  \n",
       "1998    00499.988506a852cf86b396771a8bdc8cf839  \n",
       "1999    00500.85b72f09f6778a085dc8b6821965a76f  "
      ]
     },
     "execution_count": 58,
     "metadata": {},
     "output_type": "execute_result"
    }
   ],
   "source": [
    "data[data.CATEGORY == 1].tail()"
   ]
  },
  {
   "cell_type": "code",
   "execution_count": 59,
   "id": "09aa8f75",
   "metadata": {},
   "outputs": [],
   "source": [
    "doc_ids_spam = data[data.CATEGORY ==1].index\n",
    "doc_ids_ham = data[data.CATEGORY ==0].index\n"
   ]
  },
  {
   "cell_type": "markdown",
   "id": "20b1f528",
   "metadata": {},
   "source": [
    "## Subsetting a Series with an index"
   ]
  },
  {
   "cell_type": "code",
   "execution_count": 60,
   "id": "51b4111d",
   "metadata": {},
   "outputs": [],
   "source": [
    "nested_list_ham = nested_list.loc[doc_ids_ham]"
   ]
  },
  {
   "cell_type": "code",
   "execution_count": 61,
   "id": "a944a9ed",
   "metadata": {},
   "outputs": [
    {
     "data": {
      "text/plain": [
       "(1400,)"
      ]
     },
     "execution_count": 61,
     "metadata": {},
     "output_type": "execute_result"
    }
   ],
   "source": [
    "nested_list_ham.shape\n"
   ]
  },
  {
   "cell_type": "code",
   "execution_count": 62,
   "id": "fa64a80e",
   "metadata": {},
   "outputs": [],
   "source": [
    "nested_list_spam = nested_list.loc[doc_ids_spam]"
   ]
  },
  {
   "cell_type": "code",
   "execution_count": 63,
   "id": "62a29263",
   "metadata": {},
   "outputs": [
    {
     "name": "stdout",
     "output_type": "stream",
     "text": [
      "Int64Index([2000, 2001, 2002, 2003, 2004, 2005, 2006, 2007, 2008, 2009,\n",
      "            ...\n",
      "            3390, 3391, 3392, 3393, 3394, 3395, 3396, 3397, 3398, 3399],\n",
      "           dtype='int64', name='DOC_ID', length=1400)\n"
     ]
    }
   ],
   "source": [
    "len(doc_ids_spam)\n",
    "print(doc_ids_ham)"
   ]
  },
  {
   "cell_type": "code",
   "execution_count": 64,
   "id": "fc0d90f3",
   "metadata": {},
   "outputs": [],
   "source": [
    "#my answer\n",
    "def no_of_words(list_):\n",
    "    length = 0\n",
    "    for sublist in list_:\n",
    "        for item in sublist:\n",
    "            length = length + len(sublist)\n",
    "    return length   "
   ]
  },
  {
   "cell_type": "code",
   "execution_count": 65,
   "id": "3a7549a7",
   "metadata": {},
   "outputs": [
    {
     "name": "stdout",
     "output_type": "stream",
     "text": [
      "toltal no. of words in the entire list: 584058760\n",
      "toltal no. of words in the spam list: 384444272\n",
      "toltal no. of words in the non-spam list: 199614488\n"
     ]
    }
   ],
   "source": [
    "all_words = no_of_words(nested_list)\n",
    "all_spam_words = no_of_words(nested_list_spam)\n",
    "all_ham_words = no_of_words(nested_list_ham)\n",
    "\n",
    "print('toltal no. of words in the entire list:',all_words)\n",
    "print('toltal no. of words in the spam list:',all_spam_words)\n",
    "print('toltal no. of words in the non-spam list:',all_ham_words)\n"
   ]
  },
  {
   "cell_type": "code",
   "execution_count": 66,
   "id": "767062e1",
   "metadata": {},
   "outputs": [
    {
     "data": {
      "text/plain": [
       "12787"
      ]
     },
     "execution_count": 66,
     "metadata": {},
     "output_type": "execute_result"
    }
   ],
   "source": [
    "#original method\n",
    "flat_list_ham = [item for sublist in nested_list_ham for item in sublist]\n",
    "normal_words = pd.Series(flat_list_ham).value_counts()\n",
    "\n",
    "normal_words.shape[0]#total no. of unique words in non-spam mesages]\n"
   ]
  },
  {
   "cell_type": "code",
   "execution_count": 67,
   "id": "52779051",
   "metadata": {},
   "outputs": [
    {
     "data": {
      "text/plain": [
       "i        5038\n",
       "http     3251\n",
       "the      1582\n",
       "use      1509\n",
       "list     1494\n",
       "one      1035\n",
       "mail     1017\n",
       "user      952\n",
       "linux     915\n",
       "get       905\n",
       "dtype: int64"
      ]
     },
     "execution_count": 67,
     "metadata": {},
     "output_type": "execute_result"
    }
   ],
   "source": [
    "normal_words[:10]"
   ]
  },
  {
   "cell_type": "code",
   "execution_count": null,
   "id": "8b0f2978",
   "metadata": {},
   "outputs": [],
   "source": []
  },
  {
   "cell_type": "code",
   "execution_count": 68,
   "id": "2b955b92",
   "metadata": {},
   "outputs": [
    {
     "data": {
      "text/plain": [
       "7235"
      ]
     },
     "execution_count": 68,
     "metadata": {},
     "output_type": "execute_result"
    }
   ],
   "source": [
    "#original method\n",
    "flat_list_spam = [item for sublist in nested_list_spam for item in sublist]\n",
    "spammy_words = pd.Series(flat_list_spam).value_counts()\n",
    "\n",
    "spammy_words.shape[0]#total no. of unique words in non-spam mesages]\n"
   ]
  },
  {
   "cell_type": "code",
   "execution_count": 69,
   "id": "33b41046",
   "metadata": {},
   "outputs": [
    {
     "data": {
      "text/plain": [
       "i         4976\n",
       "the       3224\n",
       "you       2736\n",
       "free      2680\n",
       "thi       2548\n",
       "email     2528\n",
       "http      2488\n",
       "to        2372\n",
       "receiv    2188\n",
       "money     2020\n",
       "dtype: int64"
      ]
     },
     "execution_count": 69,
     "metadata": {},
     "output_type": "execute_result"
    }
   ],
   "source": [
    "spammy_words[:10]"
   ]
  },
  {
   "cell_type": "code",
   "execution_count": 70,
   "id": "6eacc18d",
   "metadata": {},
   "outputs": [
    {
     "data": {
      "text/plain": [
       "<matplotlib.image.AxesImage at 0x1bcad0ac1f0>"
      ]
     },
     "execution_count": 70,
     "metadata": {},
     "output_type": "execute_result"
    },
    {
     "data": {
      "image/png": "[encoded data removed]",
      "text/plain": [
       "<Figure size 432x288 with 1 Axes>"
      ]
     },
     "metadata": {
      "needs_background": "light"
     },
     "output_type": "display_data"
    }
   ],
   "source": [
    "word_cloud = WordCloud().generate(email_body)\n",
    "plt.axis('off')\n",
    "plt.imshow(word_cloud, interpolation = 'bilinear')"
   ]
  },
  {
   "cell_type": "code",
   "execution_count": 71,
   "id": "bbec9319",
   "metadata": {},
   "outputs": [
    {
     "name": "stderr",
     "output_type": "stream",
     "text": [
      "[nltk_data] Downloading package gutenberg to\n",
      "[nltk_data]     C:\\Users\\akash\\AppData\\Roaming\\nltk_data...\n",
      "[nltk_data]   Package gutenberg is already up-to-date!\n",
      "[nltk_data] Downloading package shakespeare to\n",
      "[nltk_data]     C:\\Users\\akash\\AppData\\Roaming\\nltk_data...\n",
      "[nltk_data]   Package shakespeare is already up-to-date!\n"
     ]
    },
    {
     "data": {
      "text/plain": [
       "True"
      ]
     },
     "execution_count": 71,
     "metadata": {},
     "output_type": "execute_result"
    }
   ],
   "source": [
    "nltk.download('gutenberg')\n",
    "nltk.download('shakespeare')"
   ]
  },
  {
   "cell_type": "code",
   "execution_count": 72,
   "id": "e10e4d3f",
   "metadata": {},
   "outputs": [
    {
     "data": {
      "text/plain": [
       "260819"
      ]
     },
     "execution_count": 72,
     "metadata": {},
     "output_type": "execute_result"
    }
   ],
   "source": [
    "example_corpus = nltk.corpus.gutenberg.words('melville-moby_dick.txt')\n",
    "len(example_corpus)"
   ]
  },
  {
   "cell_type": "markdown",
   "id": "238e1fcd",
   "metadata": {},
   "source": [
    "# Word Cloud of Ham and Spam Messages"
   ]
  },
  {
   "cell_type": "code",
   "execution_count": 73,
   "id": "1a854785",
   "metadata": {},
   "outputs": [
    {
     "data": {
      "image/png": "[encoded data removed]",
      "text/plain": [
       "<Figure size 1152x576 with 1 Axes>"
      ]
     },
     "metadata": {
      "needs_background": "light"
     },
     "output_type": "display_data"
    }
   ],
   "source": [
    "icon =Image.open(THUMBS_UP_FILE)\n",
    "image_mask = Image.new(mode='RGB', size = icon.size, color = (255,255,255))\n",
    "image_mask.paste(icon, box = icon)\n",
    "\n",
    "rgb_array = np.array(image_mask) # converts the image object to an array\n",
    "\n",
    "# Gnerate the text as a string for the word cloud\n",
    "\n",
    "ham_str = ' '.join(flat_list_ham)\n",
    "\n",
    "word_cloud = WordCloud(mask = rgb_array, background_color = 'white', \n",
    "                      max_words = 400, colormap = 'winter')\n",
    "\n",
    "word_cloud.generate(ham_str)\n",
    "\n",
    "plt.figure(figsize=[16,8])\n",
    "plt.imshow(word_cloud, interpolation = 'bilinear')\n",
    "plt.axis('off')\n",
    "plt.show()"
   ]
  },
  {
   "cell_type": "code",
   "execution_count": null,
   "id": "0928cd58",
   "metadata": {},
   "outputs": [],
   "source": []
  },
  {
   "cell_type": "code",
   "execution_count": 74,
   "id": "23ad523d",
   "metadata": {},
   "outputs": [
    {
     "data": {
      "image/png": "[encoded data removed]",
      "text/plain": [
       "<Figure size 1152x576 with 1 Axes>"
      ]
     },
     "metadata": {
      "needs_background": "light"
     },
     "output_type": "display_data"
    }
   ],
   "source": [
    "icon =Image.open(THUMBS_DOWN_FILE)\n",
    "image_mask = Image.new(mode='RGB', size = icon.size, color = (255,255,255))\n",
    "image_mask.paste(icon, box = icon)\n",
    "\n",
    "rgb_array = np.array(image_mask) # converts the image object to an array\n",
    "\n",
    "# Gnerate the text as a string for the word cloud\n",
    "\n",
    "spam_str = ' '.join(flat_list_ham)\n",
    "\n",
    "word_cloud = WordCloud(mask = rgb_array, background_color = 'white', \n",
    "                      max_words = 2000, colormap = 'gist_heat', font_path = CUSTOM_FONT_FILE, max_font_size=300)\n",
    "\n",
    "word_cloud.generate(spam_str.upper())\n",
    "\n",
    "plt.figure(figsize=[16,8])\n",
    "plt.imshow(word_cloud, interpolation = 'bilinear')\n",
    "plt.axis('off')\n",
    "plt.show()"
   ]
  },
  {
   "cell_type": "markdown",
   "id": "bea11c46",
   "metadata": {},
   "source": [
    "# Generate Vocabulary & Dictionary"
   ]
  },
  {
   "cell_type": "code",
   "execution_count": 75,
   "id": "aa366a2a",
   "metadata": {},
   "outputs": [],
   "source": [
    "stemmed_nested_list = data.MESSAGES.apply(clean_messages)\n",
    "flat_stemmed_list = [item for sublist in stemmed_nested_list for item in sublist]"
   ]
  },
  {
   "cell_type": "code",
   "execution_count": 76,
   "id": "0e4c08e7",
   "metadata": {},
   "outputs": [
    {
     "name": "stdout",
     "output_type": "stream",
     "text": [
      "Nr of unique words 16002\n"
     ]
    },
    {
     "data": {
      "text/plain": [
       "i       10014\n",
       "http     5739\n",
       "the      4806\n",
       "list     3406\n",
       "thi      3361\n",
       "dtype: int64"
      ]
     },
     "execution_count": 76,
     "metadata": {},
     "output_type": "execute_result"
    }
   ],
   "source": [
    "unique_words = pd.Series(flat_stemmed_list).value_counts()\n",
    "print('Nr of unique words', unique_words.shape[0])\n",
    "unique_words.head()"
   ]
  },
  {
   "cell_type": "code",
   "execution_count": 77,
   "id": "1a30cf19",
   "metadata": {},
   "outputs": [
    {
     "name": "stdout",
     "output_type": "stream",
     "text": [
      "Most common words: \n",
      " i        10014\n",
      "http      5739\n",
      "the       4806\n",
      "list      3406\n",
      "thi       3361\n",
      "you       3127\n",
      "email     3117\n",
      "free      2850\n",
      "get       2781\n",
      "use       2661\n",
      "dtype: int64\n"
     ]
    }
   ],
   "source": [
    "frequent_words = unique_words[0:VOCAB_SIZE ]\n",
    "print('Most common words: \\n', frequent_words[:10])"
   ]
  },
  {
   "cell_type": "markdown",
   "id": "a1bd6241",
   "metadata": {},
   "source": [
    "## Create Vocabulary DataFrame with a WORD_ID"
   ]
  },
  {
   "cell_type": "code",
   "execution_count": 78,
   "id": "09ebe3c7",
   "metadata": {},
   "outputs": [
    {
     "data": {
      "text/html": [
       "<div>\n",
       "<style scoped>\n",
       "    .dataframe tbody tr th:only-of-type {\n",
       "        vertical-align: middle;\n",
       "    }\n",
       "\n",
       "    .dataframe tbody tr th {\n",
       "        vertical-align: top;\n",
       "    }\n",
       "\n",
       "    .dataframe thead th {\n",
       "        text-align: right;\n",
       "    }\n",
       "</style>\n",
       "<table border=\"1\" class=\"dataframe\">\n",
       "  <thead>\n",
       "    <tr style=\"text-align: right;\">\n",
       "      <th></th>\n",
       "      <th>VOCAB_WORD</th>\n",
       "    </tr>\n",
       "    <tr>\n",
       "      <th>WORD_ID</th>\n",
       "      <th></th>\n",
       "    </tr>\n",
       "  </thead>\n",
       "  <tbody>\n",
       "    <tr>\n",
       "      <th>0</th>\n",
       "      <td>i</td>\n",
       "    </tr>\n",
       "    <tr>\n",
       "      <th>1</th>\n",
       "      <td>http</td>\n",
       "    </tr>\n",
       "    <tr>\n",
       "      <th>2</th>\n",
       "      <td>the</td>\n",
       "    </tr>\n",
       "    <tr>\n",
       "      <th>3</th>\n",
       "      <td>list</td>\n",
       "    </tr>\n",
       "    <tr>\n",
       "      <th>4</th>\n",
       "      <td>thi</td>\n",
       "    </tr>\n",
       "  </tbody>\n",
       "</table>\n",
       "</div>"
      ],
      "text/plain": [
       "        VOCAB_WORD\n",
       "WORD_ID           \n",
       "0                i\n",
       "1             http\n",
       "2              the\n",
       "3             list\n",
       "4              thi"
      ]
     },
     "execution_count": 78,
     "metadata": {},
     "output_type": "execute_result"
    }
   ],
   "source": [
    "word_ids = list(range(0, VOCAB_SIZE))\n",
    "vocab = pd.DataFrame({'VOCAB_WORD': frequent_words.index.values}, index = word_ids)\n",
    "vocab.index.name = 'WORD_ID'\n",
    "vocab.head()"
   ]
  },
  {
   "cell_type": "markdown",
   "id": "3318ed7c",
   "metadata": {},
   "source": [
    "## Save the vocabulary as a csv file"
   ]
  },
  {
   "cell_type": "code",
   "execution_count": 79,
   "id": "5f2517b7",
   "metadata": {},
   "outputs": [],
   "source": [
    "vocab.to_csv(WORD_ID_FILE, index_label = vocab.index.name, header = vocab.VOCAB_WORD.name)"
   ]
  },
  {
   "cell_type": "markdown",
   "id": "6ede6c3a",
   "metadata": {},
   "source": [
    "### Exercise: Checking if a word is part of the vocabulary"
   ]
  },
  {
   "cell_type": "code",
   "execution_count": 80,
   "id": "77e9e213",
   "metadata": {},
   "outputs": [
    {
     "data": {
      "text/plain": [
       "False"
      ]
     },
     "execution_count": 80,
     "metadata": {},
     "output_type": "execute_result"
    }
   ],
   "source": [
    "'machine' in set(vocab.VOCAB_WORD)"
   ]
  },
  {
   "cell_type": "markdown",
   "id": "2ea39285",
   "metadata": {},
   "source": [
    "### Exercise: Find the email with the most number of words"
   ]
  },
  {
   "cell_type": "code",
   "execution_count": 81,
   "id": "4de8340d",
   "metadata": {
    "collapsed": true
   },
   "outputs": [
    {
     "name": "stdout",
     "output_type": "stream",
     "text": [
      "[111, 62, 50, 244, 50, 223, 56, 176, 274, 51, 73, 26, 50, 79, 72, 311, 56, 415, 37, 62, 234, 208, 0, 107, 15, 415, 50, 24, 70, 112, 328, 62, 173, 82, 59, 1297, 55, 160, 2, 96, 84, 5, 56, 83, 50, 90, 45, 23, 46, 69, 56, 89, 80, 86, 29, 314, 37, 69, 21, 20, 15, 42, 85, 20, 82, 32, 132, 49, 277, 73, 130, 5, 54, 0, 42, 42, 231, 0, 42, 176, 72, 127, 72, 267, 1427, 70, 0, 66, 56, 171, 16, 0, 92, 83, 2, 211, 60, 56, 60, 250, 124, 48, 86, 51, 336, 319, 11, 37, 108, 26, 56, 344, 64, 47, 0, 39, 85, 127, 102, 65, 132, 39, 83, 65, 24, 143, 60, 0, 45, 82, 48, 81, 56, 87, 0, 28, 249, 111, 0, 65, 93, 250, 78, 56, 18, 118, 25, 126, 113, 203, 6, 44, 58, 87, 314, 140, 225, 6, 587, 72, 19, 190, 91, 56, 89, 96, 276, 42, 258, 45, 37, 140, 104, 68, 60, 45, 134, 86, 121, 0, 67, 1669, 134, 111, 29, 200, 1, 124, 276, 31, 159, 234, 209, 0, 109, 135, 1785, 0, 134, 178, 124, 46, 179, 46, 46, 0, 0, 428, 207, 82, 376, 15, 107, 105, 118, 419, 305, 254, 160, 281, 15, 108, 156, 242, 71, 99, 242, 238, 138, 42, 109, 232, 276, 236, 159, 223, 649, 210, 4, 76, 0, 76, 13, 20, 6453, 54, 385, 210, 55, 938, 135, 4, 209, 938, 938, 124, 1267, 1267, 426, 80, 309, 309, 9, 159, 207, 58, 291, 66, 193, 263, 170, 40, 689, 124, 3, 17, 189, 177, 172, 104, 57, 1635, 446, 103, 137, 176, 366, 3, 59, 479, 200, 98, 4, 92, 86, 37, 37, 272, 0, 41, 109, 192, 2, 22, 107, 75, 5, 187, 186, 152, 4, 342, 11, 5, 193, 836, 383, 510, 1674, 9, 68, 13, 9, 9, 143, 143, 143, 510, 0, 68, 276, 285, 285, 285, 285, 0, 157, 4, 1, 0, 156, 112, 97, 251, 29, 392, 132, 11, 58, 28, 33, 415, 6, 289, 94, 197, 124, 106, 259, 17, 257, 244, 1476, 30, 251, 192, 197, 33, 77, 0, 87, 873, 94, 44, 57, 67, 209, 134, 51, 146, 268, 197, 180, 145, 118, 82, 69, 117, 200, 200, 61, 54, 62, 65, 244, 99, 2, 36, 336, 107, 100, 142, 0, 42, 1656, 22, 16, 118, 276, 90, 190, 130, 109, 84, 95, 109, 244, 16, 103, 85, 45, 1482, 1470, 109, 32, 132, 873, 66, 95, 251, 87, 378, 31, 87, 369, 92, 137, 55, 73, 0, 37, 62, 60, 280, 289, 67, 91, 251, 41, 752, 92, 98, 10, 128, 276, 122, 34, 82, 56, 289, 146, 252, 163, 87, 278, 236, 186, 54, 37, 147, 50, 0, 328, 121, 175, 1635, 87, 182, 25, 246, 117, 86, 158, 225, 224, 701, 84, 95, 2191, 103, 107, 107, 153, 195, 559, 56, 42, 94, 387, 50, 111, 62, 50, 244, 50, 223, 56, 176, 274, 51, 73, 26, 50, 79, 72, 311, 56, 415, 37, 62, 234, 208, 0, 107, 15, 415, 50, 24, 70, 112, 328, 62, 173, 82, 59, 1297, 55, 160, 2, 96, 84, 5, 56, 83, 50, 90, 45, 23, 46, 69, 56, 89, 80, 86, 29, 314, 37, 69, 21, 20, 15, 42, 85, 20, 82, 32, 132, 49, 277, 73, 130, 5, 54, 0, 42, 42, 231, 0, 42, 176, 72, 127, 72, 267, 1427, 70, 0, 66, 56, 171, 16, 0, 92, 83, 2, 211, 60, 56, 60, 250, 124, 48, 86, 51, 336, 319, 11, 37, 108, 26, 56, 344, 64, 47, 0, 39, 85, 127, 102, 65, 132, 39, 83, 65, 24, 143, 60, 0, 45, 82, 48, 81, 56, 87, 0, 28, 249, 111, 0, 65, 93, 250, 78, 56, 18, 118, 25, 126, 113, 203, 6, 44, 58, 87, 314, 140, 225, 6, 587, 72, 19, 190, 91, 56, 89, 96, 276, 42, 258, 45, 37, 140, 104, 68, 60, 45, 134, 86, 121, 0, 67, 1669, 134, 111, 29, 200, 1, 124, 276, 31, 159, 234, 209, 0, 109, 135, 1785, 0, 134, 178, 124, 46, 179, 46, 46, 0, 0, 428, 207, 82, 376, 15, 107, 105, 118, 419, 305, 254, 160, 281, 15, 108, 156, 242, 71, 99, 242, 238, 138, 42, 109, 232, 276, 236, 159, 223, 649, 210, 4, 76, 0, 76, 13, 20, 6453, 54, 385, 210, 55, 938, 135, 4, 209, 938, 938, 124, 1267, 1267, 426, 80, 309, 309, 9, 159, 207, 58, 291, 66, 193, 263, 170, 40, 689, 124, 3, 17, 189, 177, 172, 104, 57, 1635, 446, 103, 137, 176, 366, 3, 59, 479, 200, 98, 4, 92, 86, 37, 37, 272, 0, 41, 109, 192, 2, 22, 107, 75, 5, 187, 186, 152, 4, 342, 11, 5, 193, 836, 383, 510, 1674, 9, 68, 13, 9, 9, 143, 143, 143, 510, 0, 68, 276, 285, 285, 285, 285, 0, 157, 4, 1, 0, 156, 112, 97, 251, 29, 392, 132, 11, 58, 28, 33, 415, 6, 289, 94, 197, 124, 106, 259, 17, 257, 244, 1476, 30, 251, 192, 197, 33, 77, 0, 87, 873, 94, 44, 57, 67, 209, 134, 51, 146, 268, 197, 180, 145, 118, 82, 69, 117, 200, 200, 61, 54, 62, 65, 244, 99, 2, 36, 336, 107, 100, 142, 0, 42, 1656, 22, 16, 118, 276, 90, 190, 130, 109, 84, 95, 109, 244, 16, 103, 85, 45, 1482, 1470, 109, 32, 132, 873, 66, 95, 251, 87, 378, 31, 87, 369, 92, 137, 55, 73, 0, 37, 62, 60, 280, 289, 67, 91, 251, 41, 752, 92, 98, 10, 128, 276, 122, 34, 82, 56, 289, 146, 252, 163, 87, 278, 236, 186, 54, 37, 147, 50, 0, 328, 121, 175, 1635, 87, 182, 25, 246, 117, 86, 158, 225, 224, 701, 84, 95, 2191, 103, 107, 107, 153, 195, 559, 56, 42, 94, 387, 50, 111, 62, 50, 244, 50, 223, 56, 176, 274, 51, 73, 26, 50, 79, 72, 311, 56, 415, 37, 62, 234, 208, 0, 107, 15, 415, 50, 24, 70, 112, 328, 62, 173, 82, 59, 1297, 55, 160, 2, 96, 84, 5, 56, 83, 50, 90, 45, 23, 46, 69, 56, 89, 80, 86, 29, 314, 37, 69, 21, 20, 15, 42, 85, 20, 82, 32, 132, 49, 277, 73, 130, 5, 54, 0, 42, 42, 231, 0, 42, 176, 72, 127, 72, 267, 1427, 70, 0, 66, 56, 171, 16, 0, 92, 83, 2, 211, 60, 56, 60, 250, 124, 48, 86, 51, 336, 319, 11, 37, 108, 26, 56, 344, 64, 47, 0, 39, 85, 127, 102, 65, 132, 39, 83, 65, 24, 143, 60, 0, 45, 82, 48, 81, 56, 87, 0, 28, 249, 111, 0, 65, 93, 250, 78, 56, 18, 118, 25, 126, 113, 203, 6, 44, 58, 87, 314, 140, 225, 6, 587, 72, 19, 190, 91, 56, 89, 96, 276, 42, 258, 45, 37, 140, 104, 68, 60, 45, 134, 86, 121, 0, 67, 1669, 134, 111, 29, 200, 1, 124, 276, 31, 159, 234, 209, 0, 109, 135, 1785, 0, 134, 178, 124, 46, 179, 46, 46, 0, 0, 428, 207, 82, 376, 15, 107, 105, 118, 419, 305, 254, 160, 281, 15, 108, 156, 242, 71, 99, 242, 238, 138, 42, 109, 232, 276, 236, 159, 223, 649, 210, 4, 76, 0, 76, 13, 20, 6453, 54, 385, 210, 55, 938, 135, 4, 209, 938, 938, 124, 1267, 1267, 426, 80, 309, 309, 9, 159, 207, 58, 291, 66, 193, 263, 170, 40, 689, 124, 3, 17, 189, 177, 172, 104, 57, 1635, 446, 103, 137, 176, 366, 3, 59, 479, 200, 98, 4, 92, 86, 37, 37, 272, 0, 41, 109, 192, 2, 22, 107, 75, 5, 187, 186, 152, 4, 342, 11, 5, 193, 836, 383, 510, 1674, 9, 68, 13, 9, 9, 143, 143, 143, 510, 0, 68, 276, 285, 285, 285, 285, 0, 157, 4, 1, 0, 156, 112, 97, 251, 29, 392, 132, 11, 58, 28, 33, 415, 6, 289, 94, 197, 124, 106, 259, 17, 257, 244, 1476, 30, 251, 192, 197, 33, 77, 0, 87, 873, 94, 44, 57, 67, 209, 134, 51, 146, 268, 197, 180, 145, 118, 82, 69, 117, 200, 200, 61, 54, 62, 65, 244, 99, 2, 36, 336, 107, 100, 142, 0, 42, 1656, 22, 16, 118, 276, 90, 190, 130, 109, 84, 95, 109, 244, 16, 103, 85, 45, 1482, 1470, 109, 32, 132, 873, 66, 95, 251, 87, 378, 31, 87, 369, 92, 137, 55, 73, 0, 37, 62, 60, 280, 289, 67, 91, 251, 41, 752, 92, 98, 10, 128, 276, 122, 34, 82, 56, 289, 146, 252, 163, 87, 278, 236, 186, 54, 37, 147, 50, 0, 328, 121, 175, 1635, 87, 182, 25, 246, 117, 86, 158, 225, 224, 701, 84, 95, 2191, 103, 107, 107, 153, 195, 559, 56, 42, 94, 387, 50, 111, 62, 50, 244, 50, 223, 56, 176, 274, 51, 73, 26, 50, 79, 72, 311, 56, 415, 37, 62, 234, 208, 0, 107, 15, 415, 50, 24, 70, 112, 328, 62, 173, 82, 59, 1297, 55, 160, 2, 96, 84, 5, 56, 83, 50, 90, 45, 23, 46, 69, 56, 89, 80, 86, 29, 314, 37, 69, 21, 20, 15, 42, 85, 20, 82, 32, 132, 49, 277, 73, 130, 5, 54, 0, 42, 42, 231, 0, 42, 176, 72, 127, 72, 267, 1427, 70, 0, 66, 56, 171, 16, 0, 92, 83, 2, 211, 60, 56, 60, 250, 124, 48, 86, 51, 336, 319, 11, 37, 108, 26, 56, 344, 64, 47, 0, 39, 85, 127, 102, 65, 132, 39, 83, 65, 24, 143, 60, 0, 45, 82, 48, 81, 56, 87, 0, 28, 249, 111, 0, 65, 93, 250, 78, 56, 18, 118, 25, 126, 113, 203, 6, 44, 58, 87, 314, 140, 225, 6, 587, 72, 19, 190, 91, 56, 89, 96, 276, 42, 258, 45, 37, 140, 104, 68, 60, 45, 134, 86, 121, 0, 67, 1669, 134, 111, 29, 200, 1, 124, 276, 31, 159, 234, 209, 0, 109, 135, 1785, 0, 134, 178, 124, 46, 179, 46, 46, 0, 0, 428, 207, 82, 376, 15, 107, 105, 118, 419, 305, 254, 160, 281, 15, 108, 156, 242, 71, 99, 242, 238, 138, 42, 109, 232, 276, 236, 159, 223, 649, 210, 4, 76, 0, 76, 13, 20, 6453, 54, 385, 210, 55, 938, 135, 4, 209, 938, 938, 124, 1267, 1267, 426, 80, 309, 309, 9, 159, 207, 58, 291, 66, 193, 263, 170, 40, 689, 124, 3, 17, 189, 177, 172, 104, 57, 1635, 446, 103, 137, 176, 366, 3, 59, 479, 200, 98, 4, 92, 86, 37, 37, 272, 0, 41, 109, 192, 2, 22, 107, 75, 5, 187, 186, 152, 4, 342, 11, 5, 193, 836, 383, 510, 1674, 9, 68, 13, 9, 9, 143, 143, 143, 510, 0, 68, 276, 285, 285, 285, 285, 0, 157, 4, 1, 0, 156, 112, 97, 251, 29, 392, 132, 11, 58, 28, 33, 415, 6, 289, 94, 197, 124, 106, 259, 17, 257, 244, 1476, 30, 251, 192, 197, 33, 77, 0, 87, 873, 94, 44, 57, 67, 209, 134, 51, 146, 268, 197, 180, 145, 118, 82, 69, 117, 200, 200, 61, 54, 62, 65, 244, 99, 2, 36, 336, 107, 100, 142, 0, 42, 1656, 22, 16, 118, 276, 90, 190, 130, 109, 84, 95, 109, 244, 16, 103, 85, 45, 1482, 1470, 109, 32, 132, 873, 66, 95, 251, 87, 378, 31, 87, 369, 92, 137, 55, 73, 0, 37, 62, 60, 280, 289, 67, 91, 251, 41, 752, 92, 98, 10, 128, 276, 122, 34, 82, 56, 289, 146, 252, 163, 87, 278, 236, 186, 54, 37, 147, 50, 0, 328, 121, 175, 1635, 87, 182, 25, 246, 117, 86, 158, 225, 224, 701, 84, 95, 2191, 103, 107, 107, 153, 195, 559, 56, 42, 94, 387, 50, 582, 84, 131, 620, 49, 581, 90, 208, 115, 53, 16, 91, 32, 261, 100, 261, 217, 66, 25, 120, 65, 135, 77, 69, 147, 75, 132, 116, 103, 108, 41, 170, 58, 88, 86, 117, 75, 92, 76, 73, 15, 200, 108, 67, 271, 75, 301, 49, 101, 54, 63, 70, 63, 99, 503, 581, 29, 63, 88, 186, 112, 72, 84, 109, 194, 32, 83, 52, 109, 75, 80, 157, 167, 102, 111, 56, 133, 128, 99, 54, 100, 104, 53, 122, 154, 101, 110, 150, 37, 47, 71, 106, 80, 91, 121, 115, 126, 143, 208, 208, 208, 241, 258, 100, 223, 271, 197, 201, 88, 164, 106, 142, 70, 107, 307, 60, 172, 362, 192, 149, 71, 44, 148, 32, 157, 165, 103, 33, 96, 289, 230, 285, 59, 107, 120, 119, 99, 91, 39, 266, 43, 109, 75, 132, 223, 90, 216, 209, 49, 118, 94, 107, 49, 55, 169, 139, 36, 98, 118, 138, 139, 99, 74, 142, 81, 83, 97, 34, 142, 78, 97, 65, 95, 68, 105, 30, 70, 115, 31, 35, 45, 30, 25, 83, 45, 55, 87, 77, 103, 129, 83, 58, 361, 115, 74, 255, 121, 175, 116, 332, 58, 21, 64, 82, 14, 118, 77, 34, 77, 193, 71, 35, 65, 185, 91, 271, 135, 45, 71, 106, 43, 94, 79, 56, 251, 182, 82, 80, 51, 56, 139, 118, 45, 155, 131, 65, 59, 37, 107, 177, 125, 94, 65, 82, 150, 90, 40, 220, 123, 48, 176, 47, 109, 136, 145, 72, 80, 151, 194, 103, 66, 142, 116, 95, 111, 79, 168, 82, 176, 76, 62, 227, 99, 33, 81, 58, 237, 114, 67, 181, 95, 161, 51, 135, 101, 51, 113, 123, 117, 78, 112, 86, 61, 111, 61, 82, 61, 48, 48, 81, 90, 129, 105, 95, 81, 165, 55, 47, 77, 81, 96, 70, 80, 246, 114, 107, 65, 89, 60, 57, 43, 46, 72, 41, 53, 34, 48, 230, 283, 59, 39, 28, 49, 61, 58, 46, 86, 96, 129, 94, 107, 78, 85, 144, 70, 313, 237, 70, 56, 71, 64, 28, 62, 73, 84, 343, 86, 222, 125, 402, 258, 234, 769, 151, 57, 143, 70, 88, 81, 67, 109, 37, 43, 224, 75, 58, 27, 83, 63, 43, 25, 31, 99, 250, 42, 70, 50, 56, 34, 105, 39, 72, 50, 47, 101, 36, 110, 27, 50, 52, 147, 38, 57, 243, 104, 28, 43, 25, 33, 122, 56, 79, 50, 224, 560, 24, 63, 43, 88, 28, 70, 39, 56, 80, 61, 58, 29, 88, 114, 98, 138, 36, 188, 110, 214, 85, 165, 335, 49, 27, 75, 84, 46, 86, 119, 39, 90, 89, 94, 54, 55, 71, 71, 85, 145, 118, 120, 86, 108, 72, 127, 148, 75, 70, 81, 117, 77, 57, 62, 85, 41, 40, 25, 102, 121, 42, 29, 26, 139, 142, 45, 64, 112, 95, 32, 107, 82, 118, 258, 28, 28, 27, 58, 29, 27, 82, 142, 178, 255, 298, 37, 40, 142, 45, 50, 76, 58, 94, 33, 59, 69, 24, 54, 47, 43, 58, 107, 76, 75, 65, 80, 63, 86, 62, 995, 83, 87, 104, 75, 48, 42, 53, 91, 59, 50, 64, 92, 118, 114, 66, 68, 126, 131, 143, 81, 147, 209, 88, 149, 43, 75, 47, 33, 97, 94, 98, 111, 117, 322, 50, 135, 362, 289, 100, 60, 58, 41, 75, 175, 56, 185, 74, 36, 48, 45, 121, 55, 71, 116, 33, 135, 157, 179, 228, 106, 497, 82, 457, 132, 158, 111, 168, 65, 88, 116, 103, 198, 146, 146, 141, 23, 140, 81, 204, 146, 78, 31, 81, 59, 32, 201, 52, 51, 401, 82, 99, 187, 57, 234, 80, 117, 176, 200, 151, 108, 252, 453, 144, 85, 72, 278, 123, 60, 78, 114, 126, 163, 100, 211, 65, 67, 73, 39, 352, 512, 124, 286, 277, 233, 284, 85, 110, 44, 188, 216, 166, 164, 52, 246, 45, 76, 33, 1609, 555, 425, 449, 742, 1324, 237, 35, 43, 48, 5, 43, 6, 88, 62, 61, 233, 128, 156, 187, 51, 63, 32, 125, 163, 87, 165, 138, 93, 207, 2140, 1273, 1634, 21, 42, 79, 102, 104, 36, 166, 53, 158, 92, 465, 35, 113, 667, 41, 21, 45, 27, 50, 54, 123, 319, 56, 183, 97, 210, 150, 29, 485, 54, 77, 30, 45, 14, 101, 62, 99, 117, 162, 76, 90, 132, 19, 50, 73, 52, 256, 809, 706, 81, 663, 70, 13, 110, 124, 124, 33, 28, 112, 97, 7, 34, 39, 49, 62, 91, 53, 210, 80, 23, 40, 46, 21, 39, 29, 78, 71, 139, 65, 63, 18, 322, 57, 48, 33, 62, 35, 74, 33, 295, 40, 60, 15, 73, 52, 137, 62, 55, 86, 35, 92, 33, 72, 46, 35, 26, 28, 64, 91, 50, 17, 26, 44, 31, 21, 20, 971, 2924, 85, 41, 83, 327, 112, 110, 431, 9, 58, 94, 166, 124, 38, 39, 40, 72, 849, 88, 82, 176, 100, 44, 88, 15, 102, 98, 127, 172, 247, 30, 33, 41, 34, 72, 81, 24, 27, 98, 28, 305, 268, 234, 42, 131, 31, 17, 117, 83, 38, 81, 43, 74, 50, 38, 96, 575, 158, 59, 29, 55, 55, 244, 121, 28, 29, 75, 173, 79, 51, 112, 419, 366, 59, 232, 64, 78, 187, 50, 29, 143, 109, 151, 57, 123, 502, 39, 47, 195, 148, 256, 112, 140, 66, 35, 80, 68, 309, 361, 317, 169, 8, 274, 37, 88, 48, 70, 130, 69, 28, 77, 35, 63, 133, 81, 106, 201, 113, 22, 149, 35, 87, 229, 126, 155, 20, 266, 56, 163, 70, 98, 52, 55, 97, 10, 97, 38, 83, 56, 37, 141, 56, 43, 217, 20, 140, 279, 31, 194, 37, 85, 12, 100, 2072, 415, 21, 117, 232, 60, 33, 32, 8, 53, 45, 28, 65, 289, 20, 89, 121, 64, 24, 160, 27, 199, 41, 72, 35, 197, 35, 76, 131, 73, 61, 174, 85, 61, 99, 31, 46, 101, 68, 75, 208, 546, 47, 108, 72, 156, 178, 81, 144, 37, 37, 37, 1509, 77, 156, 292, 937, 170, 25, 88, 70, 101, 334, 566, 54, 27, 38, 75, 110, 95, 77, 85, 12, 19, 357, 611, 106, 68, 33, 48, 64, 195, 174, 108, 75, 40, 118, 537, 109, 190, 68, 164, 38, 69, 1595, 91, 21, 99, 38, 57, 216, 125, 187, 89, 109, 95, 54, 64, 96, 43, 99, 208, 34, 53, 223, 157, 37, 292, 96, 589, 34, 293, 61, 338, 59, 54, 136, 50, 87, 74, 87, 150, 236, 562, 223, 113, 55, 211, 72, 35, 94, 310, 754, 614, 144, 59, 24, 255, 147, 73, 84, 95, 94, 24, 630, 774, 111, 65, 89, 24, 35, 20, 125, 15, 72, 9, 12, 24, 24, 31, 47, 39, 59, 63, 72, 85, 93, 68, 93, 88, 107, 106, 130, 138, 152, 18, 105, 89, 127, 14, 23, 73, 79, 92, 151, 73, 114, 109, 89, 119, 23, 82, 98, 138, 66, 31, 22, 55, 60, 35, 46, 48, 102, 92, 60, 51, 62, 194, 28, 54, 58, 147, 62, 98, 87, 121, 76, 94, 99, 67, 76, 123, 103, 81, 176, 189, 37, 114, 12, 54, 168, 27, 8, 21, 21, 59, 23, 58, 106, 61, 66, 339, 156, 159, 66, 158, 115, 104, 174, 99, 104, 122, 147, 18, 53, 182, 84, 42, 68, 113, 58, 113, 193, 145, 59, 101, 67, 76, 78, 26, 53, 56, 124, 27, 30, 38, 106, 100, 107, 36, 41, 51, 55, 150, 98, 76, 127, 83, 91, 60, 67, 71, 77, 90, 109, 61, 59, 245, 43, 58, 57, 283, 5, 5, 5, 132, 106, 149, 90, 37, 157, 53, 96, 103, 99, 116, 253, 414, 112, 53, 151, 113, 76, 54, 296, 77, 47, 240, 116, 69, 108, 74, 108, 69, 39, 152, 106, 28, 73, 56, 163, 7288, 579, 65, 44, 45, 154, 1188, 41, 30, 103, 55, 187, 6, 44, 94, 8, 103, 195, 108, 44, 43, 59, 75, 139, 95, 97, 150, 154, 3068, 53, 77, 168, 234, 87, 43, 45, 100, 142, 100, 8, 54, 29, 28, 354, 53, 156, 65, 106, 83, 255, 84, 251, 121, 55, 173, 139, 226, 137, 23, 20, 300, 149, 54, 8133, 109, 51, 318, 25, 78, 81, 8, 366, 1244, 166, 155, 48, 934, 21, 101, 90, 43, 300, 73, 364]\n"
     ]
    }
   ],
   "source": [
    "#for loop\n",
    "clean_email_list = []\n",
    "for sublist in stemmed_nested_list:\n",
    "    clean_email_list.append(len(sublist))\n",
    "print(clean_email_list)    "
   ]
  },
  {
   "cell_type": "code",
   "execution_count": 82,
   "id": "02b9b57e",
   "metadata": {},
   "outputs": [
    {
     "name": "stdout",
     "output_type": "stream",
     "text": [
      "Nr. of words in longest email: 8133\n"
     ]
    }
   ],
   "source": [
    "#Python List comprehension\n",
    "clean_email_list = [len(sublist) for sublist in stemmed_nested_list]\n",
    "print('Nr. of words in longest email:', max(clean_email_list))"
   ]
  },
  {
   "cell_type": "code",
   "execution_count": 83,
   "id": "a5c24c6c",
   "metadata": {},
   "outputs": [
    {
     "name": "stdout",
     "output_type": "stream",
     "text": [
      "email position in the list (and the data dataframe) 3379\n"
     ]
    }
   ],
   "source": [
    "print('email position in the list (and the data dataframe)', np.argmax(clean_email_list))"
   ]
  },
  {
   "cell_type": "code",
   "execution_count": 84,
   "id": "02a04d03",
   "metadata": {
    "collapsed": true
   },
   "outputs": [
    {
     "data": {
      "text/plain": [
       "['yahoo',\n",
       " 'group',\n",
       " 'sponsor',\n",
       " 'dvd',\n",
       " 'free',\n",
       " 'p',\n",
       " 'join',\n",
       " 'now',\n",
       " 'http',\n",
       " 'a',\n",
       " 'new',\n",
       " 'version',\n",
       " 'unison',\n",
       " 'avail',\n",
       " 'test',\n",
       " 'it',\n",
       " 'incorpor',\n",
       " 'sever',\n",
       " 'small',\n",
       " 'improv',\n",
       " 'main',\n",
       " 'chang',\n",
       " 'fix',\n",
       " 'bug',\n",
       " 'potenti',\n",
       " 'seriou',\n",
       " 'safeti',\n",
       " 'consequ',\n",
       " 'small',\n",
       " 'number',\n",
       " 'user',\n",
       " 'habit',\n",
       " 'run',\n",
       " 'one',\n",
       " 'instanc',\n",
       " 'unison',\n",
       " 'time',\n",
       " 'parallel',\n",
       " 'these',\n",
       " 'user',\n",
       " 'strongli',\n",
       " 'encourag',\n",
       " 'upgrad',\n",
       " 'other',\n",
       " 'wait',\n",
       " 'wish',\n",
       " 'the',\n",
       " 'releas',\n",
       " 'includ',\n",
       " 'execut',\n",
       " 'linux',\n",
       " 'solari',\n",
       " 'window',\n",
       " 'we',\n",
       " 'look',\n",
       " 'maintain',\n",
       " 'moment',\n",
       " 'none',\n",
       " 'activ',\n",
       " 'develop',\n",
       " 'regularli',\n",
       " 'use',\n",
       " 'unison',\n",
       " 'window',\n",
       " 'machin',\n",
       " 'configur',\n",
       " 'properli',\n",
       " 'build',\n",
       " 'execut',\n",
       " 'export',\n",
       " 'grab',\n",
       " 'http',\n",
       " 'enjoy',\n",
       " 'benjamin',\n",
       " 'chang',\n",
       " 'sinc',\n",
       " 'ad',\n",
       " 'prefer',\n",
       " 'maxthread',\n",
       " 'use',\n",
       " 'limit',\n",
       " 'number',\n",
       " 'simultan',\n",
       " 'file',\n",
       " 'transfer',\n",
       " 'ad',\n",
       " 'backupdir',\n",
       " 'prefer',\n",
       " 'control',\n",
       " 'backup',\n",
       " 'file',\n",
       " 'store',\n",
       " 'basic',\n",
       " 'support',\n",
       " 'ad',\n",
       " 'osx',\n",
       " 'in',\n",
       " 'particular',\n",
       " 'unison',\n",
       " 'recogn',\n",
       " 'one',\n",
       " 'host',\n",
       " 'synchron',\n",
       " 'run',\n",
       " 'osx',\n",
       " 'switch',\n",
       " 'treatment',\n",
       " 'filenam',\n",
       " 'consid',\n",
       " 'file',\n",
       " 'osx',\n",
       " 'yet',\n",
       " 'fulli',\n",
       " 'work',\n",
       " 'howev',\n",
       " 'particular',\n",
       " 'file',\n",
       " 'resourc',\n",
       " 'fork',\n",
       " 'synchron',\n",
       " 'correctli',\n",
       " 'the',\n",
       " 'hash',\n",
       " 'use',\n",
       " 'form',\n",
       " 'archiv',\n",
       " 'name',\n",
       " 'also',\n",
       " 'ad',\n",
       " 'name',\n",
       " 'temp',\n",
       " 'file',\n",
       " 'creat',\n",
       " 'file',\n",
       " 'transfer',\n",
       " 'the',\n",
       " 'reason',\n",
       " 'updat',\n",
       " 'detect',\n",
       " 'go',\n",
       " 'silent',\n",
       " 'delet',\n",
       " 'old',\n",
       " 'temp',\n",
       " 'file',\n",
       " 'find',\n",
       " 'along',\n",
       " 'way',\n",
       " 'want',\n",
       " 'prevent',\n",
       " 'delet',\n",
       " 'temp',\n",
       " 'file',\n",
       " 'belong',\n",
       " 'instanc',\n",
       " 'unison',\n",
       " 'may',\n",
       " 'run',\n",
       " 'parallel',\n",
       " 'synchron',\n",
       " 'differ',\n",
       " 'host',\n",
       " 'thank',\n",
       " 'ruslan',\n",
       " 'ermilov',\n",
       " 'suggest',\n",
       " 'sever',\n",
       " 'small',\n",
       " 'user',\n",
       " 'interfac',\n",
       " 'improv',\n",
       " 'document',\n",
       " 'faq',\n",
       " 'bug',\n",
       " 'report',\n",
       " 'instruct',\n",
       " 'split',\n",
       " 'separ',\n",
       " 'html',\n",
       " 'page',\n",
       " 'access',\n",
       " 'directli',\n",
       " 'unison',\n",
       " 'web',\n",
       " 'page',\n",
       " 'addit',\n",
       " 'faq',\n",
       " 'particular',\n",
       " 'suggest',\n",
       " 'perform',\n",
       " 'tune',\n",
       " 'makefil',\n",
       " 'set',\n",
       " 'automat',\n",
       " 'depend',\n",
       " 'whether',\n",
       " 'find',\n",
       " 'lablgtk',\n",
       " 'instal',\n",
       " 'unison',\n",
       " 'compil',\n",
       " 'box',\n",
       " 'osx',\n",
       " 'chang',\n",
       " 'sinc',\n",
       " 'chang',\n",
       " 'profil',\n",
       " 'work',\n",
       " 'window',\n",
       " 'file',\n",
       " 'movement',\n",
       " 'optim',\n",
       " 'unison',\n",
       " 'tri',\n",
       " 'use',\n",
       " 'local',\n",
       " 'copi',\n",
       " 'instead',\n",
       " 'transfer',\n",
       " 'move',\n",
       " 'copi',\n",
       " 'file',\n",
       " 'it',\n",
       " 'control',\n",
       " 'boolean',\n",
       " 'option',\n",
       " 'xferbycopi',\n",
       " 'network',\n",
       " 'statist',\n",
       " 'window',\n",
       " 'transfer',\n",
       " 'rate',\n",
       " 'amount',\n",
       " 'data',\n",
       " 'transfer',\n",
       " 'nb',\n",
       " 'avail',\n",
       " 'version',\n",
       " 'symlink',\n",
       " 'work',\n",
       " 'cygwin',\n",
       " 'version',\n",
       " 'dynam',\n",
       " 'link',\n",
       " 'fix',\n",
       " 'potenti',\n",
       " 'deadlock',\n",
       " 'synchron',\n",
       " 'window',\n",
       " 'unix',\n",
       " 'small',\n",
       " 'improv',\n",
       " 'if',\n",
       " 'neither',\n",
       " 'tt',\n",
       " 'userprofil',\n",
       " 'tt',\n",
       " 'home',\n",
       " 'environ',\n",
       " 'variabl',\n",
       " 'set',\n",
       " 'unison',\n",
       " 'put',\n",
       " 'temporari',\n",
       " 'commit',\n",
       " 'log',\n",
       " 'call',\n",
       " 'tt',\n",
       " 'directori',\n",
       " 'name',\n",
       " 'tt',\n",
       " 'unison',\n",
       " 'environ',\n",
       " 'variabl',\n",
       " 'otherwis',\n",
       " 'use',\n",
       " 'tt',\n",
       " 'c',\n",
       " 'altern',\n",
       " 'set',\n",
       " 'valu',\n",
       " 'fastcheck',\n",
       " 'ye',\n",
       " 'true',\n",
       " 'fals',\n",
       " 'default',\n",
       " 'auto',\n",
       " 'impli',\n",
       " 'sourc',\n",
       " 'code',\n",
       " 'code',\n",
       " 'reorgan',\n",
       " 'tidi',\n",
       " 'start',\n",
       " 'break',\n",
       " 'basic',\n",
       " 'util',\n",
       " 'modul',\n",
       " 'stuff',\n",
       " 'made',\n",
       " 'avail',\n",
       " 'project',\n",
       " 'sever',\n",
       " 'makefil',\n",
       " 'doc',\n",
       " 'chang',\n",
       " 'releas',\n",
       " 'comment',\n",
       " 'connect',\n",
       " 'inform',\n",
       " 'store',\n",
       " 'global',\n",
       " 'variabl',\n",
       " 'anymor',\n",
       " 'chang',\n",
       " 'sinc',\n",
       " 'small',\n",
       " 'bugfix',\n",
       " 'textual',\n",
       " 'user',\n",
       " 'interfac',\n",
       " 'unix',\n",
       " 'avoid',\n",
       " 'leav',\n",
       " 'termin',\n",
       " 'bad',\n",
       " 'state',\n",
       " 'would',\n",
       " 'echo',\n",
       " 'input',\n",
       " 'unison',\n",
       " 'exit',\n",
       " 'chang',\n",
       " 'sinc',\n",
       " 'improv',\n",
       " 'main',\n",
       " 'web',\n",
       " 'page',\n",
       " 'stabl',\n",
       " 'beta',\n",
       " 'version',\n",
       " 'doc',\n",
       " 'access',\n",
       " 'user',\n",
       " 'manual',\n",
       " 'revis',\n",
       " 'ad',\n",
       " 'new',\n",
       " 'prefer',\n",
       " 'sshcmd',\n",
       " 'rshcmd',\n",
       " 'specifi',\n",
       " 'path',\n",
       " 'ssh',\n",
       " 'rsh',\n",
       " 'program',\n",
       " 'contactquietli',\n",
       " 'suppress',\n",
       " 'contact',\n",
       " 'server',\n",
       " 'messag',\n",
       " 'unison',\n",
       " 'startup',\n",
       " 'graphic',\n",
       " 'ui',\n",
       " 'bug',\n",
       " 'fix',\n",
       " 'fix',\n",
       " 'small',\n",
       " 'bug',\n",
       " 'ui',\n",
       " 'neglect',\n",
       " 'chang',\n",
       " 'display',\n",
       " 'column',\n",
       " 'header',\n",
       " 'load',\n",
       " 'new',\n",
       " 'profil',\n",
       " 'caus',\n",
       " 'root',\n",
       " 'chang',\n",
       " 'fix',\n",
       " 'bug',\n",
       " 'would',\n",
       " 'put',\n",
       " 'text',\n",
       " 'ui',\n",
       " 'infinit',\n",
       " 'loop',\n",
       " 'encount',\n",
       " 'conflict',\n",
       " 'run',\n",
       " 'batch',\n",
       " 'mode',\n",
       " 'ad',\n",
       " 'code',\n",
       " 'tri',\n",
       " 'fix',\n",
       " 'display',\n",
       " 'charact',\n",
       " 'filenam',\n",
       " 'window',\n",
       " 'system',\n",
       " 'gtk',\n",
       " 'ui',\n",
       " 'thi',\n",
       " 'code',\n",
       " 'current',\n",
       " 'untest',\n",
       " 'one',\n",
       " 'peopl',\n",
       " 'report',\n",
       " 'problem',\n",
       " 'display',\n",
       " 'filenam',\n",
       " 'appreci',\n",
       " 'know',\n",
       " 'actual',\n",
       " 'fix',\n",
       " 'thing',\n",
       " 'newer',\n",
       " 'work',\n",
       " 'properli',\n",
       " 'the',\n",
       " 'bug',\n",
       " 'report',\n",
       " 'sebastian',\n",
       " 'urbaniak',\n",
       " 'sean',\n",
       " 'fulton',\n",
       " 'user',\n",
       " 'interfac',\n",
       " 'unison',\n",
       " 'behavior',\n",
       " 'renam',\n",
       " 'proce',\n",
       " 'go',\n",
       " 'graphic',\n",
       " 'ui',\n",
       " 'ad',\n",
       " 'exit',\n",
       " 'statu',\n",
       " 'textual',\n",
       " 'user',\n",
       " 'interfac',\n",
       " 'path',\n",
       " 'synchron',\n",
       " 'conflict',\n",
       " 'error',\n",
       " 'updat',\n",
       " 'detect',\n",
       " 'note',\n",
       " 'log',\n",
       " 'file',\n",
       " 'end',\n",
       " 'messag',\n",
       " 'log',\n",
       " 'use',\n",
       " 'briefer',\n",
       " 'format',\n",
       " 'chang',\n",
       " 'text',\n",
       " 'ui',\n",
       " 'startup',\n",
       " 'sequenc',\n",
       " 'tt',\n",
       " 'text',\n",
       " 'use',\n",
       " 'default',\n",
       " 'profil',\n",
       " 'instead',\n",
       " 'fail',\n",
       " 'made',\n",
       " 'improv',\n",
       " 'error',\n",
       " 'messag',\n",
       " 'ad',\n",
       " 'debug',\n",
       " 'messag',\n",
       " 'chang',\n",
       " 'sinc',\n",
       " 'incorpor',\n",
       " 'transport',\n",
       " 'it',\n",
       " 'transfer',\n",
       " 'sever',\n",
       " 'file',\n",
       " 'time',\n",
       " 'therebi',\n",
       " 'make',\n",
       " 'much',\n",
       " 'effect',\n",
       " 'use',\n",
       " 'avail',\n",
       " 'network',\n",
       " 'bandwidth',\n",
       " 'unlik',\n",
       " 'earlier',\n",
       " 'attempt',\n",
       " 'time',\n",
       " 'reli',\n",
       " 'nativ',\n",
       " 'thread',\n",
       " 'librari',\n",
       " 'ocaml',\n",
       " 'instead',\n",
       " 'implement',\n",
       " 'librari',\n",
       " 'ocaml',\n",
       " 'directli',\n",
       " 'thi',\n",
       " 'version',\n",
       " 'appear',\n",
       " 'stabl',\n",
       " 'some',\n",
       " 'adjust',\n",
       " 'unison',\n",
       " 'made',\n",
       " 'accommod',\n",
       " 'version',\n",
       " 'these',\n",
       " 'includ',\n",
       " 'particular',\n",
       " 'chang',\n",
       " 'user',\n",
       " 'interfac',\n",
       " 'log',\n",
       " 'exampl',\n",
       " 'two',\n",
       " 'log',\n",
       " 'entri',\n",
       " 'transfer',\n",
       " 'task',\n",
       " 'one',\n",
       " 'begin',\n",
       " 'one',\n",
       " 'end',\n",
       " 'suppress',\n",
       " 'warn',\n",
       " 'messag',\n",
       " 'remov',\n",
       " 'temp',\n",
       " 'file',\n",
       " 'left',\n",
       " 'previou',\n",
       " 'unison',\n",
       " 'run',\n",
       " 'warn',\n",
       " 'work',\n",
       " 'nice',\n",
       " 'the',\n",
       " 'temp',\n",
       " 'file',\n",
       " 'name',\n",
       " 'made',\n",
       " 'less',\n",
       " 'like',\n",
       " 'coincid',\n",
       " 'name',\n",
       " 'file',\n",
       " 'creat',\n",
       " 'user',\n",
       " 'they',\n",
       " 'take',\n",
       " 'form',\n",
       " 'ad',\n",
       " 'new',\n",
       " 'command',\n",
       " 'gtk',\n",
       " 'user',\n",
       " 'interfac',\n",
       " 'press',\n",
       " 'f',\n",
       " 'caus',\n",
       " 'unison',\n",
       " 'start',\n",
       " 'new',\n",
       " 'updat',\n",
       " 'detect',\n",
       " 'phase',\n",
       " 'use',\n",
       " 'path',\n",
       " 'path',\n",
       " 'detect',\n",
       " 'chang',\n",
       " 'yet',\n",
       " 'mark',\n",
       " 'success',\n",
       " 'complet',\n",
       " 'use',\n",
       " 'command',\n",
       " 'quickli',\n",
       " 'restart',\n",
       " 'unison',\n",
       " 'set',\n",
       " 'path',\n",
       " 'still',\n",
       " 'need',\n",
       " 'attent',\n",
       " 'previou',\n",
       " 'run',\n",
       " 'made',\n",
       " 'ignorecas',\n",
       " 'prefer',\n",
       " 'chang',\n",
       " 'initi',\n",
       " 'code',\n",
       " 'manual',\n",
       " 'set',\n",
       " 'true',\n",
       " 'even',\n",
       " 'neither',\n",
       " 'host',\n",
       " 'run',\n",
       " 'window',\n",
       " 'thi',\n",
       " 'may',\n",
       " 'use',\n",
       " 'use',\n",
       " 'unison',\n",
       " 'run',\n",
       " 'unix',\n",
       " 'system',\n",
       " 'fat',\n",
       " 'volum',\n",
       " 'mount',\n",
       " 'small',\n",
       " 'improv',\n",
       " 'bug',\n",
       " 'fix',\n",
       " 'error',\n",
       " 'prefer',\n",
       " 'file',\n",
       " 'gener',\n",
       " 'fatal',\n",
       " 'error',\n",
       " 'rather',\n",
       " 'warn',\n",
       " 'startup',\n",
       " 'time',\n",
       " 'ca',\n",
       " 'go',\n",
       " 'also',\n",
       " 'fix',\n",
       " 'bug',\n",
       " 'prevent',\n",
       " 'warn',\n",
       " 'appear',\n",
       " 'text',\n",
       " 'ui',\n",
       " 'user',\n",
       " 'run',\n",
       " 'unsuspectingli',\n",
       " 'garbag',\n",
       " 'pref',\n",
       " 'file',\n",
       " 'may',\n",
       " 'get',\n",
       " 'error',\n",
       " 'report',\n",
       " 'error',\n",
       " 'report',\n",
       " 'prefer',\n",
       " 'file',\n",
       " 'provid',\n",
       " 'file',\n",
       " 'name',\n",
       " 'line',\n",
       " 'number',\n",
       " 'more',\n",
       " 'intellig',\n",
       " 'messag',\n",
       " 'case',\n",
       " 'ident',\n",
       " 'chang',\n",
       " 'file',\n",
       " 'noth',\n",
       " 'replica',\n",
       " 'chang',\n",
       " 'ident',\n",
       " 'way',\n",
       " 'sinc',\n",
       " 'last',\n",
       " 'sync',\n",
       " 'file',\n",
       " 'prefix',\n",
       " 'exclud',\n",
       " 'scan',\n",
       " 'prefer',\n",
       " 'file',\n",
       " 'rsync',\n",
       " 'instruct',\n",
       " 'send',\n",
       " 'directli',\n",
       " 'instead',\n",
       " 'first',\n",
       " 'marshal',\n",
       " 'wo',\n",
       " 'tri',\n",
       " 'forev',\n",
       " 'get',\n",
       " 'fingerprint',\n",
       " 'continu',\n",
       " 'chang',\n",
       " 'file',\n",
       " 'unison',\n",
       " 'give',\n",
       " 'certain',\n",
       " 'number',\n",
       " 'retri',\n",
       " 'other',\n",
       " 'bug',\n",
       " 'fix',\n",
       " 'includ',\n",
       " 'one',\n",
       " 'report',\n",
       " 'peter',\n",
       " 'seling',\n",
       " 'prefer',\n",
       " 'work',\n",
       " 'compil',\n",
       " 'upgrad',\n",
       " 'new',\n",
       " 'ocaml',\n",
       " 'compil',\n",
       " 'lablgtk',\n",
       " 'librari',\n",
       " 'patch',\n",
       " 'version',\n",
       " 'use',\n",
       " 'compil',\n",
       " 'window',\n",
       " 'ad',\n",
       " 'option',\n",
       " 'compil',\n",
       " 'unison',\n",
       " 'window',\n",
       " 'platform',\n",
       " 'cygwin',\n",
       " 'gnu',\n",
       " 'c',\n",
       " 'compil',\n",
       " 'thi',\n",
       " 'option',\n",
       " 'support',\n",
       " 'build',\n",
       " 'dynam',\n",
       " 'link',\n",
       " 'unison',\n",
       " 'execut',\n",
       " 'chang',\n",
       " 'sinc',\n",
       " 'fix',\n",
       " 'silli',\n",
       " 'debilit',\n",
       " 'bug',\n",
       " 'client',\n",
       " 'startup',\n",
       " 'sequenc',\n",
       " 'chang',\n",
       " 'sinc',\n",
       " 'ad',\n",
       " 'addprefsto',\n",
       " 'prefer',\n",
       " 'set',\n",
       " 'control',\n",
       " 'prefer',\n",
       " 'file',\n",
       " 'new',\n",
       " 'prefer',\n",
       " 'new',\n",
       " 'ignor',\n",
       " 'pattern',\n",
       " 'ad',\n",
       " 'bug',\n",
       " 'fix',\n",
       " 'read',\n",
       " 'initi',\n",
       " 'connect',\n",
       " 'header',\n",
       " 'one',\n",
       " 'byte',\n",
       " 'time',\n",
       " 'block',\n",
       " 'header',\n",
       " 'shorter',\n",
       " 'expect',\n",
       " 'thi',\n",
       " 'bug',\n",
       " 'affect',\n",
       " 'normal',\n",
       " 'oper',\n",
       " 'made',\n",
       " 'hard',\n",
       " 'tell',\n",
       " 'tri',\n",
       " 'use',\n",
       " 'unison',\n",
       " 'incorrectli',\n",
       " 'old',\n",
       " 'version',\n",
       " 'server',\n",
       " 'sinc',\n",
       " 'would',\n",
       " 'hang',\n",
       " 'instead',\n",
       " 'give',\n",
       " 'error',\n",
       " 'messag',\n",
       " 'chang',\n",
       " 'sinc',\n",
       " 'chang',\n",
       " 'fastcheck',\n",
       " 'boolean',\n",
       " 'string',\n",
       " 'prefer',\n",
       " 'it',\n",
       " 'legal',\n",
       " 'valu',\n",
       " 'ye',\n",
       " 'fast',\n",
       " 'check',\n",
       " 'safe',\n",
       " 'check',\n",
       " 'default',\n",
       " 'fast',\n",
       " 'check',\n",
       " 'also',\n",
       " 'happen',\n",
       " 'safe',\n",
       " 'run',\n",
       " 'unix',\n",
       " 'safe',\n",
       " 'check',\n",
       " 'window',\n",
       " 'the',\n",
       " 'default',\n",
       " 'default',\n",
       " 'sever',\n",
       " 'prefer',\n",
       " 'renam',\n",
       " 'consist',\n",
       " 'all',\n",
       " 'prefer',\n",
       " 'name',\n",
       " 'spell',\n",
       " 'lowercas',\n",
       " 'for',\n",
       " 'backward',\n",
       " 'compat',\n",
       " 'old',\n",
       " 'name',\n",
       " 'still',\n",
       " 'work',\n",
       " 'mention',\n",
       " 'manual',\n",
       " 'the',\n",
       " 'temp',\n",
       " 'file',\n",
       " 'creat',\n",
       " 'command',\n",
       " 'name',\n",
       " 'prepend',\n",
       " 'new',\n",
       " 'prefix',\n",
       " 'file',\n",
       " 'name',\n",
       " 'rather',\n",
       " 'append',\n",
       " 'suffix',\n",
       " 'thi',\n",
       " 'avoid',\n",
       " 'confus',\n",
       " 'program',\n",
       " 'depend',\n",
       " 'suffix',\n",
       " 'guess',\n",
       " 'type',\n",
       " 'file',\n",
       " 'content',\n",
       " 'we',\n",
       " 'set',\n",
       " 'keepal',\n",
       " 'option',\n",
       " 'server',\n",
       " 'socket',\n",
       " 'make',\n",
       " 'sure',\n",
       " 'server',\n",
       " 'time',\n",
       " 'commun',\n",
       " 'link',\n",
       " 'unexpectedli',\n",
       " 'broken',\n",
       " 'bug',\n",
       " 'fix',\n",
       " 'when',\n",
       " 'updat',\n",
       " 'small',\n",
       " 'file',\n",
       " 'unison',\n",
       " 'close',\n",
       " 'destin',\n",
       " 'file',\n",
       " 'file',\n",
       " 'permiss',\n",
       " 'properli',\n",
       " 'updat',\n",
       " 'file',\n",
       " 'behind',\n",
       " 'follow',\n",
       " 'link',\n",
       " 'sever',\n",
       " 'small',\n",
       " 'fix',\n",
       " 'chang',\n",
       " 'sinc',\n",
       " 'major',\n",
       " 'window',\n",
       " 'perform',\n",
       " 'improv',\n",
       " 'we',\n",
       " 'ad',\n",
       " 'prefer',\n",
       " 'fastcheck',\n",
       " 'make',\n",
       " 'unison',\n",
       " 'look',\n",
       " 'file',\n",
       " 'creation',\n",
       " 'time',\n",
       " 'time',\n",
       " 'check',\n",
       " 'whether',\n",
       " 'chang',\n",
       " 'thi',\n",
       " 'result',\n",
       " 'huge',\n",
       " 'speedup',\n",
       " 'check',\n",
       " 'updat',\n",
       " 'larg',\n",
       " 'replica',\n",
       " 'when',\n",
       " 'switch',\n",
       " 'set',\n",
       " 'unison',\n",
       " 'use',\n",
       " 'file',\n",
       " 'creation',\n",
       " 'time',\n",
       " 'inod',\n",
       " 'number',\n",
       " 'scan',\n",
       " 'window',\n",
       " 'replica',\n",
       " 'updat',\n",
       " 'instead',\n",
       " 'read',\n",
       " 'full',\n",
       " 'content',\n",
       " 'everi',\n",
       " 'file',\n",
       " 'thi',\n",
       " 'may',\n",
       " 'caus',\n",
       " 'unison',\n",
       " 'miss',\n",
       " 'propag',\n",
       " 'updat',\n",
       " 'creat',\n",
       " 'time',\n",
       " 'modif',\n",
       " 'time',\n",
       " 'length',\n",
       " 'file',\n",
       " 'unchang',\n",
       " 'updat',\n",
       " 'easi',\n",
       " 'achiev',\n",
       " 'done',\n",
       " 'howev',\n",
       " 'unison',\n",
       " 'never',\n",
       " 'overwrit',\n",
       " 'updat',\n",
       " 'chang',\n",
       " 'replica',\n",
       " 'sinc',\n",
       " 'alway',\n",
       " 'safe',\n",
       " 'check',\n",
       " 'updat',\n",
       " 'propag',\n",
       " 'chang',\n",
       " 'thu',\n",
       " 'reason',\n",
       " 'use',\n",
       " 'switch',\n",
       " ...]"
      ]
     },
     "execution_count": 84,
     "metadata": {},
     "output_type": "execute_result"
    }
   ],
   "source": [
    "stemmed_nested_list[ np.argmax(clean_email_list)]"
   ]
  },
  {
   "cell_type": "code",
   "execution_count": 85,
   "id": "a4307a6a",
   "metadata": {
    "collapsed": true
   },
   "outputs": [
    {
     "data": {
      "text/plain": [
       "'------------------------ Yahoo! Groups Sponsor ---------------------~-->\\n\\n4 DVDs Free +s&p Join Now\\n\\nhttp://us.click.yahoo.com/pt6YBB/NXiEAA/Ey.GAA/26EolB/TM\\n\\n---------------------------------------------------------------------~->\\n\\n\\n\\nA new version of unison is now available for testing.  It incorporates\\n\\nseveral small improvements over 2.9.1, but the main change is a fix to\\n\\na bug that had potentially serious safety consequences, but only for\\n\\nthe very small number of users that are in the habit of running more\\n\\nthan one instance of Unison at a time, in parallel.  These users are\\n\\nstrongly encouraged to upgrade.  Others can wait if they wish.\\n\\n\\n\\nThe release includes pre-built executables for Linux and Solaris, but\\n\\nnot Windows.  (We are looking for a Unison-Windows maintainer -- at\\n\\nthe moment, none of the active developers are regularly using Unison\\n\\non Windows, and we do not have a machine that is configured properly\\n\\nfor building executables for export.)\\n\\n\\n\\nGrab it from here:\\n\\n   http://www.cis.upenn.edu/~bcpierce/unison/download.html\\n\\n\\n\\nEnjoy,\\n\\n\\n\\n        -- Benjamin\\n\\n\\n\\n   Changes since 2.9.1:\\n\\n     * Added a preference maxthreads that can be used to limit the number\\n\\n       of simultaneous file transfers.\\n\\n     * Added a backupdir preference, which controls where backup files\\n\\n       are stored.\\n\\n     * Basic support added for OSX. In particular, Unison now recognizes\\n\\n       when one of the hosts being synchronized is running OSX and\\n\\n       switches to a case-insensitive treatment of filenames (i.e., \\'foo\\'\\n\\n       and \\'FOO\\' are considered to be the same file). (OSX is not yet\\n\\n       fully working, however: in particular, files with resource forks\\n\\n       will not be synchronized correctly.)\\n\\n     * The same hash used to form the archive name is now also added to\\n\\n       the names of the temp files created during file transfer. The\\n\\n       reason for this is that, during update detection, we are going to\\n\\n       silently delete any old temp files that we find along the way, and\\n\\n       we want to prevent ourselves from deleting temp files belonging to\\n\\n       other instances of Unison that may be running in parallel, e.g.\\n\\n       synchronizing with a different host. Thanks to Ruslan Ermilov for\\n\\n       this suggestion.\\n\\n     * Several small user interface improvements\\n\\n     * Documentation\\n\\n          + FAQ and bug reporting instructions have been split out as\\n\\n            separate HTML pages, accessible directly from the unison web\\n\\n            page.\\n\\n          + Additions to FAQ, in particular suggestions about performance\\n\\n            tuning.\\n\\n     * Makefile\\n\\n          + Makefile.OCaml now sets UISTYLE=text or UISTYLE=gtk\\n\\n            automatically, depending on whether it finds lablgtk\\n\\n            installed\\n\\n          + Unison should now compile ``out of the box\\'\\' under OSX\\n\\n       \\n\\n   Changes since 2.8.1:\\n\\n     * Changing profile works again under Windows\\n\\n     * File movement optimization: Unison now tries to use local copy\\n\\n       instead of transfer for moved or copied files. It is controled by\\n\\n       a boolean option ``xferbycopying\\'\\'.\\n\\n     * Network statistics window (transfer rate, amount of data\\n\\n       transferred). [NB: not available in Windows-Cygwin version.]\\n\\n     * symlinks work under the cygwin version (which is dynamically\\n\\n       linked).\\n\\n     * Fixed potential deadlock when synchronizing between Windows and\\n\\n       Unix\\n\\n     * Small improvements:\\n\\n          + If neither the\\n\\n            tt USERPROFILE nor the\\n\\n            tt HOME environment variables are set, then Unison will put\\n\\n            its temporary commit log (called\\n\\n            tt DANGER.README) into the directory named by the\\n\\n            tt UNISON environment variable, if any; otherwise it will use\\n\\n            tt C:.\\n\\n          + alternative set of values for fastcheck: yes = true; no =\\n\\n            false; default = auto.\\n\\n          + -silent implies -contactquietly\\n\\n     * Source code:\\n\\n          + Code reorganization and tidying. (Started breaking up some of\\n\\n            the basic utility modules so that the non-unison-specific\\n\\n            stuff can be made available for other projects.)\\n\\n          + several Makefile and docs changes (for release);\\n\\n          + further comments in ``update.ml\\'\\';\\n\\n          + connection information is not stored in global variables\\n\\n            anymore.\\n\\n       \\n\\n   Changes since 2.7.78:\\n\\n     * Small bugfix to textual user interface under Unix (to avoid\\n\\n       leaving the terminal in a bad state where it would not echo inputs\\n\\n       after Unison exited).\\n\\n       \\n\\n   Changes since 2.7.39:\\n\\n     * Improvements to the main web page (stable and beta version docs\\n\\n       are now both accessible).\\n\\n     * User manual revised.\\n\\n     * Added some new preferences:\\n\\n          + ``sshcmd\\'\\' and ``rshcmd\\'\\' for specifying paths to ssh and rsh\\n\\n            programs.\\n\\n          + ``contactquietly\\'\\' for suppressing the ``contacting server\\'\\'\\n\\n            message during Unison startup (under the graphical UI).\\n\\n     * Bug fixes:\\n\\n          + Fixed small bug in UI that neglected to change the displayed\\n\\n            column headers if loading a new profile caused the roots to\\n\\n            change.\\n\\n          + Fixed a bug that would put the text UI into an infinite loop\\n\\n            if it encountered a conflict when run in batch mode.\\n\\n          + Added some code to try to fix the display of non-Ascii\\n\\n            characters in filenames on Windows systems in the GTK UI.\\n\\n            (This code is currently untested---if you\\'re one of the\\n\\n            people that had reported problems with display of non-ascii\\n\\n            filenames, we\\'d appreciate knowing if this actually fixes\\n\\n            things.)\\n\\n          + `-prefer/-force newer\\' works properly now. (The bug was\\n\\n            reported by Sebastian Urbaniak and Sean Fulton.)\\n\\n     * User interface and Unison behavior:\\n\\n          + Renamed `Proceed\\' to `Go\\' in the graphical UI.\\n\\n          + Added exit status for the textual user interface.\\n\\n          + Paths that are not synchronized because of conflicts or\\n\\n            errors during update detection are now noted in the log file.\\n\\n          + [END] messages in log now use a briefer format\\n\\n          + Changed the text UI startup sequence so that\\n\\n            tt ./unison -ui text will use the default profile instead of\\n\\n            failing.\\n\\n          + Made some improvements to the error messages.\\n\\n          + Added some debugging messages to remote.ml.\\n\\n       \\n\\n   Changes since 2.7.7:\\n\\n     * Incorporated, once again, a multi-threaded transport sub-system.\\n\\n       It transfers several files at the same time, thereby making much\\n\\n       more effective use of available network bandwidth. Unlike the\\n\\n       earlier attempt, this time we do not rely on the native thread\\n\\n       library of OCaml. Instead, we implement a light-weight,\\n\\n       non-preemptive multi-thread library in OCaml directly. This\\n\\n       version appears stable.\\n\\n       Some adjustments to unison are made to accommodate the\\n\\n       multi-threaded version. These include, in particular, changes to\\n\\n       the user interface and logging, for example:\\n\\n          + Two log entries for each transferring task, one for the\\n\\n            beginning, one for the end.\\n\\n          + Suppressed warning messages against removing temp files left\\n\\n            by a previous unison run, because warning does not work\\n\\n            nicely under multi-threading. The temp file names are made\\n\\n            less likely to coincide with the name of a file created by\\n\\n            the user. They take the form\\n\\n            .#<filename>.<serial>.unison.tmp.\\n\\n     * Added a new command to the GTK user interface: pressing \\'f\\' causes\\n\\n       Unison to start a new update detection phase, using as paths just\\n\\n       those paths that have been detected as changed and not yet marked\\n\\n       as successfully completed. Use this command to quickly restart\\n\\n       Unison on just the set of paths still needing attention after a\\n\\n       previous run.\\n\\n     * Made the ignorecase preference user-visible, and changed the\\n\\n       initialization code so that it can be manually set to true, even\\n\\n       if neither host is running Windows. (This may be useful, e.g.,\\n\\n       when using Unison running on a Unix system with a FAT volume\\n\\n       mounted.)\\n\\n     * Small improvements and bug fixes:\\n\\n          + Errors in preference files now generate fatal errors rather\\n\\n            than warnings at startup time. (I.e., you can\\'t go on from\\n\\n            them.) Also, we fixed a bug that was preventing these\\n\\n            warnings from appearing in the text UI, so some users who\\n\\n            have been running (unsuspectingly) with garbage in their\\n\\n            prefs files may now get error reports.\\n\\n          + Error reporting for preference files now provides file name\\n\\n            and line number.\\n\\n          + More intelligible message in the case of identical change to\\n\\n            the same files: ``Nothing to do: replicas have been changed\\n\\n            only in identical ways since last sync.\\'\\'\\n\\n          + Files with prefix \\'.#\\' excluded when scanning for preference\\n\\n            files.\\n\\n          + Rsync instructions are send directly instead of first\\n\\n            marshaled.\\n\\n          + Won\\'t try forever to get the fingerprint of a continuously\\n\\n            changing file: unison will give up after certain number of\\n\\n            retries.\\n\\n          + Other bug fixes, including the one reported by Peter Selinger\\n\\n            (force=older preference not working).\\n\\n     * Compilation:\\n\\n          + Upgraded to the new OCaml 3.04 compiler, with the LablGtk\\n\\n            1.2.3 library (patched version used for compiling under\\n\\n            Windows).\\n\\n          + Added the option to compile unison on the Windows platform\\n\\n            with Cygwin GNU C compiler. This option only supports\\n\\n            building dynamically linked unison executables.\\n\\n       \\n\\n   Changes since 2.7.4:\\n\\n     * Fixed a silly (but debilitating) bug in the client startup\\n\\n       sequence.\\n\\n       \\n\\n   Changes since 2.7.1:\\n\\n     * Added addprefsto preference, which (when set) controls which\\n\\n       preference file new preferences (e.g. new ignore patterns) are\\n\\n       added to.\\n\\n     * Bug fix: read the initial connection header one byte at a time, so\\n\\n       that we don\\'t block if the header is shorter than expected. (This\\n\\n       bug did not affect normal operation --- it just made it hard to\\n\\n       tell when you were trying to use Unison incorrectly with an old\\n\\n       version of the server, since it would hang instead of giving an\\n\\n       error message.)\\n\\n       \\n\\n   Changes since 2.6.59:\\n\\n     * Changed fastcheck from a boolean to a string preference. Its legal\\n\\n       values are yes (for a fast check), no (for a safe check), or\\n\\n       default (for a fast check---which also happens to be safe---when\\n\\n       running on Unix and a safe check when on Windows). The default is\\n\\n       default.\\n\\n     * Several preferences have been renamed for consistency. All\\n\\n       preference names are now spelled out in lowercase. For backward\\n\\n       compatibility, the old names still work, but they are not\\n\\n       mentioned in the manual any more.\\n\\n     * The temp files created by the \\'diff\\' and \\'merge\\' commands are now\\n\\n       named by prepending a new prefix to the file name, rather than\\n\\n       appending a suffix. This should avoid confusing diff/merge\\n\\n       programs that depend on the suffix to guess the type of the file\\n\\n       contents.\\n\\n     * We now set the keepalive option on the server socket, to make sure\\n\\n       that the server times out if the communication link is\\n\\n       unexpectedly broken.\\n\\n     * Bug fixes:\\n\\n          + When updating small files, Unison now closes the destination\\n\\n            file.\\n\\n          + File permissions are properly updated when the file is behind\\n\\n            a followed link.\\n\\n          + Several other small fixes.\\n\\n       \\n\\n   Changes since 2.6.38:\\n\\n     * Major Windows performance improvement!\\n\\n       We\\'ve added a preference fastcheck that makes Unison look only at\\n\\n       a file\\'s creation time and last-modified time to check whether it\\n\\n       has changed. This should result in a huge speedup when checking\\n\\n       for updates in large replicas.\\n\\n       When this switch is set, Unison will use file creation times as\\n\\n       \\'pseudo inode numbers\\' when scanning Windows replicas for updates,\\n\\n       instead of reading the full contents of every file. This may cause\\n\\n       Unison to miss propagating an update if the create time,\\n\\n       modification time, and length of the file are all unchanged by the\\n\\n       update (this is not easy to achieve, but it can be done). However,\\n\\n       Unison will never overwrite such an update with a change from the\\n\\n       other replica, since it always does a safe check for updates just\\n\\n       before propagating a change. Thus, it is reasonable to use this\\n\\n       switch most of the time and occasionally run Unison once with\\n\\n       fastcheck set to false, if you are worried that Unison may have\\n\\n       overlooked an update.\\n\\n       Warning: This change is has not yet been thoroughly field-tested.\\n\\n       If you set the fastcheck preference, pay careful attention to what\\n\\n       Unison is doing.\\n\\n     * New functionality: centralized backups and merging\\n\\n          + This version incorporates two pieces of major new\\n\\n            functionality, implemented by Sylvain Roy during a summer\\n\\n            internship at Penn: a centralized backup facility that keeps\\n\\n            a full backup of (selected files in) each replica, and a\\n\\n            merging feature that allows Unison to invoke an external\\n\\n            file-merging tool to resolve conflicting changes to\\n\\n            individual files.\\n\\n          + Centralized backups:\\n\\n               o Unison now maintains full backups of the\\n\\n                 last-synchronized versions of (some of) the files in\\n\\n                 each replica; these function both as backups in the\\n\\n                 usual sense and as the ``common version\\'\\' when invoking\\n\\n                 external merge programs.\\n\\n               o The backed up files are stored in a directory\\n\\n                 /.unison/backup on each host. (The name of this\\n\\n                 directory can be changed by setting the environment\\n\\n                 variable UNISONBACKUPDIR.)\\n\\n               o The predicate backup controls which files are actually\\n\\n                 backed up: giving the preference \\'backup = Path *\\'\\n\\n                 causes backing up of all files.\\n\\n               o Files are added to the backup directory whenever unison\\n\\n                 updates its archive. This means that\\n\\n                    # When unison reconstructs its archive from scratch\\n\\n                      (e.g., because of an upgrade, or because the\\n\\n                      archive files have been manually deleted), all\\n\\n                      files will be backed up.\\n\\n                    # Otherwise, each file will be backed up the first\\n\\n                      time unison propagates an update for it.\\n\\n               o The preference backupversions controls how many previous\\n\\n                 versions of each file are kept. The default is 2 (i.e.,\\n\\n                 the last synchronized version plus one backup).\\n\\n               o For backward compatibility, the backups preference is\\n\\n                 also still supported, but backup is now preferred.\\n\\n               o It is OK to manually delete files from the backup\\n\\n                 directory (or to throw away the directory itself).\\n\\n                 Before unison uses any of these files for anything\\n\\n                 important, it checks that its fingerprint matches the\\n\\n                 one that it expects.\\n\\n          + Merging:\\n\\n               o Both user interfaces offer a new \\'merge\\' command,\\n\\n                 invoked by pressing \\'m\\' (with a changed file selected).\\n\\n               o The actual merging is performed by an external program.\\n\\n                 The preferences merge and merge2 control how this\\n\\n                 program is invoked. If a backup exists for this file\\n\\n                 (see the backup preference), then the merge preference\\n\\n                 is used for this purpose; otherwise merge2 is used. In\\n\\n                 both cases, the value of the preference should be a\\n\\n                 string representing the command that should be passed to\\n\\n                 a shell to invoke the merge program. Within this string,\\n\\n                 the special substrings CURRENT1, CURRENT2, NEW, and OLD\\n\\n                 may appear at any point. Unison will substitute these as\\n\\n                 follows before invoking the command:\\n\\n                    # CURRENT1 is replaced by the name of the local copy\\n\\n                      of the file;\\n\\n                    # CURRENT2 is replaced by the name of a temporary\\n\\n                      file, into which the contents of the remote copy of\\n\\n                      the file have been transferred by Unison prior to\\n\\n                      performing the merge;\\n\\n                    # NEW is replaced by the name of a temporary file\\n\\n                      that Unison expects to be written by the merge\\n\\n                      program when it finishes, giving the desired new\\n\\n                      contents of the file; and\\n\\n                    # OLD is replaced by the name of the backed up copy\\n\\n                      of the original version of the file (i.e., its\\n\\n                      state at the end of the last successful run of\\n\\n                      Unison), if one exists (applies only to merge, not\\n\\n                      merge2).\\n\\n                 For example, on Unix systems setting the merge\\n\\n                 preference to\\n\\n\\n\\n   merge = diff3 -m CURRENT1 OLD CURRENT2 > NEW\\n\\n                 will tell Unison to use the external diff3 program for\\n\\n                 merging.\\n\\n                 A large number of external merging programs are\\n\\n                 available. For example, emacs users may find the\\n\\n                 following convenient:\\n\\n\\n\\n    merge2 = emacs -q --eval \\'(ediff-merge-files \"CURRENT1\" \"CURRENT2\"\\n\\n               nil \"NEW\")\\'\\n\\n    merge = emacs -q --eval \\'(ediff-merge-files-with-ancestor\\n\\n               \"CURRENT1\" \"CURRENT2\" \"OLD\" nil \"NEW\")\\'\\n\\n                 (These commands are displayed here on two lines to avoid\\n\\n                 running off the edge of the page. In your preference\\n\\n                 file, each should be written on a single line.)\\n\\n               o If the external program exits without leaving any file\\n\\n                 at the path NEW, Unison considers the merge to have\\n\\n                 failed. If the merge program writes a file called NEW\\n\\n                 but exits with a non-zero status code, then Unison\\n\\n                 considers the merge to have succeeded but to have\\n\\n                 generated conflicts. In this case, it attempts to invoke\\n\\n                 an external editor so that the user can resolve the\\n\\n                 conflicts. The value of the editor preference controls\\n\\n                 what editor is invoked by Unison. The default is emacs.\\n\\n               o Please send us suggestions for other useful values of\\n\\n                 the merge2 and merge preferences -- we\\'d like to give\\n\\n                 several examples in the manual.\\n\\n     * Smaller changes:\\n\\n          + When one preference file includes another, unison no longer\\n\\n            adds the suffix \\'.prf\\' to the included file by default. If a\\n\\n            file with precisely the given name exists in the .unison\\n\\n            directory, it will be used; otherwise Unison will add .prf,\\n\\n            as it did before. (This change means that included preference\\n\\n            files can be named blah.include instead of blah.prf, so that\\n\\n            unison will not offer them in its \\'choose a preference file\\'\\n\\n            dialog.)\\n\\n          + For Linux systems, we now offer both a statically linked and\\n\\n            a dynamically linked executable. The static one is larger,\\n\\n            but will probably run on more systems, since it doesn\\'t\\n\\n            depend on the same versions of dynamically linked library\\n\\n            modules being available.\\n\\n          + Fixed the force and prefer preferences, which were getting\\n\\n            the propagation direction exactly backwards.\\n\\n          + Fixed a bug in the startup code that would cause unison to\\n\\n            crash when the default profile (~/.unison/default.prf) does\\n\\n            not exist.\\n\\n          + Fixed a bug where, on the run when a profile is first\\n\\n            created, Unison would confusingly display the roots in\\n\\n            reverse order in the user interface.\\n\\n     * For developers:\\n\\n          + We\\'ve added a module dependency diagram to the source\\n\\n            distribution, in src/DEPENDENCIES.ps, to help new prospective\\n\\n            developers with navigating the code.\\n\\n       \\n\\n   Changes since 2.6.11:\\n\\n     * INCOMPATIBLE CHANGE: Archive format has changed.\\n\\n     * INCOMPATIBLE CHANGE: The startup sequence has been completely\\n\\n       rewritten and greatly simplified. The main user-visible change is\\n\\n       that the defaultpath preference has been removed. Its effect can\\n\\n       be approximated by using multiple profiles, with include\\n\\n       directives to incorporate common settings. All uses of defaultpath\\n\\n       in existing profiles should be changed to path.\\n\\n       Another change in startup behavior that will affect some users is\\n\\n       that it is no longer possible to specify roots both in the profile\\n\\n       and on the command line.\\n\\n       You can achieve a similar effect, though, by breaking your profile\\n\\n       into two:\\n\\n\\n\\n\\n\\n  default.prf =\\n\\n      root = blah\\n\\n      root = foo\\n\\n      include common\\n\\n\\n\\n  common.prf =\\n\\n      <everything else>\\n\\n       Now do\\n\\n\\n\\n  unison common root1 root2\\n\\n       when you want to specify roots explicitly.\\n\\n     * The -prefer and -force options have been extended to allow users\\n\\n       to specify that files with more recent modtimes should be\\n\\n       propagated, writing either -prefer newer or -force newer. (For\\n\\n       symmetry, Unison will also accept -prefer older or -force older.)\\n\\n       The -force older/newer options can only be used when -times is\\n\\n       also set.\\n\\n       The graphical user interface provides access to these facilities\\n\\n       on a one-off basis via the Actions menu.\\n\\n     * Names of roots can now be ``aliased\\'\\' to allow replicas to be\\n\\n       relocated without changing the name of the archive file where\\n\\n       Unison stores information between runs. (This feature is for\\n\\n       experts only. See the ``Archive Files\\'\\' section of the manual for\\n\\n       more information.)\\n\\n     * Graphical user-interface:\\n\\n          + A new command is provided in the Synchronization menu for\\n\\n            switching to a new profile without restarting Unison from\\n\\n            scratch.\\n\\n          + The GUI also supports one-key shortcuts for commonly used\\n\\n            profiles. If a profile contains a preference of the form \\'key\\n\\n            = n\\', where n is a single digit, then pressing this key will\\n\\n            cause Unison to immediately switch to this profile and begin\\n\\n            synchronization again from scratch. (Any actions that may\\n\\n            have been selected for a set of changes currently being\\n\\n            displayed will be discarded.)\\n\\n          + Each profile may include a preference \\'label = <string>\\'\\n\\n            giving a descriptive string that described the options\\n\\n            selected in this profile. The string is listed along with the\\n\\n            profile name in the profile selection dialog, and displayed\\n\\n            in the top-right corner of the main Unison window.\\n\\n     * Minor:\\n\\n          + Fixed a bug that would sometimes cause the \\'diff\\' display to\\n\\n            order the files backwards relative to the main user\\n\\n            interface. (Thanks to Pascal Brisset for this fix.)\\n\\n          + On Unix systems, the graphical version of Unison will check\\n\\n            the DISPLAY variable and, if it is not set, automatically\\n\\n            fall back to the textual user interface.\\n\\n          + Synchronization paths (path preferences) are now matched\\n\\n            against the ignore preferences. So if a path is both\\n\\n            specified in a path preference and ignored, it will be\\n\\n            skipped.\\n\\n          + Numerous other bugfixes and small improvements.\\n\\n       \\n\\n   Changes since 2.6.1:\\n\\n     * The synchronization of modification times has been disabled for\\n\\n       directories.\\n\\n     * Preference files may now include lines of the form include <name>,\\n\\n       which will cause name.prf to be read at that point.\\n\\n     * The synchronization of permission between Windows and Unix now\\n\\n       works properly.\\n\\n     * A binding CYGWIN=binmode in now added to the environment so that\\n\\n       the Cygwin port of OpenSSH works properly in a non-Cygwin context.\\n\\n     * The servercmd and addversionno preferences can now be used\\n\\n       together: -addversionno appends an appropriate -NNN to the server\\n\\n       command, which is found by using the value of the -servercmd\\n\\n       preference if there is one, or else just unison.\\n\\n     * Both \\'-pref=val\\' and \\'-pref val\\' are now allowed for boolean\\n\\n       values. (The former can be used to set a preference to false.)\\n\\n     * Lot of small bugs fixed.\\n\\n       \\n\\n   Changes since 2.5.31:\\n\\n     * The log preference is now set to true by default, since the log\\n\\n       file seems useful for most users.\\n\\n     * Several miscellaneous bugfixes (most involving symlinks).\\n\\n       \\n\\n   Changes since 2.5.25:\\n\\n     * INCOMPATIBLE CHANGE: Archive format has changed (again).\\n\\n     * Several significant bugs introduced in 2.5.25 have been fixed.\\n\\n       \\n\\n   Changes since 2.5.1:\\n\\n     * INCOMPATIBLE CHANGE: Archive format has changed. Make sure you\\n\\n       synchronize your replicas before upgrading, to avoid spurious\\n\\n       conflicts. The first sync after upgrading will be slow.\\n\\n     * New functionality:\\n\\n          + Unison now synchronizes file modtimes, user-ids, and\\n\\n            group-ids.\\n\\n            These new features are controlled by a set of new\\n\\n            preferences, all of which are currently false by default.\\n\\n               o When the times preference is set to true, file\\n\\n                 modification times are propaged. (Because the\\n\\n                 representations of time may not have the same\\n\\n                 granularity on both replicas, Unison may not always be\\n\\n                 able to make the modtimes precisely equal, but it will\\n\\n                 get them as close as the operating systems involved\\n\\n                 allow.)\\n\\n               o When the owner preference is set to true, file ownership\\n\\n                 information is synchronized.\\n\\n               o When the group preference is set to true, group\\n\\n                 information is synchronized.\\n\\n               o When the numericIds preference is set to true, owner and\\n\\n                 group information is synchronized numerically. By\\n\\n                 default, owner and group numbers are converted to names\\n\\n                 on each replica and these names are synchronized. (The\\n\\n                 special user id 0 and the special group 0 are never\\n\\n                 mapped via user/group names even if this preference is\\n\\n                 not set.)\\n\\n          + Added an integer-valued preference perms that can be used to\\n\\n            control the propagation of permission bits. The value of this\\n\\n            preference is a mask indicating which permission bits should\\n\\n            be synchronized. It is set by default to 0o1777: all bits but\\n\\n            the set-uid and set-gid bits are synchronised (synchronizing\\n\\n            theses latter bits can be a security hazard). If you want to\\n\\n            synchronize all bits, you can set the value of this\\n\\n            preference to -1.\\n\\n          + Added a log preference (default false), which makes Unison\\n\\n            keep a complete record of the changes it makes to the\\n\\n            replicas. By default, this record is written to a file called\\n\\n            unison.log in the user\\'s home directory (the value of the\\n\\n            HOME environment variable). If you want it someplace else,\\n\\n            set the logfile preference to the full pathname you want\\n\\n            Unison to use.\\n\\n          + Added an ignorenot preference that maintains a set of\\n\\n            patterns for paths that should definitely not be ignored,\\n\\n            whether or not they match an ignore pattern. (That is, a path\\n\\n            will now be ignored iff it matches an ignore pattern and does\\n\\n            not match any ignorenot patterns.)\\n\\n     * User-interface improvements:\\n\\n          + Roots are now displayed in the user interface in the same\\n\\n            order as they were given on the command line or in the\\n\\n            preferences file.\\n\\n          + When the batch preference is set, the graphical user\\n\\n            interface no longer waits for user confirmation when it\\n\\n            displays a warning message: it simply pops up an advisory\\n\\n            window with a Dismiss button at the bottom and keeps on\\n\\n            going.\\n\\n          + Added a new preference for controlling how many status\\n\\n            messages are printed during update detection: statusdepth\\n\\n            controls the maximum depth for paths on the local machine\\n\\n            (longer paths are not displayed, nor are non-directory\\n\\n            paths). The value should be an integer; default is 1.\\n\\n          + Removed the trace and silent preferences. They did not seem\\n\\n            very useful, and there were too many preferences for\\n\\n            controlling output in various ways.\\n\\n          + The text UI now displays just the default command (the one\\n\\n            that will be used if the user just types <return>) instead of\\n\\n            all available commands. Typing ? will print the full list of\\n\\n            possibilities.\\n\\n          + The function that finds the canonical hostname of the local\\n\\n            host (which is used, for example, in calculating the name of\\n\\n            the archive file used to remember which files have been\\n\\n            synchronized) normally uses the gethostname operating system\\n\\n            call. However, if the environment variable\\n\\n            UNISONLOCALHOSTNAME is set, its value will now be used\\n\\n            instead. This makes it easier to use Unison in situations\\n\\n            where a machine\\'s name changes frequently (e.g., because it\\n\\n            is a laptop and gets moved around a lot).\\n\\n          + File owner and group are now displayed in the ``detail\\n\\n            window\\'\\' at the bottom of the screen, when unison is\\n\\n            configured to synchronize them.\\n\\n     * For hackers:\\n\\n          + Updated to Jacques Garrigue\\'s new version of lablgtk, which\\n\\n            means we can throw away our local patched version.\\n\\n            If you\\'re compiling the GTK version of unison from sources,\\n\\n            you\\'ll need to update your copy of lablgtk to the developers\\n\\n            release, available from\\n\\n            http://wwwfun.kurims.kyoto-u.ac.jp/soft/olabl/lablgtk.html\\n\\n            (Warning: installing lablgtk under Windows is currently a bit\\n\\n            challenging.)\\n\\n          + The TODO.txt file (in the source distribution) has been\\n\\n            cleaned up and reorganized. The list of pending tasks should\\n\\n            be much easier to make sense of, for people that may want to\\n\\n            contribute their programming energies. There is also a\\n\\n            separate file BUGS.txt for open bugs.\\n\\n          + The Tk user interface has been removed (it was not being\\n\\n            maintained and no longer compiles).\\n\\n          + The debug preference now prints quite a bit of additional\\n\\n            information that should be useful for identifying sources of\\n\\n            problems.\\n\\n          + The version number of the remote server is now checked right\\n\\n            away during the connection setup handshake, rather than\\n\\n            later. (Somebody sent a bug report of a server crash that\\n\\n            turned out to come from using inconsistent versions: better\\n\\n            to check this earlier and in a way that can\\'t crash either\\n\\n            client or server.)\\n\\n          + Unison now runs correctly on 64-bit architectures (e.g. Alpha\\n\\n            linux). We will not be distributing binaries for these\\n\\n            architectures ourselves (at least for a while) but if someone\\n\\n            would like to make them available, we\\'ll be glad to provide a\\n\\n            link to them.\\n\\n     * Bug fixes:\\n\\n          + Pattern matching (e.g. for ignore) is now case-insensitive\\n\\n            when Unison is in case-insensitive mode (i.e., when one of\\n\\n            the replicas is on a windows machine).\\n\\n          + Some people had trouble with mysterious failures during\\n\\n            propagation of updates, where files would be falsely reported\\n\\n            as having changed during synchronization. This should be\\n\\n            fixed.\\n\\n          + Numerous smaller fixes.\\n\\n       \\n\\n   Changes since 2.4.1:\\n\\n     * Added a number of \\'sorting modes\\' for the user interface. By\\n\\n       default, conflicting changes are displayed at the top, and the\\n\\n       rest of the entries are sorted in alphabetical order. This\\n\\n       behavior can be changed in the following ways:\\n\\n          + Setting the sortnewfirst preference to true causes newly\\n\\n            created files to be displayed before changed files.\\n\\n          + Setting sortbysize causes files to be displayed in increasing\\n\\n            order of size.\\n\\n          + Giving the preference sortfirst=<pattern> (where <pattern> is\\n\\n            a path descriptor in the same format as \\'ignore\\' and \\'follow\\'\\n\\n            patterns, causes paths matching this pattern to be displayed\\n\\n            first.\\n\\n          + Similarly, giving the preference sortlast=<pattern> causes\\n\\n            paths matching this pattern to be displayed last.\\n\\n       The sorting preferences are described in more detail in the user\\n\\n       manual. The sortnewfirst and sortbysize flags can also be accessed\\n\\n       from the \\'Sort\\' menu in the grpahical user interface.\\n\\n     * Added two new preferences that can be used to change unison\\'s\\n\\n       fundamental behavior to make it more like a mirroring tool instead\\n\\n       of a synchronizer.\\n\\n          + Giving the preference prefer with argument <root> (by adding\\n\\n            -prefer <root> to the command line or prefer=<root>) to your\\n\\n            profile) means that, if there is a conflict, the contents of\\n\\n            <root> should be propagated to the other replica (with no\\n\\n            questions asked). Non-conflicting changes are treated as\\n\\n            usual.\\n\\n          + Giving the preference force with argument <root> will make\\n\\n            unison resolve all differences in favor of the given root,\\n\\n            even if it was the other replica that was changed.\\n\\n       These options should be used with care! (More information is\\n\\n       available in the manual.)\\n\\n     * Small changes:\\n\\n          + Changed default answer to \\'Yes\\' in all two-button dialogs in\\n\\n            the graphical interface (this seems more intuitive).\\n\\n          + The rsync preference has been removed (it was used to\\n\\n            activate rsync compression for file transfers, but rsync\\n\\n            compression is now enabled by default).\\n\\n          + In the text user interface, the arrows indicating which\\n\\n            direction changes are being propagated are printed\\n\\n            differently when the user has overridded Unison\\'s default\\n\\n            recommendation (====> instead of ---->). This matches the\\n\\n            behavior of the graphical interface, which displays such\\n\\n            arrows in a different color.\\n\\n          + Carriage returns (Control-M\\'s) are ignored at the ends of\\n\\n            lines in profiles, for Windows compatibility.\\n\\n          + All preferences are now fully documented in the user manual.\\n\\n       \\n\\n   Changes since 2.3.12:\\n\\n     * INCOMPATIBLE CHANGE: Archive format has changed. Make sure you\\n\\n       synchronize your replicas before upgrading, to avoid spurious\\n\\n       conflicts. The first sync after upgrading will be slow.\\n\\n     * New/improved functionality:\\n\\n          + A new preference -sortbysize controls the order in which\\n\\n            changes are displayed to the user: when it is set to true,\\n\\n            the smallest changed files are displayed first. (The default\\n\\n            setting is false.)\\n\\n          + A new preference -sortnewfirst causes newly created files to\\n\\n            be listed before other updates in the user interface.\\n\\n          + We now allow the ssh protocol to specify a port.\\n\\n          + Incompatible change: The unison: protocol is deprecated, and\\n\\n            we added file: and socket:. You may have to modify your\\n\\n            profiles in the .unison directory. If a replica is specified\\n\\n            without an explicit protocol, we now assume it refers to a\\n\\n            file. (Previously \"//saul/foo\" meant to use SSH to connect to\\n\\n            saul, then access the foo directory. Now it means to access\\n\\n            saul via a remote file mechanism such as samba; the old\\n\\n            effect is now achieved by writing ssh://saul/foo.)\\n\\n          + Changed the startup sequence for the case where roots are\\n\\n            given but no profile is given on the command line. The new\\n\\n            behavior is to use the default profile (creating it if it\\n\\n            does not exist), and temporarily override its roots. The\\n\\n            manual claimed that this case would work by reading no\\n\\n            profile at all, but AFAIK this was never true.\\n\\n          + In all user interfaces, files with conflicts are always\\n\\n            listed first\\n\\n          + A new preference \\'sshversion\\' can be used to control which\\n\\n            version of ssh should be used to connect to the server. Legal\\n\\n            values are 1 and 2. (Default is empty, which will make unison\\n\\n            use whatever version of ssh is installed as the default \\'ssh\\'\\n\\n            command.)\\n\\n          + The situation when the permissions of a file was updated the\\n\\n            same on both side is now handled correctly (we used to report\\n\\n            a spurious conflict)\\n\\n     * Improvements for the Windows version:\\n\\n          + The fact that filenames are treated case-insensitively under\\n\\n            Windows should now be handled correctly. The exact behavior\\n\\n            is described in the cross-platform section of the manual.\\n\\n          + It should be possible to synchronize with Windows shares,\\n\\n            e.g., //host/drive/path.\\n\\n          + Workarounds to the bug in syncing root directories in\\n\\n            Windows. The most difficult thing to fix is an ocaml bug:\\n\\n            Unix.opendir fails on c: in some versions of Windows.\\n\\n     * Improvements to the GTK user interface (the Tk interface is no\\n\\n       longer being maintained):\\n\\n          + The UI now displays actions differently (in blue) when they\\n\\n            have been explicitly changed by the user from Unison\\'s\\n\\n            default recommendation.\\n\\n          + More colorful appearance.\\n\\n          + The initial profile selection window works better.\\n\\n          + If any transfers failed, a message to this effect is\\n\\n            displayed along with \\'Synchronization complete\\' at the end of\\n\\n            the transfer phase (in case they may have scrolled off the\\n\\n            top).\\n\\n          + Added a global progress meter, displaying the percentage of\\n\\n            total bytes that have been transferred so far.\\n\\n     * Improvements to the text user interface:\\n\\n          + The file details will be displayed automatically when a\\n\\n            conflict is been detected.\\n\\n          + when a warning is generated (e.g. for a temporary file left\\n\\n            over from a previous run of unison) Unison will no longer\\n\\n            wait for a response if it is running in -batch mode.\\n\\n          + The UI now displays a short list of possible inputs each time\\n\\n            it waits for user interaction.\\n\\n          + The UI now quits immediately (rather than looping back and\\n\\n            starting the interaction again) if the user presses \\'q\\' when\\n\\n            asked whether to propagate changes.\\n\\n          + Pressing \\'g\\' in the text user interface will proceed\\n\\n            immediately with propagating updates, without asking any more\\n\\n            questions.\\n\\n     * Documentation and installation changes:\\n\\n          + The manual now includes a FAQ, plus sections on common\\n\\n            problems and on tricks contributed by users.\\n\\n          + Both the download page and the download directory explicitly\\n\\n            say what are the current stable and beta-test version\\n\\n            numbers.\\n\\n          + The OCaml sources for the up-to-the-minute developers\\'\\n\\n            version (not guaranteed to be stable, or even to compile, at\\n\\n            any given time!) are now available from the download page.\\n\\n          + Added a subsection to the manual describing cross-platform\\n\\n            issues (case conflicts, illegal filenames)\\n\\n     * Many small bug fixes and random improvements.\\n\\n       \\n\\n   Changes since 2.3.1:\\n\\n     * Several bug fixes. The most important is a bug in the rsync module\\n\\n       that would occasionally cause change propagation to fail with a\\n\\n       \\'rename\\' error.\\n\\n       \\n\\n   Changes since 2.2:\\n\\n     * The multi-threaded transport system is now disabled by default.\\n\\n       (It is not stable enough yet.)\\n\\n     * Various bug fixes.\\n\\n     * A new experimental feature:\\n\\n       The final component of a -path argument may now be the wildcard\\n\\n       specifier *. When Unison sees such a path, it expands this path on\\n\\n       the client into into the corresponding list of paths by listing\\n\\n       the contents of that directory.\\n\\n       Note that if you use wildcard paths from the command line, you\\n\\n       will probably need to use quotes or a backslash to prevent the *\\n\\n       from being interpreted by your shell.\\n\\n       If both roots are local, the contents of the first one will be\\n\\n       used for expanding wildcard paths. (Nb: this is the first one\\n\\n       after the canonization step -- i.e., the one that is listed first\\n\\n       in the user interface -- not the one listed first on the command\\n\\n       line or in the preferences file.)\\n\\n       \\n\\n   Changes since 2.1:\\n\\n     * The transport subsystem now includes an implementation by Sylvain\\n\\n       Gommier and Norman Ramsey of Tridgell and Mackerras\\'s rsync\\n\\n       protocol. This protocol achieves much faster transfers when only a\\n\\n       small part of a large file has been changed by sending just diffs.\\n\\n       This feature is mainly helpful for transfers over slow links---on\\n\\n       fast local area networks it can actually degrade performance---so\\n\\n       we have left it off by default. Start unison with the -rsync\\n\\n       option (or put rsync=true in your preferences file) to turn it on.\\n\\n     * ``Progress bars\\'\\' are now diplayed during remote file transfers,\\n\\n       showing what percentage of each file has been transferred so far.\\n\\n     * The version numbering scheme has changed. New releases will now be\\n\\n       have numbers like 2.2.30, where the second component is\\n\\n       incremented on every significant public release and the third\\n\\n       component is the ``patch level.\\'\\'\\n\\n     * Miscellaneous improvements to the GTK-based user interface.\\n\\n     * The manual is now available in PDF format.\\n\\n     * We are experimenting with using a multi-threaded transport\\n\\n       subsystem to transfer several files at the same time, making much\\n\\n       more effective use of available network bandwidth. This feature is\\n\\n       not completely stable yet, so by default it is disabled in the\\n\\n       release version of Unison.\\n\\n       If you want to play with the multi-threaded version, you\\'ll need\\n\\n       to recompile Unison from sources (as described in the\\n\\n       documentation), setting the THREADS flag in Makefile.OCaml to\\n\\n       true. Make sure that your OCaml compiler has been installed with\\n\\n       the -with-pthreads configuration option. (You can verify this by\\n\\n       checking whether the file threads/threads.cma in the OCaml\\n\\n       standard library directory contains the string -lpthread near the\\n\\n       end.)\\n\\n       \\n\\n   Changes since 1.292:\\n\\n     * Reduced memory footprint (this is especially important during the\\n\\n       first run of unison, where it has to gather information about all\\n\\n       the files in both repositories).\\n\\n     * Fixed a bug that would cause the socket server under NT to fail\\n\\n       after the client exits.\\n\\n     * Added a SHIFT modifier to the Ignore menu shortcut keys in GTK\\n\\n       interface (to avoid hitting them accidentally).\\n\\n       \\n\\n   Changes since 1.231:\\n\\n     * Tunneling over ssh is now supported in the Windows version. See\\n\\n       the installation section of the manual for detailed instructions.\\n\\n     * The transport subsystem now includes an implementation of the\\n\\n       rsync protocol, built by Sylvain Gommier and Norman Ramsey. This\\n\\n       protocol achieves much faster transfers when only a small part of\\n\\n       a large file has been changed by sending just diffs. The rsync\\n\\n       feature is off by default in the current version. Use the -rsync\\n\\n       switch to turn it on. (Nb. We still have a lot of tuning to do:\\n\\n       you may not notice much speedup yet.)\\n\\n     * We\\'re experimenting with a multi-threaded transport subsystem,\\n\\n       written by Jerome Vouillon. The downloadable binaries are still\\n\\n       single-threaded: if you want to try the multi-threaded version,\\n\\n       you\\'ll need to recompile from sources. (Say make THREADS=true.)\\n\\n       Native thread support from the compiler is required. Use the\\n\\n       option -threads N to select the maximal number of concurrent\\n\\n       threads (default is 5). Multi-threaded and single-threaded\\n\\n       clients/servers can interoperate.\\n\\n     * A new GTK-based user interface is now available, thanks to Jacques\\n\\n       Garrigue. The Tk user interface still works, but we\\'ll be shifting\\n\\n       development effort to the GTK interface from now on.\\n\\n     * OCaml 3.00 is now required for compiling Unison from sources. The\\n\\n       modules uitk and myfileselect have been changed to use labltk\\n\\n       instead of camltk. To compile the Tk interface in Windows, you\\n\\n       must have ocaml-3.00 and tk8.3. When installing tk8.3, put it in\\n\\n       c:\\\\Tcl rather than the suggested c:\\\\Program Files\\\\Tcl, and be sure\\n\\n       to install the headers and libraries (which are not installed by\\n\\n       default).\\n\\n     * Added a new -addversionno switch, which causes unison to use\\n\\n       unison-<currentversionnumber> instead of just unison as the remote\\n\\n       server command. This allows multiple versions of unison to coexist\\n\\n       conveniently on the same server: whichever version is run on the\\n\\n       client, the same version will be selected on the server.\\n\\n       \\n\\n   Changes since 1.219:\\n\\n     * INCOMPATIBLE CHANGE: Archive format has changed. Make sure you\\n\\n       synchronize your replicas before upgrading, to avoid spurious\\n\\n       conflicts. The first sync after upgrading will be slow.\\n\\n     * This version fixes several annoying bugs, including:\\n\\n          + Some cases where propagation of file permissions was not\\n\\n            working.\\n\\n          + umask is now ignored when creating directories\\n\\n          + directories are create writable, so that a read-only\\n\\n            directory and its contents can be propagated.\\n\\n          + Handling of warnings generated by the server.\\n\\n          + Synchronizing a path whose parent is not a directory on both\\n\\n            sides is now flagged as erroneous.\\n\\n          + Fixed some bugs related to symnbolic links and nonexistant\\n\\n            roots.\\n\\n               o When a change (deletion or new contents) is propagated\\n\\n                 onto a \\'follow\\'ed symlink, the file pointed to by the\\n\\n                 link is now changed. (We used to change the link itself,\\n\\n                 which doesn\\'t fit our assertion that \\'follow\\' means the\\n\\n                 link is completely invisible)\\n\\n               o When one root did not exist, propagating the other root\\n\\n                 on top of it used to fail, becuase unison could not\\n\\n                 calculate the working directory into which to write\\n\\n                 changes. This should be fixed.\\n\\n     * A human-readable timestamp has been added to Unison\\'s archive\\n\\n       files.\\n\\n     * The semantics of Path and Name regular expressions now correspond\\n\\n       better.\\n\\n     * Some minor improvements to the text UI (e.g. a command for going\\n\\n       back to previous items)\\n\\n     * The organization of the export directory has changed --- should be\\n\\n       easier to find / download things now.\\n\\n       \\n\\n   Changes since 1.200:\\n\\n     * INCOMPATIBLE CHANGE: Archive format has changed. Make sure you\\n\\n       synchronize your replicas before upgrading, to avoid spurious\\n\\n       conflicts. The first sync after upgrading will be slow.\\n\\n     * This version has not been tested extensively on Windows.\\n\\n     * Major internal changes designed to make unison safer to run at the\\n\\n       same time as the replicas are being changed by the user.\\n\\n     * Internal performance improvements.\\n\\n       \\n\\n   Changes since 1.190:\\n\\n     * INCOMPATIBLE CHANGE: Archive format has changed. Make sure you\\n\\n       synchronize your replicas before upgrading, to avoid spurious\\n\\n       conflicts. The first sync after upgrading will be slow.\\n\\n     * A number of internal functions have been changed to reduce the\\n\\n       amount of memory allocation, especially during the first\\n\\n       synchronization. This should help power users with very big\\n\\n       replicas.\\n\\n     * Reimplementation of low-level remote procedure call stuff, in\\n\\n       preparation for adding rsync-like smart file transfer in a later\\n\\n       release.\\n\\n     * Miscellaneous bug fixes.\\n\\n       \\n\\n   Changes since 1.180:\\n\\n     * INCOMPATIBLE CHANGE: Archive format has changed. Make sure you\\n\\n       synchronize your replicas before upgrading, to avoid spurious\\n\\n       conflicts. The first sync after upgrading will be slow.\\n\\n     * Fixed some small bugs in the interpretation of ignore patterns.\\n\\n     * Fixed some problems that were preventing the Windows version from\\n\\n       working correctly when click-started.\\n\\n     * Fixes to treatment of file permissions under Windows, which were\\n\\n       causing spurious reports of different permissions when\\n\\n       synchronizing between windows and unix systems.\\n\\n     * Fixed one more non-tail-recursive list processing function, which\\n\\n       was causing stack overflows when synchronizing very large\\n\\n       replicas.\\n\\n       \\n\\n   Changes since 1.169:\\n\\n     * The text user interface now provides commands for ignoring files.\\n\\n     * We found and fixed some more non-tail-recursive list processing\\n\\n       functions. Some power users have reported success with very large\\n\\n       replicas.\\n\\n     * INCOMPATIBLE CHANGE: Files ending in .tmp are no longer ignored\\n\\n       automatically. If you want to ignore such files, put an\\n\\n       appropriate ignore pattern in your profile.\\n\\n     * INCOMPATIBLE CHANGE: The syntax of ignore and follow patterns has\\n\\n       changed. Instead of putting a line of the form\\n\\n\\n\\n                 ignore = <regexp>\\n\\n       in your profile (.unison/default.prf), you should put:\\n\\n\\n\\n                 ignore = Regexp <regexp>\\n\\n       Moreover, two other styles of pattern are also recognized:\\n\\n\\n\\n                 ignore = Name <name>\\n\\n       matches any path in which one component matches <name>, while\\n\\n\\n\\n                 ignore = Path <path>\\n\\n       matches exactly the path <path>.\\n\\n       Standard ``globbing\\'\\' conventions can be used in <name> and\\n\\n       <path>:\\n\\n          + a ? matches any single character except /\\n\\n          + a * matches any sequence of characters not including /\\n\\n          + [xyz] matches any character from the set {x, y, z }\\n\\n          + {a,bb,ccc} matches any one of a, bb, or ccc.\\n\\n       See the user manual for some examples.\\n\\n       \\n\\n   Changes since 1.146:\\n\\n     * Some users were reporting stack overflows when synchronizing huge\\n\\n       directories. We found and fixed some non-tail-recursive list\\n\\n       processing functions, which we hope will solve the problem. Please\\n\\n       give it a try and let us know.\\n\\n     * Major additions to the documentation.\\n\\n       \\n\\n   Changes since 1.142:\\n\\n     * Major internal tidying and many small bugfixes.\\n\\n     * Major additions to the user manual.\\n\\n     * Unison can now be started with no arguments -- it will prompt\\n\\n       automatically for the name of a profile file containing the roots\\n\\n       to be synchronized. This makes it possible to start the graphical\\n\\n       UI from a desktop icon.\\n\\n     * Fixed a small bug where the text UI on NT was raising a \\'no such\\n\\n       signal\\' exception.\\n\\n       \\n\\n   Changes since 1.139:\\n\\n     * The precompiled windows binary in the last release was compiled\\n\\n       with an old OCaml compiler, causing propagation of permissions not\\n\\n       to work (and perhaps leading to some other strange behaviors we\\'ve\\n\\n       heard reports about). This has been corrected. If you\\'re using\\n\\n       precompiled binaries on Windows, please upgrade.\\n\\n     * Added a -debug command line flag, which controls debugging of\\n\\n       various modules. Say -debug XXX to enable debug tracing for module\\n\\n       XXX, or -debug all to turn on absolutely everything.\\n\\n     * Fixed a small bug where the text UI on NT was raising a \\'no such\\n\\n       signal\\' exception.\\n\\n       \\n\\n   Changes since 1.111:\\n\\n     * INCOMPATIBLE CHANGE: The names and formats of the preference files\\n\\n       in the .unison directory have changed. In particular:\\n\\n          + the file ``prefs\\'\\' should be renamed to default.prf\\n\\n          + the contents of the file ``ignore\\'\\' should be merged into\\n\\n            default.prf. Each line of the form REGEXP in ignore should\\n\\n            become a line of the form ignore = REGEXP in default.prf.\\n\\n     * Unison now handles permission bits and symbolic links. See the\\n\\n       manual for details.\\n\\n     * You can now have different preference files in your .unison\\n\\n       directory. If you start unison like this\\n\\n\\n\\n             unison profilename\\n\\n       (i.e. with just one ``anonymous\\'\\' command-line argument), then the\\n\\n       file ~/.unison/profilename.prf will be loaded instead of\\n\\n       default.prf.\\n\\n     * Some improvements to terminal handling in the text user interface\\n\\n     * Added a switch -killServer that terminates the remote server\\n\\n       process when the unison client is shutting down, even when using\\n\\n       sockets for communication. (By default, a remote server created\\n\\n       using ssh/rsh is terminated automatically, while a socket server\\n\\n       is left running.)\\n\\n     * When started in \\'socket server\\' mode, unison prints \\'server\\n\\n       started\\' on stderr when it is ready to accept connections. (This\\n\\n       may be useful for scripts that want to tell when a socket-mode\\n\\n       server has finished initalization.)\\n\\n     * We now make a nightly mirror of our current internal development\\n\\n       tree, in case anyone wants an up-to-the-minute version to hack\\n\\n       around with.\\n\\n     * Added a file CONTRIB with some suggestions for how to help us make\\n\\n       Unison better.\\n\\n       \\n\\n\\n\\n\\n\\nChanges in Version 2.9.20\\n\\n\\n\\n   Changes since 2.9.1:\\n\\n     * Added a preference maxthreads that can be used to limit the number\\n\\n       of simultaneous file transfers.\\n\\n     * Added a backupdir preference, which controls where backup files\\n\\n       are stored.\\n\\n     * Basic support added for OSX. In particular, Unison now recognizes\\n\\n       when one of the hosts being synchronized is running OSX and\\n\\n       switches to a case-insensitive treatment of filenames (i.e., \\'foo\\'\\n\\n       and \\'FOO\\' are considered to be the same file). (OSX is not yet\\n\\n       fully working, however: in particular, files with resource forks\\n\\n       will not be synchronized correctly.)\\n\\n     * The same hash used to form the archive name is now also added to\\n\\n       the names of the temp files created during file transfer. The\\n\\n       reason for this is that, during update detection, we are going to\\n\\n       silently delete any old temp files that we find along the way, and\\n\\n       we want to prevent ourselves from deleting temp files belonging to\\n\\n       other instances of Unison that may be running in parallel, e.g.\\n\\n       synchronizing with a different host. Thanks to Ruslan Ermilov for\\n\\n       this suggestion.\\n\\n     * Several small user interface improvements\\n\\n     * Documentation\\n\\n          + FAQ and bug reporting instructions have been split out as\\n\\n            separate HTML pages, accessible directly from the unison web\\n\\n            page.\\n\\n          + Additions to FAQ, in particular suggestions about performance\\n\\n            tuning.\\n\\n     * Makefile\\n\\n          + Makefile.OCaml now sets UISTYLE=text or UISTYLE=gtk\\n\\n            automatically, depending on whether it finds lablgtk\\n\\n            installed\\n\\n          + Unison should now compile ``out of the box\\'\\' under OSX\\n\\n       \\n\\n   Changes since 2.8.1:\\n\\n     * Changing profile works again under Windows\\n\\n     * File movement optimization: Unison now tries to use local copy\\n\\n       instead of transfer for moved or copied files. It is controled by\\n\\n       a boolean option ``xferbycopying\\'\\'.\\n\\n     * Network statistics window (transfer rate, amount of data\\n\\n       transferred). [NB: not available in Windows-Cygwin version.]\\n\\n     * symlinks work under the cygwin version (which is dynamically\\n\\n       linked).\\n\\n     * Fixed potential deadlock when synchronizing between Windows and\\n\\n       Unix\\n\\n     * Small improvements:\\n\\n          + If neither the\\n\\n            tt USERPROFILE nor the\\n\\n            tt HOME environment variables are set, then Unison will put\\n\\n            its temporary commit log (called\\n\\n            tt DANGER.README) into the directory named by the\\n\\n            tt UNISON environment variable, if any; otherwise it will use\\n\\n            tt C:.\\n\\n          + alternative set of values for fastcheck: yes = true; no =\\n\\n            false; default = auto.\\n\\n          + -silent implies -contactquietly\\n\\n     * Source code:\\n\\n          + Code reorganization and tidying. (Started breaking up some of\\n\\n            the basic utility modules so that the non-unison-specific\\n\\n            stuff can be made available for other projects.)\\n\\n          + several Makefile and docs changes (for release);\\n\\n          + further comments in ``update.ml\\'\\';\\n\\n          + connection information is not stored in global variables\\n\\n            anymore.\\n\\n       \\n\\n   Changes since 2.7.78:\\n\\n     * Small bugfix to textual user interface under Unix (to avoid\\n\\n       leaving the terminal in a bad state where it would not echo inputs\\n\\n       after Unison exited).\\n\\n       \\n\\n   Changes since 2.7.39:\\n\\n     * Improvements to the main web page (stable and beta version docs\\n\\n       are now both accessible).\\n\\n     * User manual revised.\\n\\n     * Added some new preferences:\\n\\n          + ``sshcmd\\'\\' and ``rshcmd\\'\\' for specifying paths to ssh and rsh\\n\\n            programs.\\n\\n          + ``contactquietly\\'\\' for suppressing the ``contacting server\\'\\'\\n\\n            message during Unison startup (under the graphical UI).\\n\\n     * Bug fixes:\\n\\n          + Fixed small bug in UI that neglected to change the displayed\\n\\n            column headers if loading a new profile caused the roots to\\n\\n            change.\\n\\n          + Fixed a bug that would put the text UI into an infinite loop\\n\\n            if it encountered a conflict when run in batch mode.\\n\\n          + Added some code to try to fix the display of non-Ascii\\n\\n            characters in filenames on Windows systems in the GTK UI.\\n\\n            (This code is currently untested---if you\\'re one of the\\n\\n            people that had reported problems with display of non-ascii\\n\\n            filenames, we\\'d appreciate knowing if this actually fixes\\n\\n            things.)\\n\\n          + `-prefer/-force newer\\' works properly now. (The bug was\\n\\n            reported by Sebastian Urbaniak and Sean Fulton.)\\n\\n     * User interface and Unison behavior:\\n\\n          + Renamed `Proceed\\' to `Go\\' in the graphical UI.\\n\\n          + Added exit status for the textual user interface.\\n\\n          + Paths that are not synchronized because of conflicts or\\n\\n            errors during update detection are now noted in the log file.\\n\\n          + [END] messages in log now use a briefer format\\n\\n          + Changed the text UI startup sequence so that\\n\\n            tt ./unison -ui text will use the default profile instead of\\n\\n            failing.\\n\\n          + Made some improvements to the error messages.\\n\\n          + Added some debugging messages to remote.ml.\\n\\n       \\n\\n   Changes since 2.7.7:\\n\\n     * Incorporated, once again, a multi-threaded transport sub-system.\\n\\n       It transfers several files at the same time, thereby making much\\n\\n       more effective use of available network bandwidth. Unlike the\\n\\n       earlier attempt, this time we do not rely on the native thread\\n\\n       library of OCaml. Instead, we implement a light-weight,\\n\\n       non-preemptive multi-thread library in OCaml directly. This\\n\\n       version appears stable.\\n\\n       Some adjustments to unison are made to accommodate the\\n\\n       multi-threaded version. These include, in particular, changes to\\n\\n       the user interface and logging, for example:\\n\\n          + Two log entries for each transferring task, one for the\\n\\n            beginning, one for the end.\\n\\n          + Suppressed warning messages against removing temp files left\\n\\n            by a previous unison run, because warning does not work\\n\\n            nicely under multi-threading. The temp file names are made\\n\\n            less likely to coincide with the name of a file created by\\n\\n            the user. They take the form\\n\\n            .#<filename>.<serial>.unison.tmp.\\n\\n     * Added a new command to the GTK user interface: pressing \\'f\\' causes\\n\\n       Unison to start a new update detection phase, using as paths just\\n\\n       those paths that have been detected as changed and not yet marked\\n\\n       as successfully completed. Use this command to quickly restart\\n\\n       Unison on just the set of paths still needing attention after a\\n\\n       previous run.\\n\\n     * Made the ignorecase preference user-visible, and changed the\\n\\n       initialization code so that it can be manually set to true, even\\n\\n       if neither host is running Windows. (This may be useful, e.g.,\\n\\n       when using Unison running on a Unix system with a FAT volume\\n\\n       mounted.)\\n\\n     * Small improvements and bug fixes:\\n\\n          + Errors in preference files now generate fatal errors rather\\n\\n            than warnings at startup time. (I.e., you can\\'t go on from\\n\\n            them.) Also, we fixed a bug that was preventing these\\n\\n            warnings from appearing in the text UI, so some users who\\n\\n            have been running (unsuspectingly) with garbage in their\\n\\n            prefs files may now get error reports.\\n\\n          + Error reporting for preference files now provides file name\\n\\n            and line number.\\n\\n          + More intelligible message in the case of identical change to\\n\\n            the same files: ``Nothing to do: replicas have been changed\\n\\n            only in identical ways since last sync.\\'\\'\\n\\n          + Files with prefix \\'.#\\' excluded when scanning for preference\\n\\n            files.\\n\\n          + Rsync instructions are send directly instead of first\\n\\n            marshaled.\\n\\n          + Won\\'t try forever to get the fingerprint of a continuously\\n\\n            changing file: unison will give up after certain number of\\n\\n            retries.\\n\\n          + Other bug fixes, including the one reported by Peter Selinger\\n\\n            (force=older preference not working).\\n\\n     * Compilation:\\n\\n          + Upgraded to the new OCaml 3.04 compiler, with the LablGtk\\n\\n            1.2.3 library (patched version used for compiling under\\n\\n            Windows).\\n\\n          + Added the option to compile unison on the Windows platform\\n\\n            with Cygwin GNU C compiler. This option only supports\\n\\n            building dynamically linked unison executables.\\n\\n       \\n\\n   Changes since 2.7.4:\\n\\n     * Fixed a silly (but debilitating) bug in the client startup\\n\\n       sequence.\\n\\n       \\n\\n   Changes since 2.7.1:\\n\\n     * Added addprefsto preference, which (when set) controls which\\n\\n       preference file new preferences (e.g. new ignore patterns) are\\n\\n       added to.\\n\\n     * Bug fix: read the initial connection header one byte at a time, so\\n\\n       that we don\\'t block if the header is shorter than expected. (This\\n\\n       bug did not affect normal operation --- it just made it hard to\\n\\n       tell when you were trying to use Unison incorrectly with an old\\n\\n       version of the server, since it would hang instead of giving an\\n\\n       error message.)\\n\\n       \\n\\n   Changes since 2.6.59:\\n\\n     * Changed fastcheck from a boolean to a string preference. Its legal\\n\\n       values are yes (for a fast check), no (for a safe check), or\\n\\n       default (for a fast check---which also happens to be safe---when\\n\\n       running on Unix and a safe check when on Windows). The default is\\n\\n       default.\\n\\n     * Several preferences have been renamed for consistency. All\\n\\n       preference names are now spelled out in lowercase. For backward\\n\\n       compatibility, the old names still work, but they are not\\n\\n       mentioned in the manual any more.\\n\\n     * The temp files created by the \\'diff\\' and \\'merge\\' commands are now\\n\\n       named by prepending a new prefix to the file name, rather than\\n\\n       appending a suffix. This should avoid confusing diff/merge\\n\\n       programs that depend on the suffix to guess the type of the file\\n\\n       contents.\\n\\n     * We now set the keepalive option on the server socket, to make sure\\n\\n       that the server times out if the communication link is\\n\\n       unexpectedly broken.\\n\\n     * Bug fixes:\\n\\n          + When updating small files, Unison now closes the destination\\n\\n            file.\\n\\n          + File permissions are properly updated when the file is behind\\n\\n            a followed link.\\n\\n          + Several other small fixes.\\n\\n       \\n\\n   Changes since 2.6.38:\\n\\n     * Major Windows performance improvement!\\n\\n       We\\'ve added a preference fastcheck that makes Unison look only at\\n\\n       a file\\'s creation time and last-modified time to check whether it\\n\\n       has changed. This should result in a huge speedup when checking\\n\\n       for updates in large replicas.\\n\\n       When this switch is set, Unison will use file creation times as\\n\\n       \\'pseudo inode numbers\\' when scanning Windows replicas for updates,\\n\\n       instead of reading the full contents of every file. This may cause\\n\\n       Unison to miss propagating an update if the create time,\\n\\n       modification time, and length of the file are all unchanged by the\\n\\n       update (this is not easy to achieve, but it can be done). However,\\n\\n       Unison will never overwrite such an update with a change from the\\n\\n       other replica, since it always does a safe check for updates just\\n\\n       before propagating a change. Thus, it is reasonable to use this\\n\\n       switch most of the time and occasionally run Unison once with\\n\\n       fastcheck set to false, if you are worried that Unison may have\\n\\n       overlooked an update.\\n\\n       Warning: This change is has not yet been thoroughly field-tested.\\n\\n       If you set the fastcheck preference, pay careful attention to what\\n\\n       Unison is doing.\\n\\n     * New functionality: centralized backups and merging\\n\\n          + This version incorporates two pieces of major new\\n\\n            functionality, implemented by Sylvain Roy during a summer\\n\\n            internship at Penn: a centralized backup facility that keeps\\n\\n            a full backup of (selected files in) each replica, and a\\n\\n            merging feature that allows Unison to invoke an external\\n\\n            file-merging tool to resolve conflicting changes to\\n\\n            individual files.\\n\\n          + Centralized backups:\\n\\n               o Unison now maintains full backups of the\\n\\n                 last-synchronized versions of (some of) the files in\\n\\n                 each replica; these function both as backups in the\\n\\n                 usual sense and as the ``common version\\'\\' when invoking\\n\\n                 external merge programs.\\n\\n               o The backed up files are stored in a directory\\n\\n                 /.unison/backup on each host. (The name of this\\n\\n                 directory can be changed by setting the environment\\n\\n                 variable UNISONBACKUPDIR.)\\n\\n               o The predicate backup controls which files are actually\\n\\n                 backed up: giving the preference \\'backup = Path *\\'\\n\\n                 causes backing up of all files.\\n\\n               o Files are added to the backup directory whenever unison\\n\\n                 updates its archive. This means that\\n\\n                    # When unison reconstructs its archive from scratch\\n\\n                      (e.g., because of an upgrade, or because the\\n\\n                      archive files have been manually deleted), all\\n\\n                      files will be backed up.\\n\\n                    # Otherwise, each file will be backed up the first\\n\\n                      time unison propagates an update for it.\\n\\n               o The preference backupversions controls how many previous\\n\\n                 versions of each file are kept. The default is 2 (i.e.,\\n\\n                 the last synchronized version plus one backup).\\n\\n               o For backward compatibility, the backups preference is\\n\\n                 also still supported, but backup is now preferred.\\n\\n               o It is OK to manually delete files from the backup\\n\\n                 directory (or to throw away the directory itself).\\n\\n                 Before unison uses any of these files for anything\\n\\n                 important, it checks that its fingerprint matches the\\n\\n                 one that it expects.\\n\\n          + Merging:\\n\\n               o Both user interfaces offer a new \\'merge\\' command,\\n\\n                 invoked by pressing \\'m\\' (with a changed file selected).\\n\\n               o The actual merging is performed by an external program.\\n\\n                 The preferences merge and merge2 control how this\\n\\n                 program is invoked. If a backup exists for this file\\n\\n                 (see the backup preference), then the merge preference\\n\\n                 is used for this purpose; otherwise merge2 is used. In\\n\\n                 both cases, the value of the preference should be a\\n\\n                 string representing the command that should be passed to\\n\\n                 a shell to invoke the merge program. Within this string,\\n\\n                 the special substrings CURRENT1, CURRENT2, NEW, and OLD\\n\\n                 may appear at any point. Unison will substitute these as\\n\\n                 follows before invoking the command:\\n\\n                    # CURRENT1 is replaced by the name of the local copy\\n\\n                      of the file;\\n\\n                    # CURRENT2 is replaced by the name of a temporary\\n\\n                      file, into which the contents of the remote copy of\\n\\n                      the file have been transferred by Unison prior to\\n\\n                      performing the merge;\\n\\n                    # NEW is replaced by the name of a temporary file\\n\\n                      that Unison expects to be written by the merge\\n\\n                      program when it finishes, giving the desired new\\n\\n                      contents of the file; and\\n\\n                    # OLD is replaced by the name of the backed up copy\\n\\n                      of the original version of the file (i.e., its\\n\\n                      state at the end of the last successful run of\\n\\n                      Unison), if one exists (applies only to merge, not\\n\\n                      merge2).\\n\\n                 For example, on Unix systems setting the merge\\n\\n                 preference to\\n\\n\\n\\n   merge = diff3 -m CURRENT1 OLD CURRENT2 > NEW\\n\\n                 will tell Unison to use the external diff3 program for\\n\\n                 merging.\\n\\n                 A large number of external merging programs are\\n\\n                 available. For example, emacs users may find the\\n\\n                 following convenient:\\n\\n\\n\\n    merge2 = emacs -q --eval \\'(ediff-merge-files \"CURRENT1\" \"CURRENT2\"\\n\\n               nil \"NEW\")\\'\\n\\n    merge = emacs -q --eval \\'(ediff-merge-files-with-ancestor\\n\\n               \"CURRENT1\" \"CURRENT2\" \"OLD\" nil \"NEW\")\\'\\n\\n                 (These commands are displayed here on two lines to avoid\\n\\n                 running off the edge of the page. In your preference\\n\\n                 file, each should be written on a single line.)\\n\\n               o If the external program exits without leaving any file\\n\\n                 at the path NEW, Unison considers the merge to have\\n\\n                 failed. If the merge program writes a file called NEW\\n\\n                 but exits with a non-zero status code, then Unison\\n\\n                 considers the merge to have succeeded but to have\\n\\n                 generated conflicts. In this case, it attempts to invoke\\n\\n                 an external editor so that the user can resolve the\\n\\n                 conflicts. The value of the editor preference controls\\n\\n                 what editor is invoked by Unison. The default is emacs.\\n\\n               o Please send us suggestions for other useful values of\\n\\n                 the merge2 and merge preferences -- we\\'d like to give\\n\\n                 several examples in the manual.\\n\\n     * Smaller changes:\\n\\n          + When one preference file includes another, unison no longer\\n\\n            adds the suffix \\'.prf\\' to the included file by default. If a\\n\\n            file with precisely the given name exists in the .unison\\n\\n            directory, it will be used; otherwise Unison will add .prf,\\n\\n            as it did before. (This change means that included preference\\n\\n            files can be named blah.include instead of blah.prf, so that\\n\\n            unison will not offer them in its \\'choose a preference file\\'\\n\\n            dialog.)\\n\\n          + For Linux systems, we now offer both a statically linked and\\n\\n            a dynamically linked executable. The static one is larger,\\n\\n            but will probably run on more systems, since it doesn\\'t\\n\\n            depend on the same versions of dynamically linked library\\n\\n            modules being available.\\n\\n          + Fixed the force and prefer preferences, which were getting\\n\\n            the propagation direction exactly backwards.\\n\\n          + Fixed a bug in the startup code that would cause unison to\\n\\n            crash when the default profile (~/.unison/default.prf) does\\n\\n            not exist.\\n\\n          + Fixed a bug where, on the run when a profile is first\\n\\n            created, Unison would confusingly display the roots in\\n\\n            reverse order in the user interface.\\n\\n     * For developers:\\n\\n          + We\\'ve added a module dependency diagram to the source\\n\\n            distribution, in src/DEPENDENCIES.ps, to help new prospective\\n\\n            developers with navigating the code.\\n\\n       \\n\\n   Changes since 2.6.11:\\n\\n     * INCOMPATIBLE CHANGE: Archive format has changed.\\n\\n     * INCOMPATIBLE CHANGE: The startup sequence has been completely\\n\\n       rewritten and greatly simplified. The main user-visible change is\\n\\n       that the defaultpath preference has been removed. Its effect can\\n\\n       be approximated by using multiple profiles, with include\\n\\n       directives to incorporate common settings. All uses of defaultpath\\n\\n       in existing profiles should be changed to path.\\n\\n       Another change in startup behavior that will affect some users is\\n\\n       that it is no longer possible to specify roots both in the profile\\n\\n       and on the command line.\\n\\n       You can achieve a similar effect, though, by breaking your profile\\n\\n       into two:\\n\\n\\n\\n\\n\\n  default.prf =\\n\\n      root = blah\\n\\n      root = foo\\n\\n      include common\\n\\n\\n\\n  common.prf =\\n\\n      <everything else>\\n\\n       Now do\\n\\n\\n\\n  unison common root1 root2\\n\\n       when you want to specify roots explicitly.\\n\\n     * The -prefer and -force options have been extended to allow users\\n\\n       to specify that files with more recent modtimes should be\\n\\n       propagated, writing either -prefer newer or -force newer. (For\\n\\n       symmetry, Unison will also accept -prefer older or -force older.)\\n\\n       The -force older/newer options can only be used when -times is\\n\\n       also set.\\n\\n       The graphical user interface provides access to these facilities\\n\\n       on a one-off basis via the Actions menu.\\n\\n     * Names of roots can now be ``aliased\\'\\' to allow replicas to be\\n\\n       relocated without changing the name of the archive file where\\n\\n       Unison stores information between runs. (This feature is for\\n\\n       experts only. See the ``Archive Files\\'\\' section of the manual for\\n\\n       more information.)\\n\\n     * Graphical user-interface:\\n\\n          + A new command is provided in the Synchronization menu for\\n\\n            switching to a new profile without restarting Unison from\\n\\n            scratch.\\n\\n          + The GUI also supports one-key shortcuts for commonly used\\n\\n            profiles. If a profile contains a preference of the form \\'key\\n\\n            = n\\', where n is a single digit, then pressing this key will\\n\\n            cause Unison to immediately switch to this profile and begin\\n\\n            synchronization again from scratch. (Any actions that may\\n\\n            have been selected for a set of changes currently being\\n\\n            displayed will be discarded.)\\n\\n          + Each profile may include a preference \\'label = <string>\\'\\n\\n            giving a descriptive string that described the options\\n\\n            selected in this profile. The string is listed along with the\\n\\n            profile name in the profile selection dialog, and displayed\\n\\n            in the top-right corner of the main Unison window.\\n\\n     * Minor:\\n\\n          + Fixed a bug that would sometimes cause the \\'diff\\' display to\\n\\n            order the files backwards relative to the main user\\n\\n            interface. (Thanks to Pascal Brisset for this fix.)\\n\\n          + On Unix systems, the graphical version of Unison will check\\n\\n            the DISPLAY variable and, if it is not set, automatically\\n\\n            fall back to the textual user interface.\\n\\n          + Synchronization paths (path preferences) are now matched\\n\\n            against the ignore preferences. So if a path is both\\n\\n            specified in a path preference and ignored, it will be\\n\\n            skipped.\\n\\n          + Numerous other bugfixes and small improvements.\\n\\n       \\n\\n   Changes since 2.6.1:\\n\\n     * The synchronization of modification times has been disabled for\\n\\n       directories.\\n\\n     * Preference files may now include lines of the form include <name>,\\n\\n       which will cause name.prf to be read at that point.\\n\\n     * The synchronization of permission between Windows and Unix now\\n\\n       works properly.\\n\\n     * A binding CYGWIN=binmode in now added to the environment so that\\n\\n       the Cygwin port of OpenSSH works properly in a non-Cygwin context.\\n\\n     * The servercmd and addversionno preferences can now be used\\n\\n       together: -addversionno appends an appropriate -NNN to the server\\n\\n       command, which is found by using the value of the -servercmd\\n\\n       preference if there is one, or else just unison.\\n\\n     * Both \\'-pref=val\\' and \\'-pref val\\' are now allowed for boolean\\n\\n       values. (The former can be used to set a preference to false.)\\n\\n     * Lot of small bugs fixed.\\n\\n       \\n\\n   Changes since 2.5.31:\\n\\n     * The log preference is now set to true by default, since the log\\n\\n       file seems useful for most users.\\n\\n     * Several miscellaneous bugfixes (most involving symlinks).\\n\\n       \\n\\n   Changes since 2.5.25:\\n\\n     * INCOMPATIBLE CHANGE: Archive format has changed (again).\\n\\n     * Several significant bugs introduced in 2.5.25 have been fixed.\\n\\n       \\n\\n   Changes since 2.5.1:\\n\\n     * INCOMPATIBLE CHANGE: Archive format has changed. Make sure you\\n\\n       synchronize your replicas before upgrading, to avoid spurious\\n\\n       conflicts. The first sync after upgrading will be slow.\\n\\n     * New functionality:\\n\\n          + Unison now synchronizes file modtimes, user-ids, and\\n\\n            group-ids.\\n\\n            These new features are controlled by a set of new\\n\\n            preferences, all of which are currently false by default.\\n\\n               o When the times preference is set to true, file\\n\\n                 modification times are propaged. (Because the\\n\\n                 representations of time may not have the same\\n\\n                 granularity on both replicas, Unison may not always be\\n\\n                 able to make the modtimes precisely equal, but it will\\n\\n                 get them as close as the operating systems involved\\n\\n                 allow.)\\n\\n               o When the owner preference is set to true, file ownership\\n\\n                 information is synchronized.\\n\\n               o When the group preference is set to true, group\\n\\n                 information is synchronized.\\n\\n               o When the numericIds preference is set to true, owner and\\n\\n                 group information is synchronized numerically. By\\n\\n                 default, owner and group numbers are converted to names\\n\\n                 on each replica and these names are synchronized. (The\\n\\n                 special user id 0 and the special group 0 are never\\n\\n                 mapped via user/group names even if this preference is\\n\\n                 not set.)\\n\\n          + Added an integer-valued preference perms that can be used to\\n\\n            control the propagation of permission bits. The value of this\\n\\n            preference is a mask indicating which permission bits should\\n\\n            be synchronized. It is set by default to 0o1777: all bits but\\n\\n            the set-uid and set-gid bits are synchronised (synchronizing\\n\\n            theses latter bits can be a security hazard). If you want to\\n\\n            synchronize all bits, you can set the value of this\\n\\n            preference to -1.\\n\\n          + Added a log preference (default false), which makes Unison\\n\\n            keep a complete record of the changes it makes to the\\n\\n            replicas. By default, this record is written to a file called\\n\\n            unison.log in the user\\'s home directory (the value of the\\n\\n            HOME environment variable). If you want it someplace else,\\n\\n            set the logfile preference to the full pathname you want\\n\\n            Unison to use.\\n\\n          + Added an ignorenot preference that maintains a set of\\n\\n            patterns for paths that should definitely not be ignored,\\n\\n            whether or not they match an ignore pattern. (That is, a path\\n\\n            will now be ignored iff it matches an ignore pattern and does\\n\\n            not match any ignorenot patterns.)\\n\\n     * User-interface improvements:\\n\\n          + Roots are now displayed in the user interface in the same\\n\\n            order as they were given on the command line or in the\\n\\n            preferences file.\\n\\n          + When the batch preference is set, the graphical user\\n\\n            interface no longer waits for user confirmation when it\\n\\n            displays a warning message: it simply pops up an advisory\\n\\n            window with a Dismiss button at the bottom and keeps on\\n\\n            going.\\n\\n          + Added a new preference for controlling how many status\\n\\n            messages are printed during update detection: statusdepth\\n\\n            controls the maximum depth for paths on the local machine\\n\\n            (longer paths are not displayed, nor are non-directory\\n\\n            paths). The value should be an integer; default is 1.\\n\\n          + Removed the trace and silent preferences. They did not seem\\n\\n            very useful, and there were too many preferences for\\n\\n            controlling output in various ways.\\n\\n          + The text UI now displays just the default command (the one\\n\\n            that will be used if the user just types <return>) instead of\\n\\n            all available commands. Typing ? will print the full list of\\n\\n            possibilities.\\n\\n          + The function that finds the canonical hostname of the local\\n\\n            host (which is used, for example, in calculating the name of\\n\\n            the archive file used to remember which files have been\\n\\n            synchronized) normally uses the gethostname operating system\\n\\n            call. However, if the environment variable\\n\\n            UNISONLOCALHOSTNAME is set, its value will now be used\\n\\n            instead. This makes it easier to use Unison in situations\\n\\n            where a machine\\'s name changes frequently (e.g., because it\\n\\n            is a laptop and gets moved around a lot).\\n\\n          + File owner and group are now displayed in the ``detail\\n\\n            window\\'\\' at the bottom of the screen, when unison is\\n\\n            configured to synchronize them.\\n\\n     * For hackers:\\n\\n          + Updated to Jacques Garrigue\\'s new version of lablgtk, which\\n\\n            means we can throw away our local patched version.\\n\\n            If you\\'re compiling the GTK version of unison from sources,\\n\\n            you\\'ll need to update your copy of lablgtk to the developers\\n\\n            release, available from\\n\\n            http://wwwfun.kurims.kyoto-u.ac.jp/soft/olabl/lablgtk.html\\n\\n            (Warning: installing lablgtk under Windows is currently a bit\\n\\n            challenging.)\\n\\n          + The TODO.txt file (in the source distribution) has been\\n\\n            cleaned up and reorganized. The list of pending tasks should\\n\\n            be much easier to make sense of, for people that may want to\\n\\n            contribute their programming energies. There is also a\\n\\n            separate file BUGS.txt for open bugs.\\n\\n          + The Tk user interface has been removed (it was not being\\n\\n            maintained and no longer compiles).\\n\\n          + The debug preference now prints quite a bit of additional\\n\\n            information that should be useful for identifying sources of\\n\\n            problems.\\n\\n          + The version number of the remote server is now checked right\\n\\n            away during the connection setup handshake, rather than\\n\\n            later. (Somebody sent a bug report of a server crash that\\n\\n            turned out to come from using inconsistent versions: better\\n\\n            to check this earlier and in a way that can\\'t crash either\\n\\n            client or server.)\\n\\n          + Unison now runs correctly on 64-bit architectures (e.g. Alpha\\n\\n            linux). We will not be distributing binaries for these\\n\\n            architectures ourselves (at least for a while) but if someone\\n\\n            would like to make them available, we\\'ll be glad to provide a\\n\\n            link to them.\\n\\n     * Bug fixes:\\n\\n          + Pattern matching (e.g. for ignore) is now case-insensitive\\n\\n            when Unison is in case-insensitive mode (i.e., when one of\\n\\n            the replicas is on a windows machine).\\n\\n          + Some people had trouble with mysterious failures during\\n\\n            propagation of updates, where files would be falsely reported\\n\\n            as having changed during synchronization. This should be\\n\\n            fixed.\\n\\n          + Numerous smaller fixes.\\n\\n       \\n\\n   Changes since 2.4.1:\\n\\n     * Added a number of \\'sorting modes\\' for the user interface. By\\n\\n       default, conflicting changes are displayed at the top, and the\\n\\n       rest of the entries are sorted in alphabetical order. This\\n\\n       behavior can be changed in the following ways:\\n\\n          + Setting the sortnewfirst preference to true causes newly\\n\\n            created files to be displayed before changed files.\\n\\n          + Setting sortbysize causes files to be displayed in increasing\\n\\n            order of size.\\n\\n          + Giving the preference sortfirst=<pattern> (where <pattern> is\\n\\n            a path descriptor in the same format as \\'ignore\\' and \\'follow\\'\\n\\n            patterns, causes paths matching this pattern to be displayed\\n\\n            first.\\n\\n          + Similarly, giving the preference sortlast=<pattern> causes\\n\\n            paths matching this pattern to be displayed last.\\n\\n       The sorting preferences are described in more detail in the user\\n\\n       manual. The sortnewfirst and sortbysize flags can also be accessed\\n\\n       from the \\'Sort\\' menu in the grpahical user interface.\\n\\n     * Added two new preferences that can be used to change unison\\'s\\n\\n       fundamental behavior to make it more like a mirroring tool instead\\n\\n       of a synchronizer.\\n\\n          + Giving the preference prefer with argument <root> (by adding\\n\\n            -prefer <root> to the command line or prefer=<root>) to your\\n\\n            profile) means that, if there is a conflict, the contents of\\n\\n            <root> should be propagated to the other replica (with no\\n\\n            questions asked). Non-conflicting changes are treated as\\n\\n            usual.\\n\\n          + Giving the preference force with argument <root> will make\\n\\n            unison resolve all differences in favor of the given root,\\n\\n            even if it was the other replica that was changed.\\n\\n       These options should be used with care! (More information is\\n\\n       available in the manual.)\\n\\n     * Small changes:\\n\\n          + Changed default answer to \\'Yes\\' in all two-button dialogs in\\n\\n            the graphical interface (this seems more intuitive).\\n\\n          + The rsync preference has been removed (it was used to\\n\\n            activate rsync compression for file transfers, but rsync\\n\\n            compression is now enabled by default).\\n\\n          + In the text user interface, the arrows indicating which\\n\\n            direction changes are being propagated are printed\\n\\n            differently when the user has overridded Unison\\'s default\\n\\n            recommendation (====> instead of ---->). This matches the\\n\\n            behavior of the graphical interface, which displays such\\n\\n            arrows in a different color.\\n\\n          + Carriage returns (Control-M\\'s) are ignored at the ends of\\n\\n            lines in profiles, for Windows compatibility.\\n\\n          + All preferences are now fully documented in the user manual.\\n\\n       \\n\\n   Changes since 2.3.12:\\n\\n     * INCOMPATIBLE CHANGE: Archive format has changed. Make sure you\\n\\n       synchronize your replicas before upgrading, to avoid spurious\\n\\n       conflicts. The first sync after upgrading will be slow.\\n\\n     * New/improved functionality:\\n\\n          + A new preference -sortbysize controls the order in which\\n\\n            changes are displayed to the user: when it is set to true,\\n\\n            the smallest changed files are displayed first. (The default\\n\\n            setting is false.)\\n\\n          + A new preference -sortnewfirst causes newly created files to\\n\\n            be listed before other updates in the user interface.\\n\\n          + We now allow the ssh protocol to specify a port.\\n\\n          + Incompatible change: The unison: protocol is deprecated, and\\n\\n            we added file: and socket:. You may have to modify your\\n\\n            profiles in the .unison directory. If a replica is specified\\n\\n            without an explicit protocol, we now assume it refers to a\\n\\n            file. (Previously \"//saul/foo\" meant to use SSH to connect to\\n\\n            saul, then access the foo directory. Now it means to access\\n\\n            saul via a remote file mechanism such as samba; the old\\n\\n            effect is now achieved by writing ssh://saul/foo.)\\n\\n          + Changed the startup sequence for the case where roots are\\n\\n            given but no profile is given on the command line. The new\\n\\n            behavior is to use the default profile (creating it if it\\n\\n            does not exist), and temporarily override its roots. The\\n\\n            manual claimed that this case would work by reading no\\n\\n            profile at all, but AFAIK this was never true.\\n\\n          + In all user interfaces, files with conflicts are always\\n\\n            listed first\\n\\n          + A new preference \\'sshversion\\' can be used to control which\\n\\n            version of ssh should be used to connect to the server. Legal\\n\\n            values are 1 and 2. (Default is empty, which will make unison\\n\\n            use whatever version of ssh is installed as the default \\'ssh\\'\\n\\n            command.)\\n\\n          + The situation when the permissions of a file was updated the\\n\\n            same on both side is now handled correctly (we used to report\\n\\n            a spurious conflict)\\n\\n     * Improvements for the Windows version:\\n\\n          + The fact that filenames are treated case-insensitively under\\n\\n            Windows should now be handled correctly. The exact behavior\\n\\n            is described in the cross-platform section of the manual.\\n\\n          + It should be possible to synchronize with Windows shares,\\n\\n            e.g., //host/drive/path.\\n\\n          + Workarounds to the bug in syncing root directories in\\n\\n            Windows. The most difficult thing to fix is an ocaml bug:\\n\\n            Unix.opendir fails on c: in some versions of Windows.\\n\\n     * Improvements to the GTK user interface (the Tk interface is no\\n\\n       longer being maintained):\\n\\n          + The UI now displays actions differently (in blue) when they\\n\\n            have been explicitly changed by the user from Unison\\'s\\n\\n            default recommendation.\\n\\n          + More colorful appearance.\\n\\n          + The initial profile selection window works better.\\n\\n          + If any transfers failed, a message to this effect is\\n\\n            displayed along with \\'Synchronization complete\\' at the end of\\n\\n            the transfer phase (in case they may have scrolled off the\\n\\n            top).\\n\\n          + Added a global progress meter, displaying the percentage of\\n\\n            total bytes that have been transferred so far.\\n\\n     * Improvements to the text user interface:\\n\\n          + The file details will be displayed automatically when a\\n\\n            conflict is been detected.\\n\\n          + when a warning is generated (e.g. for a temporary file left\\n\\n            over from a previous run of unison) Unison will no longer\\n\\n            wait for a response if it is running in -batch mode.\\n\\n          + The UI now displays a short list of possible inputs each time\\n\\n            it waits for user interaction.\\n\\n          + The UI now quits immediately (rather than looping back and\\n\\n            starting the interaction again) if the user presses \\'q\\' when\\n\\n            asked whether to propagate changes.\\n\\n          + Pressing \\'g\\' in the text user interface will proceed\\n\\n            immediately with propagating updates, without asking any more\\n\\n            questions.\\n\\n     * Documentation and installation changes:\\n\\n          + The manual now includes a FAQ, plus sections on common\\n\\n            problems and on tricks contributed by users.\\n\\n          + Both the download page and the download directory explicitly\\n\\n            say what are the current stable and beta-test version\\n\\n            numbers.\\n\\n          + The OCaml sources for the up-to-the-minute developers\\'\\n\\n            version (not guaranteed to be stable, or even to compile, at\\n\\n            any given time!) are now available from the download page.\\n\\n          + Added a subsection to the manual describing cross-platform\\n\\n            issues (case conflicts, illegal filenames)\\n\\n     * Many small bug fixes and random improvements.\\n\\n       \\n\\n   Changes since 2.3.1:\\n\\n     * Several bug fixes. The most important is a bug in the rsync module\\n\\n       that would occasionally cause change propagation to fail with a\\n\\n       \\'rename\\' error.\\n\\n       \\n\\n   Changes since 2.2:\\n\\n     * The multi-threaded transport system is now disabled by default.\\n\\n       (It is not stable enough yet.)\\n\\n     * Various bug fixes.\\n\\n     * A new experimental feature:\\n\\n       The final component of a -path argument may now be the wildcard\\n\\n       specifier *. When Unison sees such a path, it expands this path on\\n\\n       the client into into the corresponding list of paths by listing\\n\\n       the contents of that directory.\\n\\n       Note that if you use wildcard paths from the command line, you\\n\\n       will probably need to use quotes or a backslash to prevent the *\\n\\n       from being interpreted by your shell.\\n\\n       If both roots are local, the contents of the first one will be\\n\\n       used for expanding wildcard paths. (Nb: this is the first one\\n\\n       after the canonization step -- i.e., the one that is listed first\\n\\n       in the user interface -- not the one listed first on the command\\n\\n       line or in the preferences file.)\\n\\n       \\n\\n   Changes since 2.1:\\n\\n     * The transport subsystem now includes an implementation by Sylvain\\n\\n       Gommier and Norman Ramsey of Tridgell and Mackerras\\'s rsync\\n\\n       protocol. This protocol achieves much faster transfers when only a\\n\\n       small part of a large file has been changed by sending just diffs.\\n\\n       This feature is mainly helpful for transfers over slow links---on\\n\\n       fast local area networks it can actually degrade performance---so\\n\\n       we have left it off by default. Start unison with the -rsync\\n\\n       option (or put rsync=true in your preferences file) to turn it on.\\n\\n     * ``Progress bars\\'\\' are now diplayed during remote file transfers,\\n\\n       showing what percentage of each file has been transferred so far.\\n\\n     * The version numbering scheme has changed. New releases will now be\\n\\n       have numbers like 2.2.30, where the second component is\\n\\n       incremented on every significant public release and the third\\n\\n       component is the ``patch level.\\'\\'\\n\\n     * Miscellaneous improvements to the GTK-based user interface.\\n\\n     * The manual is now available in PDF format.\\n\\n     * We are experimenting with using a multi-threaded transport\\n\\n       subsystem to transfer several files at the same time, making much\\n\\n       more effective use of available network bandwidth. This feature is\\n\\n       not completely stable yet, so by default it is disabled in the\\n\\n       release version of Unison.\\n\\n       If you want to play with the multi-threaded version, you\\'ll need\\n\\n       to recompile Unison from sources (as described in the\\n\\n       documentation), setting the THREADS flag in Makefile.OCaml to\\n\\n       true. Make sure that your OCaml compiler has been installed with\\n\\n       the -with-pthreads configuration option. (You can verify this by\\n\\n       checking whether the file threads/threads.cma in the OCaml\\n\\n       standard library directory contains the string -lpthread near the\\n\\n       end.)\\n\\n       \\n\\n   Changes since 1.292:\\n\\n     * Reduced memory footprint (this is especially important during the\\n\\n       first run of unison, where it has to gather information about all\\n\\n       the files in both repositories).\\n\\n     * Fixed a bug that would cause the socket server under NT to fail\\n\\n       after the client exits.\\n\\n     * Added a SHIFT modifier to the Ignore menu shortcut keys in GTK\\n\\n       interface (to avoid hitting them accidentally).\\n\\n       \\n\\n   Changes since 1.231:\\n\\n     * Tunneling over ssh is now supported in the Windows version. See\\n\\n       the installation section of the manual for detailed instructions.\\n\\n     * The transport subsystem now includes an implementation of the\\n\\n       rsync protocol, built by Sylvain Gommier and Norman Ramsey. This\\n\\n       protocol achieves much faster transfers when only a small part of\\n\\n       a large file has been changed by sending just diffs. The rsync\\n\\n       feature is off by default in the current version. Use the -rsync\\n\\n       switch to turn it on. (Nb. We still have a lot of tuning to do:\\n\\n       you may not notice much speedup yet.)\\n\\n     * We\\'re experimenting with a multi-threaded transport subsystem,\\n\\n       written by Jerome Vouillon. The downloadable binaries are still\\n\\n       single-threaded: if you want to try the multi-threaded version,\\n\\n       you\\'ll need to recompile from sources. (Say make THREADS=true.)\\n\\n       Native thread support from the compiler is required. Use the\\n\\n       option -threads N to select the maximal number of concurrent\\n\\n       threads (default is 5). Multi-threaded and single-threaded\\n\\n       clients/servers can interoperate.\\n\\n     * A new GTK-based user interface is now available, thanks to Jacques\\n\\n       Garrigue. The Tk user interface still works, but we\\'ll be shifting\\n\\n       development effort to the GTK interface from now on.\\n\\n     * OCaml 3.00 is now required for compiling Unison from sources. The\\n\\n       modules uitk and myfileselect have been changed to use labltk\\n\\n       instead of camltk. To compile the Tk interface in Windows, you\\n\\n       must have ocaml-3.00 and tk8.3. When installing tk8.3, put it in\\n\\n       c:\\\\Tcl rather than the suggested c:\\\\Program Files\\\\Tcl, and be sure\\n\\n       to install the headers and libraries (which are not installed by\\n\\n       default).\\n\\n     * Added a new -addversionno switch, which causes unison to use\\n\\n       unison-<currentversionnumber> instead of just unison as the remote\\n\\n       server command. This allows multiple versions of unison to coexist\\n\\n       conveniently on the same server: whichever version is run on the\\n\\n       client, the same version will be selected on the server.\\n\\n       \\n\\n   Changes since 1.219:\\n\\n     * INCOMPATIBLE CHANGE: Archive format has changed. Make sure you\\n\\n       synchronize your replicas before upgrading, to avoid spurious\\n\\n       conflicts. The first sync after upgrading will be slow.\\n\\n     * This version fixes several annoying bugs, including:\\n\\n          + Some cases where propagation of file permissions was not\\n\\n            working.\\n\\n          + umask is now ignored when creating directories\\n\\n          + directories are create writable, so that a read-only\\n\\n            directory and its contents can be propagated.\\n\\n          + Handling of warnings generated by the server.\\n\\n          + Synchronizing a path whose parent is not a directory on both\\n\\n            sides is now flagged as erroneous.\\n\\n          + Fixed some bugs related to symnbolic links and nonexistant\\n\\n            roots.\\n\\n               o When a change (deletion or new contents) is propagated\\n\\n                 onto a \\'follow\\'ed symlink, the file pointed to by the\\n\\n                 link is now changed. (We used to change the link itself,\\n\\n                 which doesn\\'t fit our assertion that \\'follow\\' means the\\n\\n                 link is completely invisible)\\n\\n               o When one root did not exist, propagating the other root\\n\\n                 on top of it used to fail, becuase unison could not\\n\\n                 calculate the working directory into which to write\\n\\n                 changes. This should be fixed.\\n\\n     * A human-readable timestamp has been added to Unison\\'s archive\\n\\n       files.\\n\\n     * The semantics of Path and Name regular expressions now correspond\\n\\n       better.\\n\\n     * Some minor improvements to the text UI (e.g. a command for going\\n\\n       back to previous items)\\n\\n     * The organization of the export directory has changed --- should be\\n\\n       easier to find / download things now.\\n\\n       \\n\\n   Changes since 1.200:\\n\\n     * INCOMPATIBLE CHANGE: Archive format has changed. Make sure you\\n\\n       synchronize your replicas before upgrading, to avoid spurious\\n\\n       conflicts. The first sync after upgrading will be slow.\\n\\n     * This version has not been tested extensively on Windows.\\n\\n     * Major internal changes designed to make unison safer to run at the\\n\\n       same time as the replicas are being changed by the user.\\n\\n     * Internal performance improvements.\\n\\n       \\n\\n   Changes since 1.190:\\n\\n     * INCOMPATIBLE CHANGE: Archive format has changed. Make sure you\\n\\n       synchronize your replicas before upgrading, to avoid spurious\\n\\n       conflicts. The first sync after upgrading will be slow.\\n\\n     * A number of internal functions have been changed to reduce the\\n\\n       amount of memory allocation, especially during the first\\n\\n       synchronization. This should help power users with very big\\n\\n       replicas.\\n\\n     * Reimplementation of low-level remote procedure call stuff, in\\n\\n       preparation for adding rsync-like smart file transfer in a later\\n\\n       release.\\n\\n     * Miscellaneous bug fixes.\\n\\n       \\n\\n   Changes since 1.180:\\n\\n     * INCOMPATIBLE CHANGE: Archive format has changed. Make sure you\\n\\n       synchronize your replicas before upgrading, to avoid spurious\\n\\n       conflicts. The first sync after upgrading will be slow.\\n\\n     * Fixed some small bugs in the interpretation of ignore patterns.\\n\\n     * Fixed some problems that were preventing the Windows version from\\n\\n       working correctly when click-started.\\n\\n     * Fixes to treatment of file permissions under Windows, which were\\n\\n       causing spurious reports of different permissions when\\n\\n       synchronizing between windows and unix systems.\\n\\n     * Fixed one more non-tail-recursive list processing function, which\\n\\n       was causing stack overflows when synchronizing very large\\n\\n       replicas.\\n\\n       \\n\\n   Changes since 1.169:\\n\\n     * The text user interface now provides commands for ignoring files.\\n\\n     * We found and fixed some more non-tail-recursive list processing\\n\\n       functions. Some power users have reported success with very large\\n\\n       replicas.\\n\\n     * INCOMPATIBLE CHANGE: Files ending in .tmp are no longer ignored\\n\\n       automatically. If you want to ignore such files, put an\\n\\n       appropriate ignore pattern in your profile.\\n\\n     * INCOMPATIBLE CHANGE: The syntax of ignore and follow patterns has\\n\\n       changed. Instead of putting a line of the form\\n\\n\\n\\n                 ignore = <regexp>\\n\\n       in your profile (.unison/default.prf), you should put:\\n\\n\\n\\n                 ignore = Regexp <regexp>\\n\\n       Moreover, two other styles of pattern are also recognized:\\n\\n\\n\\n                 ignore = Name <name>\\n\\n       matches any path in which one component matches <name>, while\\n\\n\\n\\n                 ignore = Path <path>\\n\\n       matches exactly the path <path>.\\n\\n       Standard ``globbing\\'\\' conventions can be used in <name> and\\n\\n       <path>:\\n\\n          + a ? matches any single character except /\\n\\n          + a * matches any sequence of characters not including /\\n\\n          + [xyz] matches any character from the set {x, y, z }\\n\\n          + {a,bb,ccc} matches any one of a, bb, or ccc.\\n\\n       See the user manual for some examples.\\n\\n       \\n\\n   Changes since 1.146:\\n\\n     * Some users were reporting stack overflows when synchronizing huge\\n\\n       directories. We found and fixed some non-tail-recursive list\\n\\n       processing functions, which we hope will solve the problem. Please\\n\\n       give it a try and let us know.\\n\\n     * Major additions to the documentation.\\n\\n       \\n\\n   Changes since 1.142:\\n\\n     * Major internal tidying and many small bugfixes.\\n\\n     * Major additions to the user manual.\\n\\n     * Unison can now be started with no arguments -- it will prompt\\n\\n       automatically for the name of a profile file containing the roots\\n\\n       to be synchronized. This makes it possible to start the graphical\\n\\n       UI from a desktop icon.\\n\\n     * Fixed a small bug where the text UI on NT was raising a \\'no such\\n\\n       signal\\' exception.\\n\\n       \\n\\n   Changes since 1.139:\\n\\n     * The precompiled windows binary in the last release was compiled\\n\\n       with an old OCaml compiler, causing propagation of permissions not\\n\\n       to work (and perhaps leading to some other strange behaviors we\\'ve\\n\\n       heard reports about). This has been corrected. If you\\'re using\\n\\n       precompiled binaries on Windows, please upgrade.\\n\\n     * Added a -debug command line flag, which controls debugging of\\n\\n       various modules. Say -debug XXX to enable debug tracing for module\\n\\n       XXX, or -debug all to turn on absolutely everything.\\n\\n     * Fixed a small bug where the text UI on NT was raising a \\'no such\\n\\n       signal\\' exception.\\n\\n       \\n\\n   Changes since 1.111:\\n\\n     * INCOMPATIBLE CHANGE: The names and formats of the preference files\\n\\n       in the .unison directory have changed. In particular:\\n\\n          + the file ``prefs\\'\\' should be renamed to default.prf\\n\\n          + the contents of the file ``ignore\\'\\' should be merged into\\n\\n            default.prf. Each line of the form REGEXP in ignore should\\n\\n            become a line of the form ignore = REGEXP in default.prf.\\n\\n     * Unison now handles permission bits and symbolic links. See the\\n\\n       manual for details.\\n\\n     * You can now have different preference files in your .unison\\n\\n       directory. If you start unison like this\\n\\n\\n\\n             unison profilename\\n\\n       (i.e. with just one ``anonymous\\'\\' command-line argument), then the\\n\\n       file ~/.unison/profilename.prf will be loaded instead of\\n\\n       default.prf.\\n\\n     * Some improvements to terminal handling in the text user interface\\n\\n     * Added a switch -killServer that terminates the remote server\\n\\n       process when the unison client is shutting down, even when using\\n\\n       sockets for communication. (By default, a remote server created\\n\\n       using ssh/rsh is terminated automatically, while a socket server\\n\\n       is left running.)\\n\\n     * When started in \\'socket server\\' mode, unison prints \\'server\\n\\n       started\\' on stderr when it is ready to accept connections. (This\\n\\n       may be useful for scripts that want to tell when a socket-mode\\n\\n       server has finished initalization.)\\n\\n     * We now make a nightly mirror of our current internal development\\n\\n       tree, in case anyone wants an up-to-the-minute version to hack\\n\\n       around with.\\n\\n     * Added a file CONTRIB with some suggestions for how to help us make\\n\\n       Unison better.\\n\\n       \\n\\n\\n\\n\\n\\nTo unsubscribe from this group, send an email to:\\n\\nunison-announce-unsubscribe@egroups.com\\n\\n\\n\\n \\n\\n\\n\\nYour use of Yahoo! Groups is subject to http://docs.yahoo.com/info/terms/ \\n\\n\\n\\n\\n\\n\\n'"
      ]
     },
     "execution_count": 85,
     "metadata": {},
     "output_type": "execute_result"
    }
   ],
   "source": [
    "data.at[np.argmax(clean_email_list), 'MESSAGES']"
   ]
  },
  {
   "cell_type": "markdown",
   "id": "055ee0bf",
   "metadata": {},
   "source": [
    "# Generate Features & a Sparse matrix\n",
    "\n",
    "### Creating a DataFrame with one word per column"
   ]
  },
  {
   "cell_type": "code",
   "execution_count": 86,
   "id": "9e834e0a",
   "metadata": {},
   "outputs": [
    {
     "data": {
      "text/plain": [
       "DOC_ID\n",
       "0       [save, life, insur, whi, spend, more, than, yo...\n",
       "1       [fight, the, risk, cancer, http, slim, down, g...\n",
       "2       [fight, the, risk, cancer, http, slim, down, g...\n",
       "3       [adult, club, offer, free, membership, instant...\n",
       "4       [i, thought, might, like, slim, down, guarante...\n",
       "                              ...                        \n",
       "3395    [http, a, bizarr, collect, stuf, anim, could, ...\n",
       "3396    [care, use, one, also, realli, cute, thing, ja...\n",
       "3397    [sm, skip, montanaro, write, jeremi, put, anot...\n",
       "3398    [so, mark, hammond, like, so, given, zodb, sou...\n",
       "3399    [hi, now, probabl, use, whatsoev, not, i, also...\n",
       "Name: MESSAGES, Length: 3400, dtype: object"
      ]
     },
     "execution_count": 86,
     "metadata": {},
     "output_type": "execute_result"
    }
   ],
   "source": [
    "stemmed_nested_list"
   ]
  },
  {
   "cell_type": "code",
   "execution_count": 87,
   "id": "48106e0c",
   "metadata": {},
   "outputs": [
    {
     "data": {
      "text/html": [
       "<div>\n",
       "<style scoped>\n",
       "    .dataframe tbody tr th:only-of-type {\n",
       "        vertical-align: middle;\n",
       "    }\n",
       "\n",
       "    .dataframe tbody tr th {\n",
       "        vertical-align: top;\n",
       "    }\n",
       "\n",
       "    .dataframe thead th {\n",
       "        text-align: right;\n",
       "    }\n",
       "</style>\n",
       "<table border=\"1\" class=\"dataframe\">\n",
       "  <thead>\n",
       "    <tr style=\"text-align: right;\">\n",
       "      <th></th>\n",
       "      <th>0</th>\n",
       "      <th>1</th>\n",
       "      <th>2</th>\n",
       "      <th>3</th>\n",
       "      <th>4</th>\n",
       "      <th>5</th>\n",
       "      <th>6</th>\n",
       "      <th>7</th>\n",
       "      <th>8</th>\n",
       "      <th>9</th>\n",
       "      <th>...</th>\n",
       "      <th>8123</th>\n",
       "      <th>8124</th>\n",
       "      <th>8125</th>\n",
       "      <th>8126</th>\n",
       "      <th>8127</th>\n",
       "      <th>8128</th>\n",
       "      <th>8129</th>\n",
       "      <th>8130</th>\n",
       "      <th>8131</th>\n",
       "      <th>8132</th>\n",
       "    </tr>\n",
       "  </thead>\n",
       "  <tbody>\n",
       "    <tr>\n",
       "      <th>0</th>\n",
       "      <td>save</td>\n",
       "      <td>life</td>\n",
       "      <td>insur</td>\n",
       "      <td>whi</td>\n",
       "      <td>spend</td>\n",
       "      <td>more</td>\n",
       "      <td>than</td>\n",
       "      <td>you</td>\n",
       "      <td>have</td>\n",
       "      <td>to</td>\n",
       "      <td>...</td>\n",
       "      <td>None</td>\n",
       "      <td>None</td>\n",
       "      <td>None</td>\n",
       "      <td>None</td>\n",
       "      <td>None</td>\n",
       "      <td>None</td>\n",
       "      <td>None</td>\n",
       "      <td>None</td>\n",
       "      <td>None</td>\n",
       "      <td>None</td>\n",
       "    </tr>\n",
       "    <tr>\n",
       "      <th>1</th>\n",
       "      <td>fight</td>\n",
       "      <td>the</td>\n",
       "      <td>risk</td>\n",
       "      <td>cancer</td>\n",
       "      <td>http</td>\n",
       "      <td>slim</td>\n",
       "      <td>down</td>\n",
       "      <td>guarante</td>\n",
       "      <td>lose</td>\n",
       "      <td>lb</td>\n",
       "      <td>...</td>\n",
       "      <td>None</td>\n",
       "      <td>None</td>\n",
       "      <td>None</td>\n",
       "      <td>None</td>\n",
       "      <td>None</td>\n",
       "      <td>None</td>\n",
       "      <td>None</td>\n",
       "      <td>None</td>\n",
       "      <td>None</td>\n",
       "      <td>None</td>\n",
       "    </tr>\n",
       "    <tr>\n",
       "      <th>2</th>\n",
       "      <td>fight</td>\n",
       "      <td>the</td>\n",
       "      <td>risk</td>\n",
       "      <td>cancer</td>\n",
       "      <td>http</td>\n",
       "      <td>slim</td>\n",
       "      <td>down</td>\n",
       "      <td>guarante</td>\n",
       "      <td>lose</td>\n",
       "      <td>lb</td>\n",
       "      <td>...</td>\n",
       "      <td>None</td>\n",
       "      <td>None</td>\n",
       "      <td>None</td>\n",
       "      <td>None</td>\n",
       "      <td>None</td>\n",
       "      <td>None</td>\n",
       "      <td>None</td>\n",
       "      <td>None</td>\n",
       "      <td>None</td>\n",
       "      <td>None</td>\n",
       "    </tr>\n",
       "    <tr>\n",
       "      <th>3</th>\n",
       "      <td>adult</td>\n",
       "      <td>club</td>\n",
       "      <td>offer</td>\n",
       "      <td>free</td>\n",
       "      <td>membership</td>\n",
       "      <td>instant</td>\n",
       "      <td>access</td>\n",
       "      <td>to</td>\n",
       "      <td>all</td>\n",
       "      <td>site</td>\n",
       "      <td>...</td>\n",
       "      <td>None</td>\n",
       "      <td>None</td>\n",
       "      <td>None</td>\n",
       "      <td>None</td>\n",
       "      <td>None</td>\n",
       "      <td>None</td>\n",
       "      <td>None</td>\n",
       "      <td>None</td>\n",
       "      <td>None</td>\n",
       "      <td>None</td>\n",
       "    </tr>\n",
       "    <tr>\n",
       "      <th>4</th>\n",
       "      <td>i</td>\n",
       "      <td>thought</td>\n",
       "      <td>might</td>\n",
       "      <td>like</td>\n",
       "      <td>slim</td>\n",
       "      <td>down</td>\n",
       "      <td>guarante</td>\n",
       "      <td>lose</td>\n",
       "      <td>lb</td>\n",
       "      <td>day</td>\n",
       "      <td>...</td>\n",
       "      <td>None</td>\n",
       "      <td>None</td>\n",
       "      <td>None</td>\n",
       "      <td>None</td>\n",
       "      <td>None</td>\n",
       "      <td>None</td>\n",
       "      <td>None</td>\n",
       "      <td>None</td>\n",
       "      <td>None</td>\n",
       "      <td>None</td>\n",
       "    </tr>\n",
       "  </tbody>\n",
       "</table>\n",
       "<p>5 rows × 8133 columns</p>\n",
       "</div>"
      ],
      "text/plain": [
       "    0        1      2       3           4        5         6         7     \\\n",
       "0   save     life  insur     whi       spend     more      than       you   \n",
       "1  fight      the   risk  cancer        http     slim      down  guarante   \n",
       "2  fight      the   risk  cancer        http     slim      down  guarante   \n",
       "3  adult     club  offer    free  membership  instant    access        to   \n",
       "4      i  thought  might    like        slim     down  guarante      lose   \n",
       "\n",
       "   8     9     ...  8123  8124  8125  8126  8127  8128  8129  8130  8131  8132  \n",
       "0  have    to  ...  None  None  None  None  None  None  None  None  None  None  \n",
       "1  lose    lb  ...  None  None  None  None  None  None  None  None  None  None  \n",
       "2  lose    lb  ...  None  None  None  None  None  None  None  None  None  None  \n",
       "3   all  site  ...  None  None  None  None  None  None  None  None  None  None  \n",
       "4    lb   day  ...  None  None  None  None  None  None  None  None  None  None  \n",
       "\n",
       "[5 rows x 8133 columns]"
      ]
     },
     "execution_count": 87,
     "metadata": {},
     "output_type": "execute_result"
    }
   ],
   "source": [
    "word_columns_df = pd.DataFrame.from_records(stemmed_nested_list.tolist())\n",
    "word_columns_df.head()"
   ]
  },
  {
   "cell_type": "code",
   "execution_count": 88,
   "id": "06954bbf",
   "metadata": {},
   "outputs": [
    {
     "data": {
      "text/plain": [
       "(3400, 8133)"
      ]
     },
     "execution_count": 88,
     "metadata": {},
     "output_type": "execute_result"
    }
   ],
   "source": [
    "word_columns_df.shape # 3400 is the no. of emails and 8133 is no. of words in longest email"
   ]
  },
  {
   "cell_type": "markdown",
   "id": "0b8a8012",
   "metadata": {},
   "source": [
    "### Splitting the data into training and testing datasets"
   ]
  },
  {
   "cell_type": "code",
   "execution_count": 90,
   "id": "c717fc04",
   "metadata": {},
   "outputs": [],
   "source": [
    "X_train, X_test, y_train, y_test = train_test_split(word_columns_df, data.CATEGORY, test_size = 0.3, random_state=42)"
   ]
  },
  {
   "cell_type": "code",
   "execution_count": 91,
   "id": "f7b22d8b",
   "metadata": {},
   "outputs": [
    {
     "name": "stdout",
     "output_type": "stream",
     "text": [
      "Nr of training sample 2380\n"
     ]
    }
   ],
   "source": [
    "print('Nr of training sample', X_train.shape[0])"
   ]
  },
  {
   "cell_type": "code",
   "execution_count": 94,
   "id": "4253f2fc",
   "metadata": {},
   "outputs": [
    {
     "data": {
      "text/html": [
       "<div>\n",
       "<style scoped>\n",
       "    .dataframe tbody tr th:only-of-type {\n",
       "        vertical-align: middle;\n",
       "    }\n",
       "\n",
       "    .dataframe tbody tr th {\n",
       "        vertical-align: top;\n",
       "    }\n",
       "\n",
       "    .dataframe thead th {\n",
       "        text-align: right;\n",
       "    }\n",
       "</style>\n",
       "<table border=\"1\" class=\"dataframe\">\n",
       "  <thead>\n",
       "    <tr style=\"text-align: right;\">\n",
       "      <th></th>\n",
       "      <th>0</th>\n",
       "      <th>1</th>\n",
       "      <th>2</th>\n",
       "      <th>3</th>\n",
       "      <th>4</th>\n",
       "      <th>5</th>\n",
       "      <th>6</th>\n",
       "      <th>7</th>\n",
       "      <th>8</th>\n",
       "      <th>9</th>\n",
       "      <th>...</th>\n",
       "      <th>8123</th>\n",
       "      <th>8124</th>\n",
       "      <th>8125</th>\n",
       "      <th>8126</th>\n",
       "      <th>8127</th>\n",
       "      <th>8128</th>\n",
       "      <th>8129</th>\n",
       "      <th>8130</th>\n",
       "      <th>8131</th>\n",
       "      <th>8132</th>\n",
       "    </tr>\n",
       "    <tr>\n",
       "      <th>DOC_ID</th>\n",
       "      <th></th>\n",
       "      <th></th>\n",
       "      <th></th>\n",
       "      <th></th>\n",
       "      <th></th>\n",
       "      <th></th>\n",
       "      <th></th>\n",
       "      <th></th>\n",
       "      <th></th>\n",
       "      <th></th>\n",
       "      <th></th>\n",
       "      <th></th>\n",
       "      <th></th>\n",
       "      <th></th>\n",
       "      <th></th>\n",
       "      <th></th>\n",
       "      <th></th>\n",
       "      <th></th>\n",
       "      <th></th>\n",
       "      <th></th>\n",
       "      <th></th>\n",
       "    </tr>\n",
       "  </thead>\n",
       "  <tbody>\n",
       "    <tr>\n",
       "      <th>2835</th>\n",
       "      <td>on</td>\n",
       "      <td>tue</td>\n",
       "      <td>karl</td>\n",
       "      <td>anderson</td>\n",
       "      <td>wrote</td>\n",
       "      <td>dave</td>\n",
       "      <td>long</td>\n",
       "      <td>write</td>\n",
       "      <td>it</td>\n",
       "      <td>also</td>\n",
       "      <td>...</td>\n",
       "      <td>None</td>\n",
       "      <td>None</td>\n",
       "      <td>None</td>\n",
       "      <td>None</td>\n",
       "      <td>None</td>\n",
       "      <td>None</td>\n",
       "      <td>None</td>\n",
       "      <td>None</td>\n",
       "      <td>None</td>\n",
       "      <td>None</td>\n",
       "    </tr>\n",
       "    <tr>\n",
       "      <th>2867</th>\n",
       "      <td>on</td>\n",
       "      <td>jul</td>\n",
       "      <td>karl</td>\n",
       "      <td>anderson</td>\n",
       "      <td>wrote</td>\n",
       "      <td>an</td>\n",
       "      <td>interest</td>\n",
       "      <td>idea</td>\n",
       "      <td>i</td>\n",
       "      <td>heard</td>\n",
       "      <td>...</td>\n",
       "      <td>None</td>\n",
       "      <td>None</td>\n",
       "      <td>None</td>\n",
       "      <td>None</td>\n",
       "      <td>None</td>\n",
       "      <td>None</td>\n",
       "      <td>None</td>\n",
       "      <td>None</td>\n",
       "      <td>None</td>\n",
       "      <td>None</td>\n",
       "    </tr>\n",
       "    <tr>\n",
       "      <th>994</th>\n",
       "      <td>from</td>\n",
       "      <td>desmond</td>\n",
       "      <td>steven</td>\n",
       "      <td>urgent</td>\n",
       "      <td>assist</td>\n",
       "      <td>you</td>\n",
       "      <td>may</td>\n",
       "      <td>be</td>\n",
       "      <td>surpris</td>\n",
       "      <td>to</td>\n",
       "      <td>...</td>\n",
       "      <td>None</td>\n",
       "      <td>None</td>\n",
       "      <td>None</td>\n",
       "      <td>None</td>\n",
       "      <td>None</td>\n",
       "      <td>None</td>\n",
       "      <td>None</td>\n",
       "      <td>None</td>\n",
       "      <td>None</td>\n",
       "      <td>None</td>\n",
       "    </tr>\n",
       "    <tr>\n",
       "      <th>464</th>\n",
       "      <td>nnaji</td>\n",
       "      <td>standard</td>\n",
       "      <td>trust</td>\n",
       "      <td>bank</td>\n",
       "      <td>ltd</td>\n",
       "      <td>lago</td>\n",
       "      <td>nigeria</td>\n",
       "      <td>dear</td>\n",
       "      <td>sir</td>\n",
       "      <td>i</td>\n",
       "      <td>...</td>\n",
       "      <td>None</td>\n",
       "      <td>None</td>\n",
       "      <td>None</td>\n",
       "      <td>None</td>\n",
       "      <td>None</td>\n",
       "      <td>None</td>\n",
       "      <td>None</td>\n",
       "      <td>None</td>\n",
       "      <td>None</td>\n",
       "      <td>None</td>\n",
       "    </tr>\n",
       "    <tr>\n",
       "      <th>2764</th>\n",
       "      <td>i</td>\n",
       "      <td>sure</td>\n",
       "      <td>call</td>\n",
       "      <td>custom</td>\n",
       "      <td>servic</td>\n",
       "      <td>number</td>\n",
       "      <td>unsubscrib</td>\n",
       "      <td>i</td>\n",
       "      <td>took</td>\n",
       "      <td>tri</td>\n",
       "      <td>...</td>\n",
       "      <td>None</td>\n",
       "      <td>None</td>\n",
       "      <td>None</td>\n",
       "      <td>None</td>\n",
       "      <td>None</td>\n",
       "      <td>None</td>\n",
       "      <td>None</td>\n",
       "      <td>None</td>\n",
       "      <td>None</td>\n",
       "      <td>None</td>\n",
       "    </tr>\n",
       "  </tbody>\n",
       "</table>\n",
       "<p>5 rows × 8133 columns</p>\n",
       "</div>"
      ],
      "text/plain": [
       "         0         1       2         3       4       5           6      7     \\\n",
       "DOC_ID                                                                         \n",
       "2835       on       tue    karl  anderson   wrote    dave        long  write   \n",
       "2867       on       jul    karl  anderson   wrote      an    interest   idea   \n",
       "994      from   desmond  steven    urgent  assist     you         may     be   \n",
       "464     nnaji  standard   trust      bank     ltd    lago     nigeria   dear   \n",
       "2764        i      sure    call    custom  servic  number  unsubscrib      i   \n",
       "\n",
       "           8      9     ...  8123  8124  8125  8126  8127  8128  8129  8130  \\\n",
       "DOC_ID                  ...                                                   \n",
       "2835         it   also  ...  None  None  None  None  None  None  None  None   \n",
       "2867          i  heard  ...  None  None  None  None  None  None  None  None   \n",
       "994     surpris     to  ...  None  None  None  None  None  None  None  None   \n",
       "464         sir      i  ...  None  None  None  None  None  None  None  None   \n",
       "2764       took    tri  ...  None  None  None  None  None  None  None  None   \n",
       "\n",
       "        8131  8132  \n",
       "DOC_ID              \n",
       "2835    None  None  \n",
       "2867    None  None  \n",
       "994     None  None  \n",
       "464     None  None  \n",
       "2764    None  None  \n",
       "\n",
       "[5 rows x 8133 columns]"
      ]
     },
     "execution_count": 94,
     "metadata": {},
     "output_type": "execute_result"
    }
   ],
   "source": [
    "X_train.index.name = X_test.index.name = 'DOC_ID'\n",
    "X_train.head()"
   ]
  },
  {
   "cell_type": "code",
   "execution_count": 95,
   "id": "0a98b735",
   "metadata": {},
   "outputs": [
    {
     "data": {
      "text/plain": [
       "DOC_ID\n",
       "2835    0\n",
       "2867    0\n",
       "994     1\n",
       "464     1\n",
       "2764    0\n",
       "Name: CATEGORY, dtype: int64"
      ]
     },
     "execution_count": 95,
     "metadata": {},
     "output_type": "execute_result"
    }
   ],
   "source": [
    "y_train.head()"
   ]
  },
  {
   "cell_type": "markdown",
   "id": "b540ed6f",
   "metadata": {},
   "source": [
    "### Create a sparse matrix for the training data"
   ]
  },
  {
   "cell_type": "code",
   "execution_count": 97,
   "id": "20b44c91",
   "metadata": {},
   "outputs": [
    {
     "data": {
      "text/plain": [
       "pandas.core.indexes.base.Index"
      ]
     },
     "execution_count": 97,
     "metadata": {},
     "output_type": "execute_result"
    }
   ],
   "source": [
    "word_index = pd.Index(vocab.VOCAB_WORD)\n",
    "type(word_index)"
   ]
  },
  {
   "cell_type": "code",
   "execution_count": 98,
   "id": "6546f46d",
   "metadata": {},
   "outputs": [],
   "source": [
    "def make_sparse_matrix(df, indexed_words, labels):\n",
    "    \"\"\"\n",
    "    Returns sparse matrix as a dataframe\n",
    "    df: A dataframe with words in the columns with a document id as an index (X_train or X_test)\n",
    "    index_words: index of words orderd by word id\n",
    "    labels: category as a series (y_train or y_test)\n",
    "    \n",
    "    \"\"\"\n",
    "    nr_rows = df.shape[0]\n",
    "    nr_cols = df.shape[1]\n",
    "    \n",
    "    word_set = set(indexed_words)\n",
    "    dict_list = []\n",
    "    \n",
    "    for i in range(nr_rows):\n",
    "        for j in range(nr_cols):\n",
    "            \n",
    "            word = df.iat[i,j]\n",
    "            if word in word_set:\n",
    "                doc_id = df.index[i]\n",
    "                word_id = indexed_words.get_loc(word)\n",
    "                category = labels.at[doc_id]\n",
    "                \n",
    "                item = {'LABEL': category, 'DOC_ID': doc_id,\n",
    "                       'OCCURENCE': 1, 'WORD_ID': word_id}\n",
    "                dict_list.append(item)\n",
    "    \n",
    "    \n",
    "    return pd.DataFrame(dict_list)"
   ]
  },
  {
   "cell_type": "code",
   "execution_count": 99,
   "id": "fc4dcc1f",
   "metadata": {},
   "outputs": [
    {
     "name": "stdout",
     "output_type": "stream",
     "text": [
      "Wall time: 4min 43s\n"
     ]
    }
   ],
   "source": [
    "%%time\n",
    "\n",
    "sparse_train_df = make_sparse_matrix(X_train, word_index, y_train)"
   ]
  },
  {
   "cell_type": "code",
   "execution_count": 100,
   "id": "fb06d110",
   "metadata": {},
   "outputs": [
    {
     "data": {
      "text/html": [
       "<div>\n",
       "<style scoped>\n",
       "    .dataframe tbody tr th:only-of-type {\n",
       "        vertical-align: middle;\n",
       "    }\n",
       "\n",
       "    .dataframe tbody tr th {\n",
       "        vertical-align: top;\n",
       "    }\n",
       "\n",
       "    .dataframe thead th {\n",
       "        text-align: right;\n",
       "    }\n",
       "</style>\n",
       "<table border=\"1\" class=\"dataframe\">\n",
       "  <thead>\n",
       "    <tr style=\"text-align: right;\">\n",
       "      <th></th>\n",
       "      <th>LABEL</th>\n",
       "      <th>DOC_ID</th>\n",
       "      <th>OCCURENCE</th>\n",
       "      <th>WORD_ID</th>\n",
       "    </tr>\n",
       "  </thead>\n",
       "  <tbody>\n",
       "    <tr>\n",
       "      <th>0</th>\n",
       "      <td>0</td>\n",
       "      <td>2835</td>\n",
       "      <td>1</td>\n",
       "      <td>62</td>\n",
       "    </tr>\n",
       "    <tr>\n",
       "      <th>1</th>\n",
       "      <td>0</td>\n",
       "      <td>2835</td>\n",
       "      <td>1</td>\n",
       "      <td>842</td>\n",
       "    </tr>\n",
       "    <tr>\n",
       "      <th>2</th>\n",
       "      <td>0</td>\n",
       "      <td>2835</td>\n",
       "      <td>1</td>\n",
       "      <td>114</td>\n",
       "    </tr>\n",
       "    <tr>\n",
       "      <th>3</th>\n",
       "      <td>0</td>\n",
       "      <td>2835</td>\n",
       "      <td>1</td>\n",
       "      <td>1764</td>\n",
       "    </tr>\n",
       "    <tr>\n",
       "      <th>4</th>\n",
       "      <td>0</td>\n",
       "      <td>2835</td>\n",
       "      <td>1</td>\n",
       "      <td>319</td>\n",
       "    </tr>\n",
       "  </tbody>\n",
       "</table>\n",
       "</div>"
      ],
      "text/plain": [
       "   LABEL  DOC_ID  OCCURENCE  WORD_ID\n",
       "0      0    2835          1       62\n",
       "1      0    2835          1      842\n",
       "2      0    2835          1      114\n",
       "3      0    2835          1     1764\n",
       "4      0    2835          1      319"
      ]
     },
     "execution_count": 100,
     "metadata": {},
     "output_type": "execute_result"
    }
   ],
   "source": [
    "sparse_train_df[:5]"
   ]
  },
  {
   "cell_type": "code",
   "execution_count": 101,
   "id": "08dfe411",
   "metadata": {},
   "outputs": [
    {
     "data": {
      "text/plain": [
       "(331435, 4)"
      ]
     },
     "execution_count": 101,
     "metadata": {},
     "output_type": "execute_result"
    }
   ],
   "source": [
    "sparse_train_df.shape"
   ]
  },
  {
   "cell_type": "code",
   "execution_count": 102,
   "id": "cfd38e3c",
   "metadata": {},
   "outputs": [
    {
     "data": {
      "text/html": [
       "<div>\n",
       "<style scoped>\n",
       "    .dataframe tbody tr th:only-of-type {\n",
       "        vertical-align: middle;\n",
       "    }\n",
       "\n",
       "    .dataframe tbody tr th {\n",
       "        vertical-align: top;\n",
       "    }\n",
       "\n",
       "    .dataframe thead th {\n",
       "        text-align: right;\n",
       "    }\n",
       "</style>\n",
       "<table border=\"1\" class=\"dataframe\">\n",
       "  <thead>\n",
       "    <tr style=\"text-align: right;\">\n",
       "      <th></th>\n",
       "      <th>LABEL</th>\n",
       "      <th>DOC_ID</th>\n",
       "      <th>OCCURENCE</th>\n",
       "      <th>WORD_ID</th>\n",
       "    </tr>\n",
       "  </thead>\n",
       "  <tbody>\n",
       "    <tr>\n",
       "      <th>331430</th>\n",
       "      <td>0</td>\n",
       "      <td>3174</td>\n",
       "      <td>1</td>\n",
       "      <td>6</td>\n",
       "    </tr>\n",
       "    <tr>\n",
       "      <th>331431</th>\n",
       "      <td>0</td>\n",
       "      <td>3174</td>\n",
       "      <td>1</td>\n",
       "      <td>372</td>\n",
       "    </tr>\n",
       "    <tr>\n",
       "      <th>331432</th>\n",
       "      <td>0</td>\n",
       "      <td>3174</td>\n",
       "      <td>1</td>\n",
       "      <td>11</td>\n",
       "    </tr>\n",
       "    <tr>\n",
       "      <th>331433</th>\n",
       "      <td>0</td>\n",
       "      <td>3174</td>\n",
       "      <td>1</td>\n",
       "      <td>3</td>\n",
       "    </tr>\n",
       "    <tr>\n",
       "      <th>331434</th>\n",
       "      <td>0</td>\n",
       "      <td>3174</td>\n",
       "      <td>1</td>\n",
       "      <td>1</td>\n",
       "    </tr>\n",
       "  </tbody>\n",
       "</table>\n",
       "</div>"
      ],
      "text/plain": [
       "        LABEL  DOC_ID  OCCURENCE  WORD_ID\n",
       "331430      0    3174          1        6\n",
       "331431      0    3174          1      372\n",
       "331432      0    3174          1       11\n",
       "331433      0    3174          1        3\n",
       "331434      0    3174          1        1"
      ]
     },
     "execution_count": 102,
     "metadata": {},
     "output_type": "execute_result"
    }
   ],
   "source": [
    "sparse_train_df[-5:]"
   ]
  },
  {
   "cell_type": "markdown",
   "id": "f1e27f40",
   "metadata": {},
   "source": [
    "## Combine occurences with Pandas groupby() Method"
   ]
  },
  {
   "cell_type": "code",
   "execution_count": 103,
   "id": "c297800c",
   "metadata": {},
   "outputs": [
    {
     "data": {
      "text/html": [
       "<div>\n",
       "<style scoped>\n",
       "    .dataframe tbody tr th:only-of-type {\n",
       "        vertical-align: middle;\n",
       "    }\n",
       "\n",
       "    .dataframe tbody tr th {\n",
       "        vertical-align: top;\n",
       "    }\n",
       "\n",
       "    .dataframe thead th {\n",
       "        text-align: right;\n",
       "    }\n",
       "</style>\n",
       "<table border=\"1\" class=\"dataframe\">\n",
       "  <thead>\n",
       "    <tr style=\"text-align: right;\">\n",
       "      <th></th>\n",
       "      <th></th>\n",
       "      <th></th>\n",
       "      <th>OCCURENCE</th>\n",
       "    </tr>\n",
       "    <tr>\n",
       "      <th>DOC_ID</th>\n",
       "      <th>WORD_ID</th>\n",
       "      <th>LABEL</th>\n",
       "      <th></th>\n",
       "    </tr>\n",
       "  </thead>\n",
       "  <tbody>\n",
       "    <tr>\n",
       "      <th rowspan=\"5\" valign=\"top\">1</th>\n",
       "      <th>1</th>\n",
       "      <th>1</th>\n",
       "      <td>7</td>\n",
       "    </tr>\n",
       "    <tr>\n",
       "      <th>2</th>\n",
       "      <th>1</th>\n",
       "      <td>1</td>\n",
       "    </tr>\n",
       "    <tr>\n",
       "      <th>3</th>\n",
       "      <th>1</th>\n",
       "      <td>2</td>\n",
       "    </tr>\n",
       "    <tr>\n",
       "      <th>5</th>\n",
       "      <th>1</th>\n",
       "      <td>1</td>\n",
       "    </tr>\n",
       "    <tr>\n",
       "      <th>7</th>\n",
       "      <th>1</th>\n",
       "      <td>1</td>\n",
       "    </tr>\n",
       "  </tbody>\n",
       "</table>\n",
       "</div>"
      ],
      "text/plain": [
       "                      OCCURENCE\n",
       "DOC_ID WORD_ID LABEL           \n",
       "1      1       1              7\n",
       "       2       1              1\n",
       "       3       1              2\n",
       "       5       1              1\n",
       "       7       1              1"
      ]
     },
     "execution_count": 103,
     "metadata": {},
     "output_type": "execute_result"
    }
   ],
   "source": [
    "train_grouped = sparse_train_df.groupby(['DOC_ID', 'WORD_ID', 'LABEL']).sum()\n",
    "train_grouped.head()"
   ]
  },
  {
   "cell_type": "code",
   "execution_count": 105,
   "id": "f3500fbd",
   "metadata": {},
   "outputs": [
    {
     "data": {
      "text/plain": [
       "'http'"
      ]
     },
     "execution_count": 105,
     "metadata": {},
     "output_type": "execute_result"
    }
   ],
   "source": [
    "vocab.at[1, 'VOCAB_WORD']"
   ]
  },
  {
   "cell_type": "code",
   "execution_count": 106,
   "id": "b5ea32c7",
   "metadata": {},
   "outputs": [
    {
     "data": {
      "text/html": [
       "<div>\n",
       "<style scoped>\n",
       "    .dataframe tbody tr th:only-of-type {\n",
       "        vertical-align: middle;\n",
       "    }\n",
       "\n",
       "    .dataframe tbody tr th {\n",
       "        vertical-align: top;\n",
       "    }\n",
       "\n",
       "    .dataframe thead th {\n",
       "        text-align: right;\n",
       "    }\n",
       "</style>\n",
       "<table border=\"1\" class=\"dataframe\">\n",
       "  <thead>\n",
       "    <tr style=\"text-align: right;\">\n",
       "      <th></th>\n",
       "      <th>DOC_ID</th>\n",
       "      <th>WORD_ID</th>\n",
       "      <th>LABEL</th>\n",
       "      <th>OCCURENCE</th>\n",
       "    </tr>\n",
       "  </thead>\n",
       "  <tbody>\n",
       "    <tr>\n",
       "      <th>0</th>\n",
       "      <td>1</td>\n",
       "      <td>1</td>\n",
       "      <td>1</td>\n",
       "      <td>7</td>\n",
       "    </tr>\n",
       "    <tr>\n",
       "      <th>1</th>\n",
       "      <td>1</td>\n",
       "      <td>2</td>\n",
       "      <td>1</td>\n",
       "      <td>1</td>\n",
       "    </tr>\n",
       "    <tr>\n",
       "      <th>2</th>\n",
       "      <td>1</td>\n",
       "      <td>3</td>\n",
       "      <td>1</td>\n",
       "      <td>2</td>\n",
       "    </tr>\n",
       "    <tr>\n",
       "      <th>3</th>\n",
       "      <td>1</td>\n",
       "      <td>5</td>\n",
       "      <td>1</td>\n",
       "      <td>1</td>\n",
       "    </tr>\n",
       "    <tr>\n",
       "      <th>4</th>\n",
       "      <td>1</td>\n",
       "      <td>7</td>\n",
       "      <td>1</td>\n",
       "      <td>1</td>\n",
       "    </tr>\n",
       "  </tbody>\n",
       "</table>\n",
       "</div>"
      ],
      "text/plain": [
       "   DOC_ID  WORD_ID  LABEL  OCCURENCE\n",
       "0       1        1      1          7\n",
       "1       1        2      1          1\n",
       "2       1        3      1          2\n",
       "3       1        5      1          1\n",
       "4       1        7      1          1"
      ]
     },
     "execution_count": 106,
     "metadata": {},
     "output_type": "execute_result"
    }
   ],
   "source": [
    "train_grouped = train_grouped.reset_index()\n",
    "train_grouped.head()"
   ]
  },
  {
   "cell_type": "code",
   "execution_count": 108,
   "id": "a4a8f9c0",
   "metadata": {},
   "outputs": [
    {
     "data": {
      "text/html": [
       "<div>\n",
       "<style scoped>\n",
       "    .dataframe tbody tr th:only-of-type {\n",
       "        vertical-align: middle;\n",
       "    }\n",
       "\n",
       "    .dataframe tbody tr th {\n",
       "        vertical-align: top;\n",
       "    }\n",
       "\n",
       "    .dataframe thead th {\n",
       "        text-align: right;\n",
       "    }\n",
       "</style>\n",
       "<table border=\"1\" class=\"dataframe\">\n",
       "  <thead>\n",
       "    <tr style=\"text-align: right;\">\n",
       "      <th></th>\n",
       "      <th>DOC_ID</th>\n",
       "      <th>WORD_ID</th>\n",
       "      <th>LABEL</th>\n",
       "      <th>OCCURENCE</th>\n",
       "    </tr>\n",
       "  </thead>\n",
       "  <tbody>\n",
       "    <tr>\n",
       "      <th>186801</th>\n",
       "      <td>3399</td>\n",
       "      <td>2252</td>\n",
       "      <td>0</td>\n",
       "      <td>1</td>\n",
       "    </tr>\n",
       "    <tr>\n",
       "      <th>186802</th>\n",
       "      <td>3399</td>\n",
       "      <td>2286</td>\n",
       "      <td>0</td>\n",
       "      <td>2</td>\n",
       "    </tr>\n",
       "    <tr>\n",
       "      <th>186803</th>\n",
       "      <td>3399</td>\n",
       "      <td>2290</td>\n",
       "      <td>0</td>\n",
       "      <td>1</td>\n",
       "    </tr>\n",
       "    <tr>\n",
       "      <th>186804</th>\n",
       "      <td>3399</td>\n",
       "      <td>2458</td>\n",
       "      <td>0</td>\n",
       "      <td>2</td>\n",
       "    </tr>\n",
       "    <tr>\n",
       "      <th>186805</th>\n",
       "      <td>3399</td>\n",
       "      <td>2481</td>\n",
       "      <td>0</td>\n",
       "      <td>1</td>\n",
       "    </tr>\n",
       "  </tbody>\n",
       "</table>\n",
       "</div>"
      ],
      "text/plain": [
       "        DOC_ID  WORD_ID  LABEL  OCCURENCE\n",
       "186801    3399     2252      0          1\n",
       "186802    3399     2286      0          2\n",
       "186803    3399     2290      0          1\n",
       "186804    3399     2458      0          2\n",
       "186805    3399     2481      0          1"
      ]
     },
     "execution_count": 108,
     "metadata": {},
     "output_type": "execute_result"
    }
   ],
   "source": [
    "train_grouped.tail()"
   ]
  },
  {
   "cell_type": "code",
   "execution_count": 109,
   "id": "508fdecb",
   "metadata": {},
   "outputs": [
    {
     "data": {
      "text/plain": [
       "'nv'"
      ]
     },
     "execution_count": 109,
     "metadata": {},
     "output_type": "execute_result"
    }
   ],
   "source": [
    "vocab.at[2458, 'VOCAB_WORD']"
   ]
  },
  {
   "cell_type": "code",
   "execution_count": null,
   "id": "db069698",
   "metadata": {},
   "outputs": [],
   "source": []
  },
  {
   "cell_type": "code",
   "execution_count": 110,
   "id": "2cdccfae",
   "metadata": {},
   "outputs": [
    {
     "data": {
      "text/plain": [
       "\"Hi there,\\n\\n\\n\\nNow this is probably of no use to you whatsoever, but...\\n\\n\\n\\nNot a deb-head, but I also have a problem regards NVidia. I've two machines,\\n\\npretty much the same hardware. \\n\\nathlon 1700XP's, both have NVidia cards, one Gforce3 Ti and a Gforce2MX,\\n\\nboth use the same driver module. \\n\\n\\n\\nBoth have same kernel version albeit it compiled for their particular\\n\\nhardware.\\n\\n\\n\\nOne works perfectly, the other fails to load. When I check with lsmod, I can\\n\\nsee the NVdriver is loaded, but not used ;--(\\n\\nThus when I startx, it bombs out. \\n\\n\\n\\nIU still have X with the default nv driver and crappy accelleration -->\\n\\n650fps with glxgears [should be over 2000fps]\\n\\nIts not a hardware issue with the cards as I swapped them over and get the\\n\\nsame symptoms. \\n\\n\\n\\nI reckon my mobo is cack, I've tried swapping slots around, reserving\\n\\nresources etc all to no avail. \\n\\nShould there be an interrupt for the nv card? I haven't checked the other\\n\\nbox yet.\\n\\n\\n\\nRegards,\\n\\nCW\\n\\n\\n\\n-------------------\\n\\nOn Tue, 03 Dec 2002, Mark Page wrote:\\n\\n\\n\\n> Was running Debian Woody perfectly well until I installed the NVIDIA 3D \\n\\n> tar packages.\\n\\n\\n\\nYou probably stil are ;)\\n\\n\\n\\n> Both the kernel and GLX packages installed with no problem and I then \\n\\n> amended the XFree config file appropriately (according to all \\n\\n> instructions). Neither GDM nor KDM will now fire up returning me to the \\n\\n> console screen. \\n\\n\\n\\nie X is broken. \\n\\n\\n\\n> Running startx I isolated the problem to a failure to load the nvidia\\n\\n> kernel module - By cd'ing to the kernel module file and re-running 'make\\n\\n> install' I can get a workable xserver \\n\\n\\n\\nso you fixed X.\\n\\n\\n\\n> minus the preferences you would get from either gdm or kdm and to be\\n\\n> honest the GUI is horrible.\\n\\n\\n\\nIf X is working and you get a brief Nvidia splash screen then this is\\n\\nlikely nothing to do with the driver itself.  You should be able to use kdm\\n\\nor gdm with the nvidia Xserver.  What exactly did you change in your\\n\\nXF86Config?  Will gdm/kdm not start?\\n\\n\\n\\n> I followed the nvidia suggestion of 'make install \\n\\n> SYSINCLUDE=/path/to/kernel/headers' and whilst this appears to install \\n\\n> ok upon reboot I am back to the same console login and having to go \\n\\n> through the same reinstall of the kernel module. I have tried rewriting \\n\\n> the XF config file to it's original state with no success.\\n\\n\\n\\nWell, this sounds like the NVIDIA kernel module isn't loading on boot.\\n\\nWhen it *is* working do a quick \\n\\n\\n\\n/sbin/lsmod\\n\\n\\n\\nand look for the module name (something like 'NVDriver').  Then put this on\\n\\na new line in \\n\\n\\n\\n/etc/modules\\n\\n\\n\\nin order that linux will load it on boot.  You can just do\\n\\n\\n\\nmodprobe nvdriver\\n\\n\\n\\nto load it by hand.  Your make install did this as well as reinstalling the\\n\\ndriver in /lib etc.  You should also get a message saying loading the\\n\\nnvidia driver taints your kernel (which it does, in the sense that it's not\\n\\nopen source).\\n\\n\\n\\n> Is this a problem anyone else has encountered and what is the best \\n\\n> solution? Can I rid myself of the tar file installations and find some \\n\\n> specific .deb packages?\\n\\n\\n\\nThe nvidia driver source is in the Woody tree.\\n\\n\\n\\nhttp://packages.debian.org/stable/x11/nvidia-kernel-src.html\\n\\n\\n\\nso you can do\\n\\n\\n\\napt-get install nvidia-kernel-src\\n\\n\\n\\nand then compile, although I've always gone the route you're doing now.\\n\\n\\n\\nIdeally the nvidia driver would be a part of the kernel from day 1.\\n\\nHowever, nvidia have not open sourced it (most of the above source is\\n\\npre-compiled object code), but in order for it to work with your specific\\n\\nkernel you must compile against your kernel headers (as you did).  As\\n\\ndebian has lots of potential kernels they can't have one nvdriver package\\n\\nand have chosen instead to provide the source.  Actually I don't know if\\n\\nthey're permitted to distribute binaries by nvidia's license anyway.\\n\\n\\n\\nGavin\\n\\n\\n\\n-- \\n\\nIrish Linux Users' Group: ilug@linux.ie\\n\\nhttp://www.linux.ie/mailman/listinfo/ilug for (un)subscription information.\\n\\nList maintainer: listmaster@linux.ie\\n\\n\\n\\n-- \\n\\nIrish Linux Users' Group: ilug@linux.ie\\n\\nhttp://www.linux.ie/mailman/listinfo/ilug for (un)subscription information.\\n\\nList maintainer: listmaster@linux.ie\\n\\n\\n\\n\\n\""
      ]
     },
     "execution_count": 110,
     "metadata": {},
     "output_type": "execute_result"
    }
   ],
   "source": [
    "data.MESSAGES[3399]"
   ]
  },
  {
   "cell_type": "markdown",
   "id": "04c41ff1",
   "metadata": {},
   "source": [
    "## Save Training Data as txt file"
   ]
  },
  {
   "cell_type": "code",
   "execution_count": 112,
   "id": "80b4d237",
   "metadata": {},
   "outputs": [],
   "source": [
    "np.savetxt(TRAINING_DATA_FILE, train_grouped, fmt = '%d')"
   ]
  },
  {
   "cell_type": "code",
   "execution_count": 115,
   "id": "1c1ff344",
   "metadata": {},
   "outputs": [
    {
     "data": {
      "text/html": [
       "<div>\n",
       "<style scoped>\n",
       "    .dataframe tbody tr th:only-of-type {\n",
       "        vertical-align: middle;\n",
       "    }\n",
       "\n",
       "    .dataframe tbody tr th {\n",
       "        vertical-align: top;\n",
       "    }\n",
       "\n",
       "    .dataframe thead th {\n",
       "        text-align: right;\n",
       "    }\n",
       "</style>\n",
       "<table border=\"1\" class=\"dataframe\">\n",
       "  <thead>\n",
       "    <tr style=\"text-align: right;\">\n",
       "      <th></th>\n",
       "      <th>0</th>\n",
       "      <th>1</th>\n",
       "      <th>2</th>\n",
       "      <th>3</th>\n",
       "      <th>4</th>\n",
       "      <th>5</th>\n",
       "      <th>6</th>\n",
       "      <th>7</th>\n",
       "      <th>8</th>\n",
       "      <th>9</th>\n",
       "      <th>...</th>\n",
       "      <th>8123</th>\n",
       "      <th>8124</th>\n",
       "      <th>8125</th>\n",
       "      <th>8126</th>\n",
       "      <th>8127</th>\n",
       "      <th>8128</th>\n",
       "      <th>8129</th>\n",
       "      <th>8130</th>\n",
       "      <th>8131</th>\n",
       "      <th>8132</th>\n",
       "    </tr>\n",
       "    <tr>\n",
       "      <th>DOC_ID</th>\n",
       "      <th></th>\n",
       "      <th></th>\n",
       "      <th></th>\n",
       "      <th></th>\n",
       "      <th></th>\n",
       "      <th></th>\n",
       "      <th></th>\n",
       "      <th></th>\n",
       "      <th></th>\n",
       "      <th></th>\n",
       "      <th></th>\n",
       "      <th></th>\n",
       "      <th></th>\n",
       "      <th></th>\n",
       "      <th></th>\n",
       "      <th></th>\n",
       "      <th></th>\n",
       "      <th></th>\n",
       "      <th></th>\n",
       "      <th></th>\n",
       "      <th></th>\n",
       "    </tr>\n",
       "  </thead>\n",
       "  <tbody>\n",
       "    <tr>\n",
       "      <th>291</th>\n",
       "      <td>regist</td>\n",
       "      <td>and</td>\n",
       "      <td>domain</td>\n",
       "      <td>for</td>\n",
       "      <td>onli</td>\n",
       "      <td>the</td>\n",
       "      <td>new</td>\n",
       "      <td>domain</td>\n",
       "      <td>name</td>\n",
       "      <td>final</td>\n",
       "      <td>...</td>\n",
       "      <td>None</td>\n",
       "      <td>None</td>\n",
       "      <td>None</td>\n",
       "      <td>None</td>\n",
       "      <td>None</td>\n",
       "      <td>None</td>\n",
       "      <td>None</td>\n",
       "      <td>None</td>\n",
       "      <td>None</td>\n",
       "      <td>None</td>\n",
       "    </tr>\n",
       "    <tr>\n",
       "      <th>755</th>\n",
       "      <td>thi</td>\n",
       "      <td>multipart</td>\n",
       "      <td>mime</td>\n",
       "      <td>messag</td>\n",
       "      <td>sinc</td>\n",
       "      <td>mail</td>\n",
       "      <td>reader</td>\n",
       "      <td>understand</td>\n",
       "      <td>format</td>\n",
       "      <td>messag</td>\n",
       "      <td>...</td>\n",
       "      <td>None</td>\n",
       "      <td>None</td>\n",
       "      <td>None</td>\n",
       "      <td>None</td>\n",
       "      <td>None</td>\n",
       "      <td>None</td>\n",
       "      <td>None</td>\n",
       "      <td>None</td>\n",
       "      <td>None</td>\n",
       "      <td>None</td>\n",
       "    </tr>\n",
       "    <tr>\n",
       "      <th>2096</th>\n",
       "      <td>on</td>\n",
       "      <td>fri</td>\n",
       "      <td>jul</td>\n",
       "      <td>niall</td>\n",
       "      <td>o</td>\n",
       "      <td>broin</td>\n",
       "      <td>wrote</td>\n",
       "      <td>i</td>\n",
       "      <td>know</td>\n",
       "      <td>strictli</td>\n",
       "      <td>...</td>\n",
       "      <td>None</td>\n",
       "      <td>None</td>\n",
       "      <td>None</td>\n",
       "      <td>None</td>\n",
       "      <td>None</td>\n",
       "      <td>None</td>\n",
       "      <td>None</td>\n",
       "      <td>None</td>\n",
       "      <td>None</td>\n",
       "      <td>None</td>\n",
       "    </tr>\n",
       "    <tr>\n",
       "      <th>432</th>\n",
       "      <td>untitl</td>\n",
       "      <td>document</td>\n",
       "      <td>you</td>\n",
       "      <td>receiv</td>\n",
       "      <td>mail</td>\n",
       "      <td>member</td>\n",
       "      <td>subscrib</td>\n",
       "      <td>jm</td>\n",
       "      <td>to</td>\n",
       "      <td>unsubscrib</td>\n",
       "      <td>...</td>\n",
       "      <td>None</td>\n",
       "      <td>None</td>\n",
       "      <td>None</td>\n",
       "      <td>None</td>\n",
       "      <td>None</td>\n",
       "      <td>None</td>\n",
       "      <td>None</td>\n",
       "      <td>None</td>\n",
       "      <td>None</td>\n",
       "      <td>None</td>\n",
       "    </tr>\n",
       "    <tr>\n",
       "      <th>479</th>\n",
       "      <td>dear</td>\n",
       "      <td>i</td>\n",
       "      <td>well</td>\n",
       "      <td>confid</td>\n",
       "      <td>capabl</td>\n",
       "      <td>assist</td>\n",
       "      <td>transact</td>\n",
       "      <td>mutual</td>\n",
       "      <td>benefit</td>\n",
       "      <td>parti</td>\n",
       "      <td>...</td>\n",
       "      <td>None</td>\n",
       "      <td>None</td>\n",
       "      <td>None</td>\n",
       "      <td>None</td>\n",
       "      <td>None</td>\n",
       "      <td>None</td>\n",
       "      <td>None</td>\n",
       "      <td>None</td>\n",
       "      <td>None</td>\n",
       "      <td>None</td>\n",
       "    </tr>\n",
       "  </tbody>\n",
       "</table>\n",
       "<p>5 rows × 8133 columns</p>\n",
       "</div>"
      ],
      "text/plain": [
       "          0          1       2       3       4       5         6     \\\n",
       "DOC_ID                                                                \n",
       "291     regist        and  domain     for    onli     the       new   \n",
       "755        thi  multipart    mime  messag    sinc    mail    reader   \n",
       "2096        on        fri     jul   niall       o   broin     wrote   \n",
       "432     untitl   document     you  receiv    mail  member  subscrib   \n",
       "479       dear          i    well  confid  capabl  assist  transact   \n",
       "\n",
       "              7        8           9     ...  8123  8124  8125  8126  8127  \\\n",
       "DOC_ID                                   ...                                 \n",
       "291         domain     name       final  ...  None  None  None  None  None   \n",
       "755     understand   format      messag  ...  None  None  None  None  None   \n",
       "2096             i     know    strictli  ...  None  None  None  None  None   \n",
       "432             jm       to  unsubscrib  ...  None  None  None  None  None   \n",
       "479         mutual  benefit       parti  ...  None  None  None  None  None   \n",
       "\n",
       "        8128  8129  8130  8131  8132  \n",
       "DOC_ID                                \n",
       "291     None  None  None  None  None  \n",
       "755     None  None  None  None  None  \n",
       "2096    None  None  None  None  None  \n",
       "432     None  None  None  None  None  \n",
       "479     None  None  None  None  None  \n",
       "\n",
       "[5 rows x 8133 columns]"
      ]
     },
     "execution_count": 115,
     "metadata": {},
     "output_type": "execute_result"
    }
   ],
   "source": [
    "X_test.head()"
   ]
  },
  {
   "cell_type": "code",
   "execution_count": 116,
   "id": "3e682bb3",
   "metadata": {},
   "outputs": [
    {
     "data": {
      "text/plain": [
       "DOC_ID\n",
       "291     1\n",
       "755     1\n",
       "2096    0\n",
       "432     1\n",
       "479     1\n",
       "Name: CATEGORY, dtype: int64"
      ]
     },
     "execution_count": 116,
     "metadata": {},
     "output_type": "execute_result"
    }
   ],
   "source": [
    "y_test.head()"
   ]
  },
  {
   "cell_type": "code",
   "execution_count": 118,
   "id": "6b626c4c",
   "metadata": {},
   "outputs": [
    {
     "data": {
      "text/plain": [
       "(1020, 8133)"
      ]
     },
     "execution_count": 118,
     "metadata": {},
     "output_type": "execute_result"
    }
   ],
   "source": [
    "X_test.shape"
   ]
  },
  {
   "cell_type": "code",
   "execution_count": 119,
   "id": "80f145b1",
   "metadata": {},
   "outputs": [
    {
     "name": "stdout",
     "output_type": "stream",
     "text": [
      "Wall time: 2min 2s\n"
     ]
    }
   ],
   "source": [
    "%%time\n",
    "\n",
    "sparse_test_df = make_sparse_matrix(X_test, word_index, y_test)"
   ]
  },
  {
   "cell_type": "code",
   "execution_count": 120,
   "id": "9316eb87",
   "metadata": {},
   "outputs": [
    {
     "data": {
      "text/html": [
       "<div>\n",
       "<style scoped>\n",
       "    .dataframe tbody tr th:only-of-type {\n",
       "        vertical-align: middle;\n",
       "    }\n",
       "\n",
       "    .dataframe tbody tr th {\n",
       "        vertical-align: top;\n",
       "    }\n",
       "\n",
       "    .dataframe thead th {\n",
       "        text-align: right;\n",
       "    }\n",
       "</style>\n",
       "<table border=\"1\" class=\"dataframe\">\n",
       "  <thead>\n",
       "    <tr style=\"text-align: right;\">\n",
       "      <th></th>\n",
       "      <th>DOC_ID</th>\n",
       "      <th>WORD_ID</th>\n",
       "      <th>LABEL</th>\n",
       "      <th>OCCURENCE</th>\n",
       "    </tr>\n",
       "  </thead>\n",
       "  <tbody>\n",
       "    <tr>\n",
       "      <th>0</th>\n",
       "      <td>0</td>\n",
       "      <td>2</td>\n",
       "      <td>1</td>\n",
       "      <td>2</td>\n",
       "    </tr>\n",
       "    <tr>\n",
       "      <th>1</th>\n",
       "      <td>0</td>\n",
       "      <td>3</td>\n",
       "      <td>1</td>\n",
       "      <td>1</td>\n",
       "    </tr>\n",
       "    <tr>\n",
       "      <th>2</th>\n",
       "      <td>0</td>\n",
       "      <td>5</td>\n",
       "      <td>1</td>\n",
       "      <td>2</td>\n",
       "    </tr>\n",
       "    <tr>\n",
       "      <th>3</th>\n",
       "      <td>0</td>\n",
       "      <td>6</td>\n",
       "      <td>1</td>\n",
       "      <td>2</td>\n",
       "    </tr>\n",
       "    <tr>\n",
       "      <th>4</th>\n",
       "      <td>0</td>\n",
       "      <td>7</td>\n",
       "      <td>1</td>\n",
       "      <td>3</td>\n",
       "    </tr>\n",
       "  </tbody>\n",
       "</table>\n",
       "</div>"
      ],
      "text/plain": [
       "   DOC_ID  WORD_ID  LABEL  OCCURENCE\n",
       "0       0        2      1          2\n",
       "1       0        3      1          1\n",
       "2       0        5      1          2\n",
       "3       0        6      1          2\n",
       "4       0        7      1          3"
      ]
     },
     "execution_count": 120,
     "metadata": {},
     "output_type": "execute_result"
    }
   ],
   "source": [
    "test_grouped = sparse_test_df.groupby(['DOC_ID', 'WORD_ID', 'LABEL']).sum().reset_index()\n",
    "test_grouped.head()                                       "
   ]
  },
  {
   "cell_type": "code",
   "execution_count": 121,
   "id": "137bdbc6",
   "metadata": {},
   "outputs": [
    {
     "data": {
      "text/plain": [
       "(85542, 4)"
      ]
     },
     "execution_count": 121,
     "metadata": {},
     "output_type": "execute_result"
    }
   ],
   "source": [
    "test_grouped.shape"
   ]
  },
  {
   "cell_type": "code",
   "execution_count": 123,
   "id": "bdd418a0",
   "metadata": {},
   "outputs": [],
   "source": [
    "np.savetxt(TEST_DATA_FILE, test_grouped, fmt = '%d')"
   ]
  },
  {
   "cell_type": "code",
   "execution_count": null,
   "id": "f460b7a1",
   "metadata": {},
   "outputs": [],
   "source": []
  }
 ],
 "metadata": {
  "kernelspec": {
   "display_name": "Python 3 (ipykernel)",
   "language": "python",
   "name": "python3"
  },
  "language_info": {
   "codemirror_mode": {
    "name": "ipython",
    "version": 3
   },
   "file_extension": ".py",
   "mimetype": "text/x-python",
   "name": "python",
   "nbconvert_exporter": "python",
   "pygments_lexer": "ipython3",
   "version": "3.9.7"
  }
 },
 "nbformat": 4,
 "nbformat_minor": 5
}
