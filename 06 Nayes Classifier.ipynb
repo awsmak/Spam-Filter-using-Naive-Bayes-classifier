{
 "cells": [
  {
   "cell_type": "code",
   "execution_count": 3,
   "id": "34f0f144",
   "metadata": {},
   "outputs": [
    {
     "name": "stdout",
     "output_type": "stream",
     "text": [
      "what's up\n"
     ]
    }
   ],
   "source": [
    "print('what\\'s up')\n"
   ]
  },
  {
   "cell_type": "markdown",
   "id": "d3b78018",
   "metadata": {},
   "source": [
    "# Notebook Import"
   ]
  },
  {
   "cell_type": "code",
   "execution_count": 66,
   "id": "7ed66a62",
   "metadata": {},
   "outputs": [],
   "source": [
    "from os import walk\n",
    "from os.path import join\n",
    "\n",
    "import pandas as pd\n",
    "import matplotlib.pyplot as plt\n",
    "\n",
    "import nltk\n",
    "from nltk.stem import PorterStemmer\n",
    "from nltk.corpus import stopwords\n",
    "from nltk.tokenize import word_tokenize\n",
    "\n",
    "%matplotlib inline"
   ]
  },
  {
   "cell_type": "markdown",
   "id": "97542c87",
   "metadata": {},
   "source": [
    "# Constants"
   ]
  },
  {
   "cell_type": "code",
   "execution_count": 5,
   "id": "e02fd95a",
   "metadata": {},
   "outputs": [],
   "source": [
    "EXAMPLE_FILE = 'SpamData/01_Processing/practice_email.txt'\n",
    "\n",
    "\n",
    "SPAM_1_PATH = 'SpamData/01_Processing/spam_assassin_corpus/spam_1'\n",
    "SPAM_2_PATH = 'SpamData/01_Processing/spam_assassin_corpus/spam_1'\n",
    "EASY_NOSPAM_1_PATH = 'SpamData/01_Processing/spam_assassin_corpus/easy_ham_1'\n",
    "EASY_NOSPAM_2_PATH = 'SpamData/01_Processing/spam_assassin_corpus/easy_ham_2'\n",
    "\n",
    "SPAM_CAT = 1\n",
    "HAM_CAT = 0\n",
    "\n",
    "DATA_JSON_FILE = 'SpamData/01_Processing/email_text_data.json'"
   ]
  },
  {
   "cell_type": "markdown",
   "id": "b1355db5",
   "metadata": {},
   "source": [
    "# Reading Files"
   ]
  },
  {
   "cell_type": "code",
   "execution_count": 6,
   "id": "ae576636",
   "metadata": {},
   "outputs": [
    {
     "name": "stdout",
     "output_type": "stream",
     "text": [
      "From exmh-workers-admin@redhat.com  Thu Aug 22 12:36:23 2002\n",
      "Return-Path: <exmh-workers-admin@spamassassin.taint.org>\n",
      "Delivered-To: zzzz@localhost.netnoteinc.com\n",
      "Received: from localhost (localhost [127.0.0.1])\n",
      "\tby phobos.labs.netnoteinc.com (Postfix) with ESMTP id D03E543C36\n",
      "\tfor <zzzz@localhost>; Thu, 22 Aug 2002 07:36:16 -0400 (EDT)\n",
      "Received: from phobos [127.0.0.1]\n",
      "\tby localhost with IMAP (fetchmail-5.9.0)\n",
      "\tfor zzzz@localhost (single-drop); Thu, 22 Aug 2002 12:36:16 +0100 (IST)\n",
      "Received: from listman.spamassassin.taint.org (listman.spamassassin.taint.org [66.187.233.211]) by\n",
      "    dogma.slashnull.org (8.11.6/8.11.6) with ESMTP id g7MBYrZ04811 for\n",
      "    <zzzz-exmh@spamassassin.taint.org>; Thu, 22 Aug 2002 12:34:53 +0100\n",
      "Received: from listman.spamassassin.taint.org (localhost.localdomain [127.0.0.1]) by\n",
      "    listman.redhat.com (Postfix) with ESMTP id 8386540858; Thu, 22 Aug 2002\n",
      "    07:35:02 -0400 (EDT)\n",
      "Delivered-To: exmh-workers@listman.spamassassin.taint.org\n",
      "Received: from int-mx1.corp.spamassassin.taint.org (int-mx1.corp.spamassassin.taint.org\n",
      "    [172.16.52.254]) by listman.redhat.com (Postfix) with ESMTP id 10CF8406D7\n",
      "    for <exmh-workers@listman.redhat.com>; Thu, 22 Aug 2002 07:34:10 -0400\n",
      "    (EDT)\n",
      "Received: (from mail@localhost) by int-mx1.corp.spamassassin.taint.org (8.11.6/8.11.6)\n",
      "    id g7MBY7g11259 for exmh-workers@listman.redhat.com; Thu, 22 Aug 2002\n",
      "    07:34:07 -0400\n",
      "Received: from mx1.spamassassin.taint.org (mx1.spamassassin.taint.org [172.16.48.31]) by\n",
      "    int-mx1.corp.redhat.com (8.11.6/8.11.6) with SMTP id g7MBY7Y11255 for\n",
      "    <exmh-workers@redhat.com>; Thu, 22 Aug 2002 07:34:07 -0400\n",
      "Received: from ratree.psu.ac.th ([202.28.97.6]) by mx1.spamassassin.taint.org\n",
      "    (8.11.6/8.11.6) with SMTP id g7MBIhl25223 for <exmh-workers@redhat.com>;\n",
      "    Thu, 22 Aug 2002 07:18:55 -0400\n",
      "Received: from delta.cs.mu.OZ.AU (delta.coe.psu.ac.th [172.30.0.98]) by\n",
      "    ratree.psu.ac.th (8.11.6/8.11.6) with ESMTP id g7MBWel29762;\n",
      "    Thu, 22 Aug 2002 18:32:40 +0700 (ICT)\n",
      "Received: from munnari.OZ.AU (localhost [127.0.0.1]) by delta.cs.mu.OZ.AU\n",
      "    (8.11.6/8.11.6) with ESMTP id g7MBQPW13260; Thu, 22 Aug 2002 18:26:25\n",
      "    +0700 (ICT)\n",
      "From: Robert Elz <kre@munnari.OZ.AU>\n",
      "To: Chris Garrigues <cwg-dated-1030377287.06fa6d@DeepEddy.Com>\n",
      "Cc: exmh-workers@spamassassin.taint.org\n",
      "Subject: Re: New Sequences Window\n",
      "In-Reply-To: <1029945287.4797.TMDA@deepeddy.vircio.com>\n",
      "References: <1029945287.4797.TMDA@deepeddy.vircio.com>\n",
      "    <1029882468.3116.TMDA@deepeddy.vircio.com> <9627.1029933001@munnari.OZ.AU>\n",
      "    <1029943066.26919.TMDA@deepeddy.vircio.com>\n",
      "    <1029944441.398.TMDA@deepeddy.vircio.com>\n",
      "MIME-Version: 1.0\n",
      "Content-Type: text/plain; charset=us-ascii\n",
      "Message-Id: <13258.1030015585@munnari.OZ.AU>\n",
      "X-Loop: exmh-workers@spamassassin.taint.org\n",
      "Sender: exmh-workers-admin@spamassassin.taint.org\n",
      "Errors-To: exmh-workers-admin@spamassassin.taint.org\n",
      "X-Beenthere: exmh-workers@spamassassin.taint.org\n",
      "X-Mailman-Version: 2.0.1\n",
      "Precedence: bulk\n",
      "List-Help: <mailto:exmh-workers-request@spamassassin.taint.org?subject=help>\n",
      "List-Post: <mailto:exmh-workers@spamassassin.taint.org>\n",
      "List-Subscribe: <https://listman.spamassassin.taint.org/mailman/listinfo/exmh-workers>,\n",
      "    <mailto:exmh-workers-request@redhat.com?subject=subscribe>\n",
      "List-Id: Discussion list for EXMH developers <exmh-workers.spamassassin.taint.org>\n",
      "List-Unsubscribe: <https://listman.spamassassin.taint.org/mailman/listinfo/exmh-workers>,\n",
      "    <mailto:exmh-workers-request@redhat.com?subject=unsubscribe>\n",
      "List-Archive: <https://listman.spamassassin.taint.org/mailman/private/exmh-workers/>\n",
      "Date: Thu, 22 Aug 2002 18:26:25 +0700\n",
      "\n",
      "\n",
      "Dear Mr Still\n",
      "\n",
      "Good tidings to you and all your staff for the festive season ahead (Christmas).\n",
      "Now to the crux of the matter-in-hand: I am a fully qualified Santa Claus and am wondering whether you might consider me to run my own \"Santa's Grotto\" in your store.\n",
      "But WAIT! You're probably thinking: \"What makes him so special?\"\n",
      "Well, first of all, I have made several changes to the characterisation of Father Christmas. Rather than greeting the children with shouts of \"Ho, ho, ho!\" I prefer to whisper the phrase \"Dependence is not unfathomable in this cruel world we live in\". In addition, my gifts are ALL hand-made, ranging from felt hoops to vanilla-pod holders.\n",
      "You will note also, from the enclosed sketch, that I have radically redesigned Santa's outfit and have renamed my character \"Lord Buckles\". Would you be interested in employing me? I promise NEVER to let you down.\n",
      "I look forward to hearing from you.\n",
      "\n",
      "Best wishes\n",
      "Robin Cooper\n",
      "[Excerpt from the book: The Timewaster Letters by Robin Cooper]\n",
      "\n"
     ]
    }
   ],
   "source": [
    "stream = open(EXAMPLE_FILE, encoding= 'latin_1')\n",
    "message = stream.read()\n",
    "stream.close()\n",
    "print(message)"
   ]
  },
  {
   "cell_type": "code",
   "execution_count": 7,
   "id": "0ec80a6d",
   "metadata": {},
   "outputs": [
    {
     "data": {
      "text/plain": [
       "'utf-8'"
      ]
     },
     "execution_count": 7,
     "metadata": {},
     "output_type": "execute_result"
    }
   ],
   "source": [
    "import sys\n",
    "sys.getfilesystemencoding()"
   ]
  },
  {
   "cell_type": "code",
   "execution_count": null,
   "id": "6afb3f3f",
   "metadata": {},
   "outputs": [],
   "source": []
  },
  {
   "cell_type": "code",
   "execution_count": 8,
   "id": "dfe9bcd8",
   "metadata": {},
   "outputs": [
    {
     "name": "stdout",
     "output_type": "stream",
     "text": [
      "\n",
      "\n",
      "Dear Mr Still\n",
      "\n",
      "\n",
      "\n",
      "Good tidings to you and all your staff for the festive season ahead (Christmas).\n",
      "\n",
      "Now to the crux of the matter-in-hand: I am a fully qualified Santa Claus and am wondering whether you might consider me to run my own \"Santa's Grotto\" in your store.\n",
      "\n",
      "But WAIT! You're probably thinking: \"What makes him so special?\"\n",
      "\n",
      "Well, first of all, I have made several changes to the characterisation of Father Christmas. Rather than greeting the children with shouts of \"Ho, ho, ho!\" I prefer to whisper the phrase \"Dependence is not unfathomable in this cruel world we live in\". In addition, my gifts are ALL hand-made, ranging from felt hoops to vanilla-pod holders.\n",
      "\n",
      "You will note also, from the enclosed sketch, that I have radically redesigned Santa's outfit and have renamed my character \"Lord Buckles\". Would you be interested in employing me? I promise NEVER to let you down.\n",
      "\n",
      "I look forward to hearing from you.\n",
      "\n",
      "\n",
      "\n",
      "Best wishes\n",
      "\n",
      "Robin Cooper\n",
      "\n",
      "[Excerpt from the book: The Timewaster Letters by Robin Cooper]\n",
      "\n"
     ]
    }
   ],
   "source": [
    "stream = open(EXAMPLE_FILE, encoding= 'latin_1')\n",
    "is_body = False\n",
    "lines = []\n",
    "\n",
    "for line in stream:\n",
    "    if is_body:\n",
    "        lines.append(line)\n",
    "    elif line =='\\n':\n",
    "        is_body = True\n",
    "stream.close()\n",
    "\n",
    "email_body = '\\n'.join(lines)\n",
    "print(email_body)"
   ]
  },
  {
   "cell_type": "markdown",
   "id": "033a1b96",
   "metadata": {},
   "source": [
    "# Generator Functions\n",
    "\n",
    " 1. A generator-function: is defined like a normal function, but whenever it needs to generate a value, it does so with the    yield keyword rather than return. If the body of a def contains yield, the function automatically becomes a generator function.\n",
    "\n",
    " 2. Generator-Object : Generator functions return a generator object. Generator objects are used either by calling the next method on the generator object or using the generator object in a “for in” loop.\n",
    " \n",
    " 3. Applications : Suppose we to create a stream of Fibonacci numbers, adopting the generator approach makes it trivial; we just have to call next(x) to get the next Fibonacci number without bothering about where or when the stream of numbers ends.\n",
    "A more practical type of stream processing is handling large data files such as log files. Generators provide a space efficient method for such data processing as only parts of the file are handled at one given point in time. We can also use Iterators for these purposes, but Generator provides a quick way (We don’t need to write __next__ and __iter__ methods here).\n",
    " \n",
    " \n",
    " \n",
    " \n",
    " \n",
    " "
   ]
  },
  {
   "cell_type": "code",
   "execution_count": 9,
   "id": "9cc36698",
   "metadata": {},
   "outputs": [],
   "source": [
    "def generate_squares(N):\n",
    "    for my_number in range(N):\n",
    "        yield my_number ** 2"
   ]
  },
  {
   "cell_type": "code",
   "execution_count": 10,
   "id": "9f615c6e",
   "metadata": {},
   "outputs": [
    {
     "name": "stdout",
     "output_type": "stream",
     "text": [
      "0->1->4->9->16->"
     ]
    }
   ],
   "source": [
    "for i in generate_squares(5):\n",
    "    print(i, end='->')"
   ]
  },
  {
   "cell_type": "markdown",
   "id": "2b727ad5",
   "metadata": {},
   "source": [
    "# Email body extraction"
   ]
  },
  {
   "cell_type": "code",
   "execution_count": 11,
   "id": "7a390378",
   "metadata": {},
   "outputs": [],
   "source": [
    "def email_body_generator(path):\n",
    "    for root,dirnames, filenames in walk(path): #(os library)walk generates the dir, by walking the tree from top to bottom and yields a tuple (di_path,dirnames,filenames)\n",
    "        for file_name in filenames:\n",
    "            \n",
    "            filepath = join(root, file_name)\n",
    "            \n",
    "            stream = open(filepath, encoding= 'latin_1')\n",
    "            is_body = False\n",
    "            lines = []\n",
    "\n",
    "            for line in stream:\n",
    "                if is_body:\n",
    "                    lines.append(line)\n",
    "                elif line =='\\n':\n",
    "                    is_body = True\n",
    "            stream.close()\n",
    "\n",
    "            email_body = '\\n'.join(lines)\n",
    "            \n",
    "            yield file_name, email_body   # yield gives output everytime when loop is completed\n",
    "\n",
    "            "
   ]
  },
  {
   "cell_type": "code",
   "execution_count": 12,
   "id": "f927420b",
   "metadata": {},
   "outputs": [],
   "source": [
    "def df_from_directory(path, classification):\n",
    "    rows=[]\n",
    "    row_names =[]\n",
    "    \n",
    "    for file_name, email_body in email_body_generator(path):\n",
    "        rows.append({'CATEGORY': classification, 'MESSAGES': email_body })\n",
    "        row_names.append(file_name)\n",
    "        \n",
    "    return pd.DataFrame(rows, index = row_names)\n",
    "\n",
    "    "
   ]
  },
  {
   "cell_type": "code",
   "execution_count": 13,
   "id": "c9640dcb",
   "metadata": {},
   "outputs": [
    {
     "data": {
      "text/html": [
       "<div>\n",
       "<style scoped>\n",
       "    .dataframe tbody tr th:only-of-type {\n",
       "        vertical-align: middle;\n",
       "    }\n",
       "\n",
       "    .dataframe tbody tr th {\n",
       "        vertical-align: top;\n",
       "    }\n",
       "\n",
       "    .dataframe thead th {\n",
       "        text-align: right;\n",
       "    }\n",
       "</style>\n",
       "<table border=\"1\" class=\"dataframe\">\n",
       "  <thead>\n",
       "    <tr style=\"text-align: right;\">\n",
       "      <th></th>\n",
       "      <th>CATEGORY</th>\n",
       "      <th>MESSAGES</th>\n",
       "    </tr>\n",
       "  </thead>\n",
       "  <tbody>\n",
       "    <tr>\n",
       "      <th>00001.7848dde101aa985090474a91ec93fcf0</th>\n",
       "      <td>1</td>\n",
       "      <td>&lt;!DOCTYPE HTML PUBLIC \"-//W3C//DTD HTML 4.0 Tr...</td>\n",
       "    </tr>\n",
       "    <tr>\n",
       "      <th>00002.d94f1b97e48ed3b553b3508d116e6a09</th>\n",
       "      <td>1</td>\n",
       "      <td>1) Fight The Risk of Cancer!\\n\\nhttp://www.adc...</td>\n",
       "    </tr>\n",
       "    <tr>\n",
       "      <th>00003.2ee33bc6eacdb11f38d052c44819ba6c</th>\n",
       "      <td>1</td>\n",
       "      <td>1) Fight The Risk of Cancer!\\n\\nhttp://www.adc...</td>\n",
       "    </tr>\n",
       "    <tr>\n",
       "      <th>00004.eac8de8d759b7e74154f142194282724</th>\n",
       "      <td>1</td>\n",
       "      <td>##############################################...</td>\n",
       "    </tr>\n",
       "    <tr>\n",
       "      <th>00005.57696a39d7d84318ce497886896bf90d</th>\n",
       "      <td>1</td>\n",
       "      <td>I thought you might like these:\\n\\n1) Slim Dow...</td>\n",
       "    </tr>\n",
       "  </tbody>\n",
       "</table>\n",
       "</div>"
      ],
      "text/plain": [
       "                                        CATEGORY  \\\n",
       "00001.7848dde101aa985090474a91ec93fcf0         1   \n",
       "00002.d94f1b97e48ed3b553b3508d116e6a09         1   \n",
       "00003.2ee33bc6eacdb11f38d052c44819ba6c         1   \n",
       "00004.eac8de8d759b7e74154f142194282724         1   \n",
       "00005.57696a39d7d84318ce497886896bf90d         1   \n",
       "\n",
       "                                                                                 MESSAGES  \n",
       "00001.7848dde101aa985090474a91ec93fcf0  <!DOCTYPE HTML PUBLIC \"-//W3C//DTD HTML 4.0 Tr...  \n",
       "00002.d94f1b97e48ed3b553b3508d116e6a09  1) Fight The Risk of Cancer!\\n\\nhttp://www.adc...  \n",
       "00003.2ee33bc6eacdb11f38d052c44819ba6c  1) Fight The Risk of Cancer!\\n\\nhttp://www.adc...  \n",
       "00004.eac8de8d759b7e74154f142194282724  ##############################################...  \n",
       "00005.57696a39d7d84318ce497886896bf90d  I thought you might like these:\\n\\n1) Slim Dow...  "
      ]
     },
     "execution_count": 13,
     "metadata": {},
     "output_type": "execute_result"
    }
   ],
   "source": [
    "spam_emails = df_from_directory(SPAM_1_PATH, 1)\n",
    "spam_emails = spam_emails.append(df_from_directory(SPAM_2_PATH, 1))\n",
    "spam_emails.head()"
   ]
  },
  {
   "cell_type": "code",
   "execution_count": 14,
   "id": "9e4eae6a",
   "metadata": {},
   "outputs": [
    {
     "data": {
      "text/plain": [
       "(1002, 2)"
      ]
     },
     "execution_count": 14,
     "metadata": {},
     "output_type": "execute_result"
    }
   ],
   "source": [
    "spam_emails.shape"
   ]
  },
  {
   "cell_type": "code",
   "execution_count": null,
   "id": "08dd498d",
   "metadata": {},
   "outputs": [],
   "source": []
  },
  {
   "cell_type": "code",
   "execution_count": 15,
   "id": "653e4dac",
   "metadata": {},
   "outputs": [
    {
     "data": {
      "text/html": [
       "<div>\n",
       "<style scoped>\n",
       "    .dataframe tbody tr th:only-of-type {\n",
       "        vertical-align: middle;\n",
       "    }\n",
       "\n",
       "    .dataframe tbody tr th {\n",
       "        vertical-align: top;\n",
       "    }\n",
       "\n",
       "    .dataframe thead th {\n",
       "        text-align: right;\n",
       "    }\n",
       "</style>\n",
       "<table border=\"1\" class=\"dataframe\">\n",
       "  <thead>\n",
       "    <tr style=\"text-align: right;\">\n",
       "      <th></th>\n",
       "      <th>CATEGORY</th>\n",
       "      <th>MESSAGES</th>\n",
       "    </tr>\n",
       "  </thead>\n",
       "  <tbody>\n",
       "    <tr>\n",
       "      <th>00001.7848dde101aa985090474a91ec93fcf0</th>\n",
       "      <td>1</td>\n",
       "      <td>&lt;!DOCTYPE HTML PUBLIC \"-//W3C//DTD HTML 4.0 Tr...</td>\n",
       "    </tr>\n",
       "    <tr>\n",
       "      <th>00002.d94f1b97e48ed3b553b3508d116e6a09</th>\n",
       "      <td>1</td>\n",
       "      <td>1) Fight The Risk of Cancer!\\n\\nhttp://www.adc...</td>\n",
       "    </tr>\n",
       "    <tr>\n",
       "      <th>00003.2ee33bc6eacdb11f38d052c44819ba6c</th>\n",
       "      <td>1</td>\n",
       "      <td>1) Fight The Risk of Cancer!\\n\\nhttp://www.adc...</td>\n",
       "    </tr>\n",
       "    <tr>\n",
       "      <th>00004.eac8de8d759b7e74154f142194282724</th>\n",
       "      <td>1</td>\n",
       "      <td>##############################################...</td>\n",
       "    </tr>\n",
       "    <tr>\n",
       "      <th>00005.57696a39d7d84318ce497886896bf90d</th>\n",
       "      <td>1</td>\n",
       "      <td>I thought you might like these:\\n\\n1) Slim Dow...</td>\n",
       "    </tr>\n",
       "  </tbody>\n",
       "</table>\n",
       "</div>"
      ],
      "text/plain": [
       "                                        CATEGORY  \\\n",
       "00001.7848dde101aa985090474a91ec93fcf0         1   \n",
       "00002.d94f1b97e48ed3b553b3508d116e6a09         1   \n",
       "00003.2ee33bc6eacdb11f38d052c44819ba6c         1   \n",
       "00004.eac8de8d759b7e74154f142194282724         1   \n",
       "00005.57696a39d7d84318ce497886896bf90d         1   \n",
       "\n",
       "                                                                                 MESSAGES  \n",
       "00001.7848dde101aa985090474a91ec93fcf0  <!DOCTYPE HTML PUBLIC \"-//W3C//DTD HTML 4.0 Tr...  \n",
       "00002.d94f1b97e48ed3b553b3508d116e6a09  1) Fight The Risk of Cancer!\\n\\nhttp://www.adc...  \n",
       "00003.2ee33bc6eacdb11f38d052c44819ba6c  1) Fight The Risk of Cancer!\\n\\nhttp://www.adc...  \n",
       "00004.eac8de8d759b7e74154f142194282724  ##############################################...  \n",
       "00005.57696a39d7d84318ce497886896bf90d  I thought you might like these:\\n\\n1) Slim Dow...  "
      ]
     },
     "execution_count": 15,
     "metadata": {},
     "output_type": "execute_result"
    }
   ],
   "source": [
    "ham_emails = df_from_directory(EASY_NOSPAM_1_PATH, HAM_CAT)\n",
    "ham_emails = spam_emails.append(df_from_directory(EASY_NOSPAM_2_PATH, HAM_CAT))\n",
    "ham_emails.head()\n"
   ]
  },
  {
   "cell_type": "code",
   "execution_count": 16,
   "id": "4bd870c8",
   "metadata": {},
   "outputs": [
    {
     "data": {
      "text/plain": [
       "(2402, 2)"
      ]
     },
     "execution_count": 16,
     "metadata": {},
     "output_type": "execute_result"
    }
   ],
   "source": [
    "ham_emails.shape"
   ]
  },
  {
   "cell_type": "code",
   "execution_count": 17,
   "id": "6ff71a52",
   "metadata": {},
   "outputs": [
    {
     "name": "stdout",
     "output_type": "stream",
     "text": [
      "shape of entire dataframe is (3404, 2)\n"
     ]
    },
    {
     "data": {
      "text/html": [
       "<div>\n",
       "<style scoped>\n",
       "    .dataframe tbody tr th:only-of-type {\n",
       "        vertical-align: middle;\n",
       "    }\n",
       "\n",
       "    .dataframe tbody tr th {\n",
       "        vertical-align: top;\n",
       "    }\n",
       "\n",
       "    .dataframe thead th {\n",
       "        text-align: right;\n",
       "    }\n",
       "</style>\n",
       "<table border=\"1\" class=\"dataframe\">\n",
       "  <thead>\n",
       "    <tr style=\"text-align: right;\">\n",
       "      <th></th>\n",
       "      <th>CATEGORY</th>\n",
       "      <th>MESSAGES</th>\n",
       "    </tr>\n",
       "  </thead>\n",
       "  <tbody>\n",
       "    <tr>\n",
       "      <th>00001.7848dde101aa985090474a91ec93fcf0</th>\n",
       "      <td>1</td>\n",
       "      <td>&lt;!DOCTYPE HTML PUBLIC \"-//W3C//DTD HTML 4.0 Tr...</td>\n",
       "    </tr>\n",
       "    <tr>\n",
       "      <th>00002.d94f1b97e48ed3b553b3508d116e6a09</th>\n",
       "      <td>1</td>\n",
       "      <td>1) Fight The Risk of Cancer!\\n\\nhttp://www.adc...</td>\n",
       "    </tr>\n",
       "    <tr>\n",
       "      <th>00003.2ee33bc6eacdb11f38d052c44819ba6c</th>\n",
       "      <td>1</td>\n",
       "      <td>1) Fight The Risk of Cancer!\\n\\nhttp://www.adc...</td>\n",
       "    </tr>\n",
       "    <tr>\n",
       "      <th>00004.eac8de8d759b7e74154f142194282724</th>\n",
       "      <td>1</td>\n",
       "      <td>##############################################...</td>\n",
       "    </tr>\n",
       "    <tr>\n",
       "      <th>00005.57696a39d7d84318ce497886896bf90d</th>\n",
       "      <td>1</td>\n",
       "      <td>I thought you might like these:\\n\\n1) Slim Dow...</td>\n",
       "    </tr>\n",
       "  </tbody>\n",
       "</table>\n",
       "</div>"
      ],
      "text/plain": [
       "                                        CATEGORY  \\\n",
       "00001.7848dde101aa985090474a91ec93fcf0         1   \n",
       "00002.d94f1b97e48ed3b553b3508d116e6a09         1   \n",
       "00003.2ee33bc6eacdb11f38d052c44819ba6c         1   \n",
       "00004.eac8de8d759b7e74154f142194282724         1   \n",
       "00005.57696a39d7d84318ce497886896bf90d         1   \n",
       "\n",
       "                                                                                 MESSAGES  \n",
       "00001.7848dde101aa985090474a91ec93fcf0  <!DOCTYPE HTML PUBLIC \"-//W3C//DTD HTML 4.0 Tr...  \n",
       "00002.d94f1b97e48ed3b553b3508d116e6a09  1) Fight The Risk of Cancer!\\n\\nhttp://www.adc...  \n",
       "00003.2ee33bc6eacdb11f38d052c44819ba6c  1) Fight The Risk of Cancer!\\n\\nhttp://www.adc...  \n",
       "00004.eac8de8d759b7e74154f142194282724  ##############################################...  \n",
       "00005.57696a39d7d84318ce497886896bf90d  I thought you might like these:\\n\\n1) Slim Dow...  "
      ]
     },
     "execution_count": 17,
     "metadata": {},
     "output_type": "execute_result"
    }
   ],
   "source": [
    "data =pd.concat([spam_emails, ham_emails], join = 'outer')\n",
    "print('shape of entire dataframe is', data.shape)\n",
    "data.head()"
   ]
  },
  {
   "cell_type": "code",
   "execution_count": 18,
   "id": "0db3195f",
   "metadata": {},
   "outputs": [
    {
     "data": {
      "text/html": [
       "<div>\n",
       "<style scoped>\n",
       "    .dataframe tbody tr th:only-of-type {\n",
       "        vertical-align: middle;\n",
       "    }\n",
       "\n",
       "    .dataframe tbody tr th {\n",
       "        vertical-align: top;\n",
       "    }\n",
       "\n",
       "    .dataframe thead th {\n",
       "        text-align: right;\n",
       "    }\n",
       "</style>\n",
       "<table border=\"1\" class=\"dataframe\">\n",
       "  <thead>\n",
       "    <tr style=\"text-align: right;\">\n",
       "      <th></th>\n",
       "      <th>CATEGORY</th>\n",
       "      <th>MESSAGES</th>\n",
       "    </tr>\n",
       "  </thead>\n",
       "  <tbody>\n",
       "    <tr>\n",
       "      <th>01396.61983fbe6ec43f55fd44e30fce24ffa6</th>\n",
       "      <td>0</td>\n",
       "      <td>http://news.bbc.co.uk/1/hi/england/2515127.stm...</td>\n",
       "    </tr>\n",
       "    <tr>\n",
       "      <th>01397.9f9ef4c2a8dc012d80f2ce2d3473d3b7</th>\n",
       "      <td>0</td>\n",
       "      <td>&gt; &gt;-- be careful when using this one.) Also, t...</td>\n",
       "    </tr>\n",
       "    <tr>\n",
       "      <th>01398.169b51731fe569f42169ae8f948ec676</th>\n",
       "      <td>0</td>\n",
       "      <td>&gt;&gt;&gt;&gt;&gt; \"SM\" == Skip Montanaro &lt;skip@pobox.com&gt; ...</td>\n",
       "    </tr>\n",
       "    <tr>\n",
       "      <th>01399.ca6b00b7b341bbde9a9ea3dd6a7bf896</th>\n",
       "      <td>0</td>\n",
       "      <td>So then, \"Mark Hammond\" &lt;mhammond@skippinet.co...</td>\n",
       "    </tr>\n",
       "    <tr>\n",
       "      <th>01400.f897f0931e461e7b2e964d28e927c35e</th>\n",
       "      <td>0</td>\n",
       "      <td>Hi there,\\n\\n\\n\\nNow this is probably of no us...</td>\n",
       "    </tr>\n",
       "  </tbody>\n",
       "</table>\n",
       "</div>"
      ],
      "text/plain": [
       "                                        CATEGORY  \\\n",
       "01396.61983fbe6ec43f55fd44e30fce24ffa6         0   \n",
       "01397.9f9ef4c2a8dc012d80f2ce2d3473d3b7         0   \n",
       "01398.169b51731fe569f42169ae8f948ec676         0   \n",
       "01399.ca6b00b7b341bbde9a9ea3dd6a7bf896         0   \n",
       "01400.f897f0931e461e7b2e964d28e927c35e         0   \n",
       "\n",
       "                                                                                 MESSAGES  \n",
       "01396.61983fbe6ec43f55fd44e30fce24ffa6  http://news.bbc.co.uk/1/hi/england/2515127.stm...  \n",
       "01397.9f9ef4c2a8dc012d80f2ce2d3473d3b7  > >-- be careful when using this one.) Also, t...  \n",
       "01398.169b51731fe569f42169ae8f948ec676  >>>>> \"SM\" == Skip Montanaro <skip@pobox.com> ...  \n",
       "01399.ca6b00b7b341bbde9a9ea3dd6a7bf896  So then, \"Mark Hammond\" <mhammond@skippinet.co...  \n",
       "01400.f897f0931e461e7b2e964d28e927c35e  Hi there,\\n\\n\\n\\nNow this is probably of no us...  "
      ]
     },
     "execution_count": 18,
     "metadata": {},
     "output_type": "execute_result"
    }
   ],
   "source": [
    "data.tail()"
   ]
  },
  {
   "cell_type": "markdown",
   "id": "46f0aef4",
   "metadata": {},
   "source": [
    "# Data Cleaning : Checking for missing values"
   ]
  },
  {
   "cell_type": "code",
   "execution_count": 19,
   "id": "ea9ada17",
   "metadata": {},
   "outputs": [
    {
     "data": {
      "text/plain": [
       "0"
      ]
     },
     "execution_count": 19,
     "metadata": {},
     "output_type": "execute_result"
    }
   ],
   "source": [
    "#check if any message body are equal to null\n",
    "data['MESSAGES'].isnull().values.any().sum()"
   ]
  },
  {
   "cell_type": "code",
   "execution_count": 20,
   "id": "f9d7d667",
   "metadata": {},
   "outputs": [
    {
     "data": {
      "text/plain": [
       "True"
      ]
     },
     "execution_count": 20,
     "metadata": {},
     "output_type": "execute_result"
    }
   ],
   "source": [
    "#check if there are empty emails ( String length is zero)\n",
    "any(data.MESSAGES.str.len() == 0)"
   ]
  },
  {
   "cell_type": "code",
   "execution_count": 21,
   "id": "00309100",
   "metadata": {},
   "outputs": [
    {
     "data": {
      "text/plain": [
       "4"
      ]
     },
     "execution_count": 21,
     "metadata": {},
     "output_type": "execute_result"
    }
   ],
   "source": [
    "(data.MESSAGES.str.len() == 0).sum()  #sums up any true values in the X entries"
   ]
  },
  {
   "cell_type": "markdown",
   "id": "8f35be79",
   "metadata": {},
   "source": [
    "# Locate empty emails"
   ]
  },
  {
   "cell_type": "code",
   "execution_count": 22,
   "id": "747d5c8f",
   "metadata": {},
   "outputs": [
    {
     "data": {
      "text/plain": [
       "Index(['cmds', 'cmds', 'cmds', 'cmds'], dtype='object')"
      ]
     },
     "execution_count": 22,
     "metadata": {},
     "output_type": "execute_result"
    }
   ],
   "source": [
    "data[data.MESSAGES.str.len() == 0].index"
   ]
  },
  {
   "cell_type": "code",
   "execution_count": 23,
   "id": "7da40ab5",
   "metadata": {},
   "outputs": [
    {
     "data": {
      "text/plain": [
       "array([False, False, False, ..., False, False, False])"
      ]
     },
     "execution_count": 23,
     "metadata": {},
     "output_type": "execute_result"
    }
   ],
   "source": [
    "data.index.get_loc('cmds')"
   ]
  },
  {
   "cell_type": "markdown",
   "id": "3309f919",
   "metadata": {},
   "source": [
    "# Remove system file entries"
   ]
  },
  {
   "cell_type": "code",
   "execution_count": 24,
   "id": "4d71822b",
   "metadata": {},
   "outputs": [],
   "source": [
    "data.drop(['cmds'], inplace = True)"
   ]
  },
  {
   "cell_type": "code",
   "execution_count": 25,
   "id": "fa0d7613",
   "metadata": {},
   "outputs": [
    {
     "data": {
      "text/plain": [
       "(3400, 2)"
      ]
     },
     "execution_count": 25,
     "metadata": {},
     "output_type": "execute_result"
    }
   ],
   "source": [
    "data.shape"
   ]
  },
  {
   "cell_type": "markdown",
   "id": "9aa03276",
   "metadata": {},
   "source": [
    "# Add document IDs to track emails in dataset"
   ]
  },
  {
   "cell_type": "code",
   "execution_count": 26,
   "id": "fe6f48ae",
   "metadata": {},
   "outputs": [],
   "source": [
    "document_ids = range(0, len(data.index))\n",
    "data['DOC_ID'] = document_ids"
   ]
  },
  {
   "cell_type": "code",
   "execution_count": 27,
   "id": "900cd318",
   "metadata": {},
   "outputs": [
    {
     "data": {
      "text/plain": [
       "00001.7848dde101aa985090474a91ec93fcf0       0\n",
       "00002.d94f1b97e48ed3b553b3508d116e6a09       1\n",
       "00003.2ee33bc6eacdb11f38d052c44819ba6c       2\n",
       "00004.eac8de8d759b7e74154f142194282724       3\n",
       "00005.57696a39d7d84318ce497886896bf90d       4\n",
       "                                          ... \n",
       "01396.61983fbe6ec43f55fd44e30fce24ffa6    3395\n",
       "01397.9f9ef4c2a8dc012d80f2ce2d3473d3b7    3396\n",
       "01398.169b51731fe569f42169ae8f948ec676    3397\n",
       "01399.ca6b00b7b341bbde9a9ea3dd6a7bf896    3398\n",
       "01400.f897f0931e461e7b2e964d28e927c35e    3399\n",
       "Name: DOC_ID, Length: 3400, dtype: int64"
      ]
     },
     "execution_count": 27,
     "metadata": {},
     "output_type": "execute_result"
    }
   ],
   "source": [
    "data.DOC_ID"
   ]
  },
  {
   "cell_type": "code",
   "execution_count": 28,
   "id": "8e4a1898",
   "metadata": {},
   "outputs": [
    {
     "data": {
      "text/html": [
       "<div>\n",
       "<style scoped>\n",
       "    .dataframe tbody tr th:only-of-type {\n",
       "        vertical-align: middle;\n",
       "    }\n",
       "\n",
       "    .dataframe tbody tr th {\n",
       "        vertical-align: top;\n",
       "    }\n",
       "\n",
       "    .dataframe thead th {\n",
       "        text-align: right;\n",
       "    }\n",
       "</style>\n",
       "<table border=\"1\" class=\"dataframe\">\n",
       "  <thead>\n",
       "    <tr style=\"text-align: right;\">\n",
       "      <th></th>\n",
       "      <th>CATEGORY</th>\n",
       "      <th>MESSAGES</th>\n",
       "      <th>FILE_NAME</th>\n",
       "    </tr>\n",
       "    <tr>\n",
       "      <th>DOC_ID</th>\n",
       "      <th></th>\n",
       "      <th></th>\n",
       "      <th></th>\n",
       "    </tr>\n",
       "  </thead>\n",
       "  <tbody>\n",
       "    <tr>\n",
       "      <th>0</th>\n",
       "      <td>1</td>\n",
       "      <td>&lt;!DOCTYPE HTML PUBLIC \"-//W3C//DTD HTML 4.0 Tr...</td>\n",
       "      <td>00001.7848dde101aa985090474a91ec93fcf0</td>\n",
       "    </tr>\n",
       "    <tr>\n",
       "      <th>1</th>\n",
       "      <td>1</td>\n",
       "      <td>1) Fight The Risk of Cancer!\\n\\nhttp://www.adc...</td>\n",
       "      <td>00002.d94f1b97e48ed3b553b3508d116e6a09</td>\n",
       "    </tr>\n",
       "    <tr>\n",
       "      <th>2</th>\n",
       "      <td>1</td>\n",
       "      <td>1) Fight The Risk of Cancer!\\n\\nhttp://www.adc...</td>\n",
       "      <td>00003.2ee33bc6eacdb11f38d052c44819ba6c</td>\n",
       "    </tr>\n",
       "    <tr>\n",
       "      <th>3</th>\n",
       "      <td>1</td>\n",
       "      <td>##############################################...</td>\n",
       "      <td>00004.eac8de8d759b7e74154f142194282724</td>\n",
       "    </tr>\n",
       "    <tr>\n",
       "      <th>4</th>\n",
       "      <td>1</td>\n",
       "      <td>I thought you might like these:\\n\\n1) Slim Dow...</td>\n",
       "      <td>00005.57696a39d7d84318ce497886896bf90d</td>\n",
       "    </tr>\n",
       "  </tbody>\n",
       "</table>\n",
       "</div>"
      ],
      "text/plain": [
       "        CATEGORY                                           MESSAGES  \\\n",
       "DOC_ID                                                                \n",
       "0              1  <!DOCTYPE HTML PUBLIC \"-//W3C//DTD HTML 4.0 Tr...   \n",
       "1              1  1) Fight The Risk of Cancer!\\n\\nhttp://www.adc...   \n",
       "2              1  1) Fight The Risk of Cancer!\\n\\nhttp://www.adc...   \n",
       "3              1  ##############################################...   \n",
       "4              1  I thought you might like these:\\n\\n1) Slim Dow...   \n",
       "\n",
       "                                     FILE_NAME  \n",
       "DOC_ID                                          \n",
       "0       00001.7848dde101aa985090474a91ec93fcf0  \n",
       "1       00002.d94f1b97e48ed3b553b3508d116e6a09  \n",
       "2       00003.2ee33bc6eacdb11f38d052c44819ba6c  \n",
       "3       00004.eac8de8d759b7e74154f142194282724  \n",
       "4       00005.57696a39d7d84318ce497886896bf90d  "
      ]
     },
     "execution_count": 28,
     "metadata": {},
     "output_type": "execute_result"
    }
   ],
   "source": [
    "data['FILE_NAME'] = data.index\n",
    "data = data.set_index('DOC_ID')\n",
    "data.head()\n"
   ]
  },
  {
   "cell_type": "code",
   "execution_count": 29,
   "id": "1c6f5edf",
   "metadata": {},
   "outputs": [
    {
     "data": {
      "text/html": [
       "<div>\n",
       "<style scoped>\n",
       "    .dataframe tbody tr th:only-of-type {\n",
       "        vertical-align: middle;\n",
       "    }\n",
       "\n",
       "    .dataframe tbody tr th {\n",
       "        vertical-align: top;\n",
       "    }\n",
       "\n",
       "    .dataframe thead th {\n",
       "        text-align: right;\n",
       "    }\n",
       "</style>\n",
       "<table border=\"1\" class=\"dataframe\">\n",
       "  <thead>\n",
       "    <tr style=\"text-align: right;\">\n",
       "      <th></th>\n",
       "      <th>CATEGORY</th>\n",
       "      <th>MESSAGES</th>\n",
       "      <th>FILE_NAME</th>\n",
       "    </tr>\n",
       "    <tr>\n",
       "      <th>DOC_ID</th>\n",
       "      <th></th>\n",
       "      <th></th>\n",
       "      <th></th>\n",
       "    </tr>\n",
       "  </thead>\n",
       "  <tbody>\n",
       "    <tr>\n",
       "      <th>3395</th>\n",
       "      <td>0</td>\n",
       "      <td>http://news.bbc.co.uk/1/hi/england/2515127.stm...</td>\n",
       "      <td>01396.61983fbe6ec43f55fd44e30fce24ffa6</td>\n",
       "    </tr>\n",
       "    <tr>\n",
       "      <th>3396</th>\n",
       "      <td>0</td>\n",
       "      <td>&gt; &gt;-- be careful when using this one.) Also, t...</td>\n",
       "      <td>01397.9f9ef4c2a8dc012d80f2ce2d3473d3b7</td>\n",
       "    </tr>\n",
       "    <tr>\n",
       "      <th>3397</th>\n",
       "      <td>0</td>\n",
       "      <td>&gt;&gt;&gt;&gt;&gt; \"SM\" == Skip Montanaro &lt;skip@pobox.com&gt; ...</td>\n",
       "      <td>01398.169b51731fe569f42169ae8f948ec676</td>\n",
       "    </tr>\n",
       "    <tr>\n",
       "      <th>3398</th>\n",
       "      <td>0</td>\n",
       "      <td>So then, \"Mark Hammond\" &lt;mhammond@skippinet.co...</td>\n",
       "      <td>01399.ca6b00b7b341bbde9a9ea3dd6a7bf896</td>\n",
       "    </tr>\n",
       "    <tr>\n",
       "      <th>3399</th>\n",
       "      <td>0</td>\n",
       "      <td>Hi there,\\n\\n\\n\\nNow this is probably of no us...</td>\n",
       "      <td>01400.f897f0931e461e7b2e964d28e927c35e</td>\n",
       "    </tr>\n",
       "  </tbody>\n",
       "</table>\n",
       "</div>"
      ],
      "text/plain": [
       "        CATEGORY                                           MESSAGES  \\\n",
       "DOC_ID                                                                \n",
       "3395           0  http://news.bbc.co.uk/1/hi/england/2515127.stm...   \n",
       "3396           0  > >-- be careful when using this one.) Also, t...   \n",
       "3397           0  >>>>> \"SM\" == Skip Montanaro <skip@pobox.com> ...   \n",
       "3398           0  So then, \"Mark Hammond\" <mhammond@skippinet.co...   \n",
       "3399           0  Hi there,\\n\\n\\n\\nNow this is probably of no us...   \n",
       "\n",
       "                                     FILE_NAME  \n",
       "DOC_ID                                          \n",
       "3395    01396.61983fbe6ec43f55fd44e30fce24ffa6  \n",
       "3396    01397.9f9ef4c2a8dc012d80f2ce2d3473d3b7  \n",
       "3397    01398.169b51731fe569f42169ae8f948ec676  \n",
       "3398    01399.ca6b00b7b341bbde9a9ea3dd6a7bf896  \n",
       "3399    01400.f897f0931e461e7b2e964d28e927c35e  "
      ]
     },
     "execution_count": 29,
     "metadata": {},
     "output_type": "execute_result"
    }
   ],
   "source": [
    "data.tail()"
   ]
  },
  {
   "cell_type": "markdown",
   "id": "7f4adc0d",
   "metadata": {},
   "source": [
    "# Save to file using pandas"
   ]
  },
  {
   "cell_type": "code",
   "execution_count": null,
   "id": "887fc5a1",
   "metadata": {},
   "outputs": [],
   "source": [
    "data.o_json(DATA_JSON_FILE)"
   ]
  },
  {
   "cell_type": "markdown",
   "id": "5a3b3a72",
   "metadata": {},
   "source": [
    "# Number of spam messages visualised (Pie Charts)"
   ]
  },
  {
   "cell_type": "code",
   "execution_count": 31,
   "id": "ea8cd693",
   "metadata": {},
   "outputs": [
    {
     "data": {
      "text/plain": [
       "1    2000\n",
       "0    1400\n",
       "Name: CATEGORY, dtype: int64"
      ]
     },
     "execution_count": 31,
     "metadata": {},
     "output_type": "execute_result"
    }
   ],
   "source": [
    "data.CATEGORY.value_counts()"
   ]
  },
  {
   "cell_type": "code",
   "execution_count": 45,
   "id": "02b27b42",
   "metadata": {},
   "outputs": [],
   "source": [
    "amount_of_spam = data.CATEGORY.value_counts()[0]\n",
    "amount_of_ham = data.CATEGORY.value_counts()[1]"
   ]
  },
  {
   "cell_type": "code",
   "execution_count": 48,
   "id": "159be6c4",
   "metadata": {},
   "outputs": [
    {
     "data": {
      "image/png": "[encoded data removed]",
      "text/plain": [
       "<Figure size 454x454 with 1 Axes>"
      ]
     },
     "metadata": {},
     "output_type": "display_data"
    }
   ],
   "source": [
    "category_names = ['Spam', 'Legit Mail']\n",
    "sizes = [amount_of_spam, amount_of_ham]\n",
    "\n",
    "plt.figure(figsize = (2,2), dpi = 227)\n",
    "plt.pie(sizes, labels = category_names, textprops = {'fontsize': 6}, startangle = 90, autopct = '%1.1f%%' )\n",
    "plt.show()"
   ]
  },
  {
   "cell_type": "code",
   "execution_count": null,
   "id": "ffd5a4c9",
   "metadata": {},
   "outputs": [],
   "source": []
  },
  {
   "cell_type": "code",
   "execution_count": 51,
   "id": "7ffde792",
   "metadata": {},
   "outputs": [
    {
     "data": {
      "image/png": "[encoded data removed]",
      "text/plain": [
       "<Figure size 454x454 with 1 Axes>"
      ]
     },
     "metadata": {},
     "output_type": "display_data"
    }
   ],
   "source": [
    "category_names = ['Spam', 'Legit Mail']\n",
    "sizes = [amount_of_spam, amount_of_ham]\n",
    "custom_colors = ['#ff7675', '#74b9ff']\n",
    "plt.figure(figsize = (2,2), dpi = 227)\n",
    "plt.pie(sizes, labels = category_names, textprops = {'fontsize': 6}, startangle = 90, autopct = '%1.1f%%', \n",
    "        colors = custom_colors, explode = [0, 0.1] )\n",
    "plt.show()"
   ]
  },
  {
   "cell_type": "code",
   "execution_count": null,
   "id": "7b5d40fa",
   "metadata": {},
   "outputs": [],
   "source": []
  },
  {
   "cell_type": "code",
   "execution_count": 57,
   "id": "788d30d8",
   "metadata": {},
   "outputs": [
    {
     "data": {
      "image/png": "[encoded data removed]",
      "text/plain": [
       "<Figure size 454x454 with 1 Axes>"
      ]
     },
     "metadata": {},
     "output_type": "display_data"
    }
   ],
   "source": [
    "category_names = ['Spam', 'Legit Mail']\n",
    "sizes = [amount_of_spam, amount_of_ham]\n",
    "custom_colors = ['#ff7675', '#74b9ff']\n",
    "plt.figure(figsize = (2,2), dpi = 227)\n",
    "plt.pie(sizes, labels = category_names, textprops = {'fontsize': 6}, startangle = 90, autopct = '%1.0f%%', \n",
    "        colors = custom_colors, pctdistance =0.8 )\n",
    "\n",
    "#drawing a circle\n",
    "centre_circle = plt.Circle((0,0), radius =0.5, fc = 'white')\n",
    "plt.gca().add_artist(centre_circle)\n",
    "plt.show()"
   ]
  },
  {
   "cell_type": "markdown",
   "id": "9e099990",
   "metadata": {},
   "source": [
    "# Natural langusge Processing"
   ]
  },
  {
   "cell_type": "markdown",
   "id": "34fe46c4",
   "metadata": {},
   "source": [
    "### Text Pre-Processing"
   ]
  },
  {
   "cell_type": "code",
   "execution_count": 65,
   "id": "0ce669e1",
   "metadata": {},
   "outputs": [
    {
     "data": {
      "text/plain": [
       "'all work and no play makes jack a dull boy.'"
      ]
     },
     "execution_count": 65,
     "metadata": {},
     "output_type": "execute_result"
    }
   ],
   "source": [
    "# converting to lower case\n",
    "msg = 'All work and no play makes Jack a dull boy.'\n",
    "msg. lower()"
   ]
  },
  {
   "cell_type": "markdown",
   "id": "cd7d3c3e",
   "metadata": {},
   "source": [
    "## Download NLTK resourses (Tokensizer & Stopwords)"
   ]
  },
  {
   "cell_type": "code",
   "execution_count": null,
   "id": "11ff650b",
   "metadata": {},
   "outputs": [],
   "source": []
  }
 ],
 "metadata": {
  "kernelspec": {
   "display_name": "Python 3 (ipykernel)",
   "language": "python",
   "name": "python3"
  },
  "language_info": {
   "codemirror_mode": {
    "name": "ipython",
    "version": 3
   },
   "file_extension": ".py",
   "mimetype": "text/x-python",
   "name": "python",
   "nbconvert_exporter": "python",
   "pygments_lexer": "ipython3",
   "version": "3.9.7"
  }
 },
 "nbformat": 4,
 "nbformat_minor": 5
}
